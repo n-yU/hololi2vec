{
 "cells": [
  {
   "cell_type": "markdown",
   "id": "postal-celtic",
   "metadata": {},
   "source": [
    "# Gather Data <a class=\"tocSkip\">"
   ]
  },
  {
   "cell_type": "code",
   "execution_count": 1,
   "id": "heard-special",
   "metadata": {},
   "outputs": [],
   "source": [
    "%load_ext autoreload\n",
    "%autoreload 2"
   ]
  },
  {
   "cell_type": "code",
   "execution_count": 119,
   "id": "exclusive-stephen",
   "metadata": {},
   "outputs": [
    {
     "data": {
      "text/plain": [
       "PosixPath('/Users/nyu/gdrive/learn/hololi2vec')"
      ]
     },
     "execution_count": 119,
     "metadata": {},
     "output_type": "execute_result"
    }
   ],
   "source": [
    "import sys\n",
    "import tweepy\n",
    "import pickle\n",
    "from pathlib import Path\n",
    "\n",
    "import pandas as pd\n",
    "import numpy as np\n",
    "import matplotlib.pyplot as plt\n",
    "import japanize_matplotlib\n",
    "from tqdm import tqdm_notebook\n",
    "from datetime import datetime as dt\n",
    "\n",
    "sys.path.append('../bin')\n",
    "import myutil\n",
    "import dataset\n",
    "from dataset import Holomem\n",
    "\n",
    "prj_path = myutil.PROJECT_PATH\n",
    "prj_path"
   ]
  },
  {
   "cell_type": "markdown",
   "id": "legal-breast",
   "metadata": {
    "toc": true
   },
   "source": [
    "<h1>目次<span class=\"tocSkip\"></span></h1>\n",
    "<div class=\"toc\"><ul class=\"toc-item\"><li><span><a href=\"#Tweepyを触ってみる\" data-toc-modified-id=\"Tweepyを触ってみる-1\"><span class=\"toc-item-num\">1&nbsp;&nbsp;</span>Tweepyを触ってみる</a></span><ul class=\"toc-item\"><li><span><a href=\"#Hello-Tweepy!\" data-toc-modified-id=\"Hello-Tweepy!-1.1\"><span class=\"toc-item-num\">1.1&nbsp;&nbsp;</span>Hello Tweepy!</a></span></li><li><span><a href=\"#特定ユーザのツイート取得\" data-toc-modified-id=\"特定ユーザのツイート取得-1.2\"><span class=\"toc-item-num\">1.2&nbsp;&nbsp;</span>特定ユーザのツイート取得</a></span></li></ul></li><li><span><a href=\"#Holomemクラス\" data-toc-modified-id=\"Holomemクラス-2\"><span class=\"toc-item-num\">2&nbsp;&nbsp;</span>Holomemクラス</a></span><ul class=\"toc-item\"><li><span><a href=\"#ホロライブメンバーデータ作成\" data-toc-modified-id=\"ホロライブメンバーデータ作成-2.1\"><span class=\"toc-item-num\">2.1&nbsp;&nbsp;</span>ホロライブメンバーデータ作成</a></span></li><li><span><a href=\"#インスタンス生成\" data-toc-modified-id=\"インスタンス生成-2.2\"><span class=\"toc-item-num\">2.2&nbsp;&nbsp;</span>インスタンス生成</a></span></li></ul></li><li><span><a href=\"#ホロメンツイートデータ収集\" data-toc-modified-id=\"ホロメンツイートデータ収集-3\"><span class=\"toc-item-num\">3&nbsp;&nbsp;</span>ホロメンツイートデータ収集</a></span><ul class=\"toc-item\"><li><span><a href=\"#ツイート総数確認\" data-toc-modified-id=\"ツイート総数確認-3.1\"><span class=\"toc-item-num\">3.1&nbsp;&nbsp;</span>ツイート総数確認</a></span></li><li><span><a href=\"#ツイート収集\" data-toc-modified-id=\"ツイート収集-3.2\"><span class=\"toc-item-num\">3.2&nbsp;&nbsp;</span>ツイート収集</a></span></li><li><span><a href=\"#ツイートデータ収集方法再検討\" data-toc-modified-id=\"ツイートデータ収集方法再検討-3.3\"><span class=\"toc-item-num\">3.3&nbsp;&nbsp;</span>ツイートデータ収集方法再検討</a></span></li><li><span><a href=\"#APIの設定でRTを省かない場合の検証\" data-toc-modified-id=\"APIの設定でRTを省かない場合の検証-3.4\"><span class=\"toc-item-num\">3.4&nbsp;&nbsp;</span>APIの設定でRTを省かない場合の検証</a></span></li><li><span><a href=\"#ツイート再収集\" data-toc-modified-id=\"ツイート再収集-3.5\"><span class=\"toc-item-num\">3.5&nbsp;&nbsp;</span>ツイート再収集</a></span></li></ul></li></ul></div>"
   ]
  },
  {
   "cell_type": "code",
   "execution_count": null,
   "id": "neutral-ebony",
   "metadata": {},
   "outputs": [],
   "source": []
  },
  {
   "cell_type": "markdown",
   "id": "cellular-completion",
   "metadata": {},
   "source": [
    "# Tweepyを触ってみる\n",
    "- ツイートの出力結果はコミット時にすべて消去\n",
    "- 参考: https://qiita.com/kitarikes/items/543ab75a379f0bf903cc\n",
    "- 公式doc.: https://docs.tweepy.org/en/latest/index.html"
   ]
  },
  {
   "cell_type": "markdown",
   "id": "remarkable-sister",
   "metadata": {},
   "source": [
    "## Hello Tweepy!\n",
    "- `tweepy.API()`のオプションとして，`wait_on_rate_limit`と`wait_on_rate_limit_notify`をいずれも`True`にすることで，APIのレート制限をハンドリングできる\n",
    "- 参考: https://compass-note.hatenablog.com/entry/twitter-api-tweepy-rate-limit"
   ]
  },
  {
   "cell_type": "code",
   "execution_count": 12,
   "id": "promotional-partnership",
   "metadata": {},
   "outputs": [],
   "source": [
    "api_key, api_secret, access_token, access_secret = myutil.load_twitter_api_keys()\n",
    "\n",
    "auth = tweepy.OAuthHandler(api_key, api_secret)\n",
    "auth.set_access_token(access_token, access_secret)\n",
    "api = tweepy.API(auth, wait_on_rate_limit=True, wait_on_rate_limit_notify=True)"
   ]
  },
  {
   "cell_type": "code",
   "execution_count": null,
   "id": "certified-study",
   "metadata": {},
   "outputs": [],
   "source": [
    "public_tweets = api.home_timeline(count=3)\n",
    "for tweet in public_tweets:\n",
    "    print('-------------------------')\n",
    "    print(tweet.user.name)\n",
    "    print(tweet.text)"
   ]
  },
  {
   "cell_type": "markdown",
   "id": "constant-update",
   "metadata": {},
   "source": [
    "## 特定ユーザのツイート取得\n",
    "- 公式doc. https://docs.tweepy.org/en/latest/api.html#API.user_timeline\n",
    "- リプは**含める**が，RTは**含めない**"
   ]
  },
  {
   "cell_type": "code",
   "execution_count": 173,
   "id": "egyptian-anthony",
   "metadata": {},
   "outputs": [],
   "source": [
    "# シオンよ...\n",
    "shion = 'murasakishionch'"
   ]
  },
  {
   "cell_type": "markdown",
   "id": "noble-glenn",
   "metadata": {},
   "source": [
    "シオンちゃんの最新1000ツイートを取得してみる"
   ]
  },
  {
   "cell_type": "code",
   "execution_count": 49,
   "id": "electoral-parallel",
   "metadata": {},
   "outputs": [
    {
     "name": "stdout",
     "output_type": "stream",
     "text": [
      "CPU times: user 977 ms, sys: 69.8 ms, total: 1.05 s\n",
      "Wall time: 14 s\n"
     ]
    }
   ],
   "source": [
    "%%time\n",
    "shion_tweets = [tweet for tweet in tweepy.Cursor(api.user_timeline, screen_name=shion, include_rts=False).items(1000)]"
   ]
  },
  {
   "cell_type": "code",
   "execution_count": null,
   "id": "present-blocking",
   "metadata": {},
   "outputs": [],
   "source": [
    "for tweet in shion_tweets[:5]:\n",
    "    print('-------------------------')\n",
    "    print(tweet.created_at)\n",
    "    print(tweet.text)"
   ]
  },
  {
   "cell_type": "markdown",
   "id": "acute-question",
   "metadata": {},
   "source": [
    "pkl形式で保存"
   ]
  },
  {
   "cell_type": "code",
   "execution_count": 133,
   "id": "cloudy-trash",
   "metadata": {},
   "outputs": [],
   "source": [
    "with open(Path(prj_path, 'data/tweets_murasakishionch_1000.pkl'), mode='wb') as f:\n",
    "    pickle.dump(shion_tweets, f)"
   ]
  },
  {
   "cell_type": "code",
   "execution_count": 134,
   "id": "aboriginal-translator",
   "metadata": {},
   "outputs": [
    {
     "data": {
      "text/plain": [
       "tweepy.models.Status"
      ]
     },
     "execution_count": 134,
     "metadata": {},
     "output_type": "execute_result"
    }
   ],
   "source": [
    "type(shion_tweets[0])"
   ]
  },
  {
   "cell_type": "markdown",
   "id": "suburban-while",
   "metadata": {},
   "source": [
    "ツイートデータからデータフレーム作成"
   ]
  },
  {
   "cell_type": "code",
   "execution_count": 135,
   "id": "applicable-fountain",
   "metadata": {},
   "outputs": [],
   "source": [
    "with open(Path(prj_path, 'data/tweets_murasakishionch_1000.pkl'), mode='rb') as f:\n",
    "    shion_tweets = pickle.load(f)"
   ]
  },
  {
   "cell_type": "markdown",
   "id": "legal-accuracy",
   "metadata": {},
   "source": [
    "- データフレームにはツイートのユーザID(Twitter ID)，投稿日時，テキストのみ含める\n",
    "- 基本的には以後の分析ではこの3つのデータのみ扱う"
   ]
  },
  {
   "cell_type": "code",
   "execution_count": null,
   "id": "positive-energy",
   "metadata": {},
   "outputs": [],
   "source": [
    "shion_tweets_data = [[] for _ in range(1000)]\n",
    "for idx, tweet in enumerate(shion_tweets):\n",
    "    data = [tweet.user.screen_name, tweet.created_at, tweet.text]\n",
    "    shion_tweets_data[idx] = data\n",
    "    \n",
    "shion_tweets_df = pd.DataFrame(shion_tweets_data, columns=['userId', 'timestamp', 'text'])\n",
    "shion_tweets_df.head()"
   ]
  },
  {
   "cell_type": "code",
   "execution_count": 181,
   "id": "listed-scholarship",
   "metadata": {},
   "outputs": [
    {
     "data": {
      "text/plain": [
       "userId               object\n",
       "timestamp    datetime64[ns]\n",
       "text                 object\n",
       "dtype: object"
      ]
     },
     "execution_count": 181,
     "metadata": {},
     "output_type": "execute_result"
    }
   ],
   "source": [
    "shion_tweets_df.dtypes"
   ]
  },
  {
   "cell_type": "markdown",
   "id": "australian-nevada",
   "metadata": {},
   "source": [
    "- tsv形式で保存\n",
    "- ツイートにカンマが含まれていると面倒なため（一応`text`は最後の列なのでcsv形式でも影響はないが，もし今後順番を入れ替えたりなどして崩壊するのを避けるため）"
   ]
  },
  {
   "cell_type": "code",
   "execution_count": 182,
   "id": "green-alpha",
   "metadata": {},
   "outputs": [],
   "source": [
    "shion_tweets_df_path = Path(prj_path, 'data/tweets_murasakishionch_1000.tsv')\n",
    "shion_tweets_df.to_csv(shion_tweets_df_path, sep='\\t', index=True)"
   ]
  },
  {
   "cell_type": "code",
   "execution_count": null,
   "id": "theoretical-option",
   "metadata": {},
   "outputs": [],
   "source": [
    "shion_tweets_df_ = pd.read_csv(shion_tweets_df_path, sep='\\t')\n",
    "shion_tweets_df.head()"
   ]
  },
  {
   "cell_type": "code",
   "execution_count": null,
   "id": "rubber-flour",
   "metadata": {},
   "outputs": [],
   "source": []
  },
  {
   "cell_type": "markdown",
   "id": "female-cooking",
   "metadata": {},
   "source": [
    "# Holomemクラス\n",
    "ホロライブメンバーのクラス`Holomen`を作って，ツイートデータなどをメンバーごとに管理する"
   ]
  },
  {
   "cell_type": "markdown",
   "id": "divided-postage",
   "metadata": {},
   "source": [
    "## ホロライブメンバーデータ作成\n",
    "- ホロライブタブのメンバーが対象: https://www.hololive.tv/member （ホロスタ・イノミュ・ID・ENに属するメンバー除く）\n",
    "- 順番は上のサイトの掲載順（上から左から）\n",
    "- 0期: 4人（すいちゃん含む） / 1期: 5人 / 2期: 5人 / ゲーマーズ: 4人（フブキング兼任） / 3期: 5人 / 4期: 5人 / 5期: 5人"
   ]
  },
  {
   "cell_type": "code",
   "execution_count": 4,
   "id": "funky-castle",
   "metadata": {},
   "outputs": [
    {
     "data": {
      "text/html": [
       "<div>\n",
       "<style scoped>\n",
       "    .dataframe tbody tr th:only-of-type {\n",
       "        vertical-align: middle;\n",
       "    }\n",
       "\n",
       "    .dataframe tbody tr th {\n",
       "        vertical-align: top;\n",
       "    }\n",
       "\n",
       "    .dataframe thead th {\n",
       "        text-align: right;\n",
       "    }\n",
       "</style>\n",
       "<table border=\"1\" class=\"dataframe\">\n",
       "  <thead>\n",
       "    <tr style=\"text-align: right;\">\n",
       "      <th></th>\n",
       "      <th>twitter</th>\n",
       "      <th>name</th>\n",
       "      <th>generation</th>\n",
       "    </tr>\n",
       "  </thead>\n",
       "  <tbody>\n",
       "    <tr>\n",
       "      <th>0</th>\n",
       "      <td>tokino_sora</td>\n",
       "      <td>ときのそら</td>\n",
       "      <td>0</td>\n",
       "    </tr>\n",
       "    <tr>\n",
       "      <th>1</th>\n",
       "      <td>robocosan</td>\n",
       "      <td>ロボ子さん</td>\n",
       "      <td>0</td>\n",
       "    </tr>\n",
       "    <tr>\n",
       "      <th>2</th>\n",
       "      <td>sakuramiko35</td>\n",
       "      <td>さくらみこ</td>\n",
       "      <td>0</td>\n",
       "    </tr>\n",
       "    <tr>\n",
       "      <th>3</th>\n",
       "      <td>suisei_hosimati</td>\n",
       "      <td>星街すいせい</td>\n",
       "      <td>0</td>\n",
       "    </tr>\n",
       "    <tr>\n",
       "      <th>4</th>\n",
       "      <td>yozoramel</td>\n",
       "      <td>夜空メル</td>\n",
       "      <td>1</td>\n",
       "    </tr>\n",
       "    <tr>\n",
       "      <th>5</th>\n",
       "      <td>shirakamifubuki</td>\n",
       "      <td>白上フブキ</td>\n",
       "      <td>1/gamers</td>\n",
       "    </tr>\n",
       "    <tr>\n",
       "      <th>6</th>\n",
       "      <td>natsuiromatsuri</td>\n",
       "      <td>夏色まつり</td>\n",
       "      <td>1</td>\n",
       "    </tr>\n",
       "    <tr>\n",
       "      <th>7</th>\n",
       "      <td>akaihaato</td>\n",
       "      <td>赤井はあと</td>\n",
       "      <td>1</td>\n",
       "    </tr>\n",
       "    <tr>\n",
       "      <th>8</th>\n",
       "      <td>akirosenthal</td>\n",
       "      <td>アキ・ローゼンタール</td>\n",
       "      <td>1</td>\n",
       "    </tr>\n",
       "    <tr>\n",
       "      <th>9</th>\n",
       "      <td>minatoaqua</td>\n",
       "      <td>湊あくあ</td>\n",
       "      <td>2</td>\n",
       "    </tr>\n",
       "    <tr>\n",
       "      <th>10</th>\n",
       "      <td>nakiriayame</td>\n",
       "      <td>百鬼あやめ</td>\n",
       "      <td>2</td>\n",
       "    </tr>\n",
       "    <tr>\n",
       "      <th>11</th>\n",
       "      <td>yuzukichococh</td>\n",
       "      <td>癒月ちょこ</td>\n",
       "      <td>2</td>\n",
       "    </tr>\n",
       "    <tr>\n",
       "      <th>12</th>\n",
       "      <td>murasakishionch</td>\n",
       "      <td>紫咲シオン</td>\n",
       "      <td>2</td>\n",
       "    </tr>\n",
       "    <tr>\n",
       "      <th>13</th>\n",
       "      <td>oozorasubaru</td>\n",
       "      <td>大空スバル</td>\n",
       "      <td>2</td>\n",
       "    </tr>\n",
       "    <tr>\n",
       "      <th>14</th>\n",
       "      <td>ookamimio</td>\n",
       "      <td>大神ミオ</td>\n",
       "      <td>gamers</td>\n",
       "    </tr>\n",
       "    <tr>\n",
       "      <th>15</th>\n",
       "      <td>nekomataokayu</td>\n",
       "      <td>猫又おかゆ</td>\n",
       "      <td>gamers</td>\n",
       "    </tr>\n",
       "    <tr>\n",
       "      <th>16</th>\n",
       "      <td>inugamikorone</td>\n",
       "      <td>戌神ころね</td>\n",
       "      <td>gamers</td>\n",
       "    </tr>\n",
       "    <tr>\n",
       "      <th>17</th>\n",
       "      <td>shiranuiflare</td>\n",
       "      <td>不知火フレア</td>\n",
       "      <td>3</td>\n",
       "    </tr>\n",
       "    <tr>\n",
       "      <th>18</th>\n",
       "      <td>shiroganenoel</td>\n",
       "      <td>白銀ノエル</td>\n",
       "      <td>3</td>\n",
       "    </tr>\n",
       "    <tr>\n",
       "      <th>19</th>\n",
       "      <td>houshoumarine</td>\n",
       "      <td>宝鐘マリン</td>\n",
       "      <td>3</td>\n",
       "    </tr>\n",
       "    <tr>\n",
       "      <th>20</th>\n",
       "      <td>usadapekora</td>\n",
       "      <td>兎田ぺこら</td>\n",
       "      <td>3</td>\n",
       "    </tr>\n",
       "    <tr>\n",
       "      <th>21</th>\n",
       "      <td>uruharushia</td>\n",
       "      <td>潤羽るしあ</td>\n",
       "      <td>3</td>\n",
       "    </tr>\n",
       "    <tr>\n",
       "      <th>22</th>\n",
       "      <td>amanekanatach</td>\n",
       "      <td>天音かなた</td>\n",
       "      <td>4</td>\n",
       "    </tr>\n",
       "    <tr>\n",
       "      <th>23</th>\n",
       "      <td>kiryucoco</td>\n",
       "      <td>桐生ココ</td>\n",
       "      <td>4</td>\n",
       "    </tr>\n",
       "    <tr>\n",
       "      <th>24</th>\n",
       "      <td>tsunomakiwatame</td>\n",
       "      <td>角巻わため</td>\n",
       "      <td>4</td>\n",
       "    </tr>\n",
       "    <tr>\n",
       "      <th>25</th>\n",
       "      <td>tokoyamitowa</td>\n",
       "      <td>常闇トワ</td>\n",
       "      <td>4</td>\n",
       "    </tr>\n",
       "    <tr>\n",
       "      <th>26</th>\n",
       "      <td>himemoriluna</td>\n",
       "      <td>姫森ルーナ</td>\n",
       "      <td>4</td>\n",
       "    </tr>\n",
       "    <tr>\n",
       "      <th>27</th>\n",
       "      <td>yukihanalamy</td>\n",
       "      <td>雪花ラミィ</td>\n",
       "      <td>5</td>\n",
       "    </tr>\n",
       "    <tr>\n",
       "      <th>28</th>\n",
       "      <td>momosuzunene</td>\n",
       "      <td>桃鈴ねね</td>\n",
       "      <td>5</td>\n",
       "    </tr>\n",
       "    <tr>\n",
       "      <th>29</th>\n",
       "      <td>shishirobotan</td>\n",
       "      <td>獅白ぼたん</td>\n",
       "      <td>5</td>\n",
       "    </tr>\n",
       "    <tr>\n",
       "      <th>30</th>\n",
       "      <td>omarupolka</td>\n",
       "      <td>尾丸ポルカ</td>\n",
       "      <td>5</td>\n",
       "    </tr>\n",
       "  </tbody>\n",
       "</table>\n",
       "</div>"
      ],
      "text/plain": [
       "            twitter        name generation\n",
       "0       tokino_sora       ときのそら          0\n",
       "1         robocosan       ロボ子さん          0\n",
       "2      sakuramiko35       さくらみこ          0\n",
       "3   suisei_hosimati      星街すいせい          0\n",
       "4         yozoramel        夜空メル          1\n",
       "5   shirakamifubuki       白上フブキ   1/gamers\n",
       "6   natsuiromatsuri       夏色まつり          1\n",
       "7         akaihaato       赤井はあと          1\n",
       "8      akirosenthal  アキ・ローゼンタール          1\n",
       "9        minatoaqua        湊あくあ          2\n",
       "10      nakiriayame       百鬼あやめ          2\n",
       "11    yuzukichococh       癒月ちょこ          2\n",
       "12  murasakishionch       紫咲シオン          2\n",
       "13     oozorasubaru       大空スバル          2\n",
       "14        ookamimio        大神ミオ     gamers\n",
       "15    nekomataokayu       猫又おかゆ     gamers\n",
       "16    inugamikorone       戌神ころね     gamers\n",
       "17    shiranuiflare      不知火フレア          3\n",
       "18    shiroganenoel       白銀ノエル          3\n",
       "19    houshoumarine       宝鐘マリン          3\n",
       "20      usadapekora       兎田ぺこら          3\n",
       "21      uruharushia       潤羽るしあ          3\n",
       "22    amanekanatach       天音かなた          4\n",
       "23        kiryucoco        桐生ココ          4\n",
       "24  tsunomakiwatame       角巻わため          4\n",
       "25     tokoyamitowa        常闇トワ          4\n",
       "26     himemoriluna       姫森ルーナ          4\n",
       "27     yukihanalamy       雪花ラミィ          5\n",
       "28     momosuzunene        桃鈴ねね          5\n",
       "29    shishirobotan       獅白ぼたん          5\n",
       "30       omarupolka       尾丸ポルカ          5"
      ]
     },
     "execution_count": 4,
     "metadata": {},
     "output_type": "execute_result"
    }
   ],
   "source": [
    "hololive_members = pd.read_csv(Path(prj_path, 'data/hololive_members.csv'))\n",
    "hololive_members"
   ]
  },
  {
   "cell_type": "markdown",
   "id": "unusual-lunch",
   "metadata": {},
   "source": [
    "## インスタンス生成\n",
    "- シオンちゃんを例に作る\n",
    "- 取得ツイート数はとりあえず1000に設定"
   ]
  },
  {
   "cell_type": "code",
   "execution_count": null,
   "id": "drawn-hampton",
   "metadata": {},
   "outputs": [],
   "source": [
    "shion_1000 = Holomem(userId='murasakishionch', n_tweet=1000, verbose=True, preview=True)"
   ]
  },
  {
   "cell_type": "code",
   "execution_count": 199,
   "id": "becoming-generation",
   "metadata": {},
   "outputs": [
    {
     "data": {
      "text/plain": [
       "('murasakishionch', '紫咲シオン', {'2'})"
      ]
     },
     "execution_count": 199,
     "metadata": {},
     "output_type": "execute_result"
    }
   ],
   "source": [
    "shion_1000.userId, shion_1000.name, shion_1000.generation"
   ]
  },
  {
   "cell_type": "code",
   "execution_count": null,
   "id": "dedicated-childhood",
   "metadata": {},
   "outputs": [],
   "source": [
    "shion_1000.df.head()"
   ]
  },
  {
   "cell_type": "code",
   "execution_count": null,
   "id": "mobile-bible",
   "metadata": {},
   "outputs": [],
   "source": []
  },
  {
   "cell_type": "markdown",
   "id": "infinite-ebony",
   "metadata": {},
   "source": [
    "# ホロメンツイートデータ収集"
   ]
  },
  {
   "cell_type": "markdown",
   "id": "minute-valve",
   "metadata": {},
   "source": [
    "## ツイート総数確認\n",
    "メンバーあたり過去何件分のツイートが取得できそうか，現時点の総ツイート数の全体的な傾向から判断する"
   ]
  },
  {
   "cell_type": "code",
   "execution_count": 5,
   "id": "opposed-rehabilitation",
   "metadata": {},
   "outputs": [
    {
     "data": {
      "text/plain": [
       "(31,\n",
       " array(['tokino_sora', 'robocosan', 'sakuramiko35', 'suisei_hosimati',\n",
       "        'yozoramel', 'shirakamifubuki', 'natsuiromatsuri', 'akaihaato',\n",
       "        'akirosenthal', 'minatoaqua', 'nakiriayame', 'yuzukichococh',\n",
       "        'murasakishionch', 'oozorasubaru', 'ookamimio', 'nekomataokayu',\n",
       "        'inugamikorone', 'shiranuiflare', 'shiroganenoel', 'houshoumarine',\n",
       "        'usadapekora', 'uruharushia', 'amanekanatach', 'kiryucoco',\n",
       "        'tsunomakiwatame', 'tokoyamitowa', 'himemoriluna', 'yukihanalamy',\n",
       "        'momosuzunene', 'shishirobotan', 'omarupolka'], dtype=object))"
      ]
     },
     "execution_count": 5,
     "metadata": {},
     "output_type": "execute_result"
    }
   ],
   "source": [
    "holomem_all_twitter = hololive_members['twitter'].values\n",
    "n_holomem = holomem_all_twitter.shape[0]\n",
    "\n",
    "n_holomem, holomem_all_twitter"
   ]
  },
  {
   "cell_type": "code",
   "execution_count": 213,
   "id": "secret-grove",
   "metadata": {},
   "outputs": [
    {
     "name": "stdout",
     "output_type": "stream",
     "text": [
      "CPU times: user 427 ms, sys: 24.4 ms, total: 452 ms\n",
      "Wall time: 5.46 s\n"
     ]
    },
    {
     "data": {
      "text/plain": [
       "array([21999, 40475, 31488, 11365, 16145, 80418, 39645, 17940, 34840,\n",
       "       13619, 11305, 21698, 13918, 16438, 11236, 11764, 15300, 16433,\n",
       "        8046, 15097,  9083, 13952,  7839,  8574, 12926,  7105,  3942,\n",
       "       10271,  3637,  6572,  5351])"
      ]
     },
     "execution_count": 213,
     "metadata": {},
     "output_type": "execute_result"
    }
   ],
   "source": [
    "%%time\n",
    "holomem_all_sum_tweet = np.zeros(n_holomem, dtype=int)\n",
    "for idx, userId in enumerate(holomem_all_twitter):\n",
    "    holomem_all_sum_tweet[idx] = api.get_user(screen_name=userId).statuses_count\n",
    "    \n",
    "holomem_all_sum_tweet"
   ]
  },
  {
   "cell_type": "code",
   "execution_count": 267,
   "id": "challenging-interview",
   "metadata": {},
   "outputs": [
    {
     "data": {
      "image/png": "[encoded data removed]",
      "text/plain": [
       "<Figure size 1152x864 with 1 Axes>"
      ]
     },
     "metadata": {
      "needs_background": "light"
     },
     "output_type": "display_data"
    }
   ],
   "source": [
    "holomem_idx = np.arange(n_holomem)[::-1]\n",
    "\n",
    "fig, ax = plt.subplots(figsize=(16, 12))\n",
    "ax.set_title('ホロメン総ツイート数 ({})'.format(dt.now().strftime('%Y.%m.%d %H:%M 時点')), size=24)\n",
    "rect = ax.barh(np.arange(n_holomem), holomem_all_sum_tweet[::-1])\n",
    "\n",
    "ax.set_xlabel('ツイート数', size=20)\n",
    "ax.tick_params(axis='x', labelsize=16)\n",
    "\n",
    "ax.set_ylabel('ホロメン', size=20)\n",
    "ax.set_yticks(holomem_idx)\n",
    "ax.set_yticklabels(holomem_all_twitter, size=16)\n",
    "ax.grid()\n",
    "ax.set_xlim(xmax=90000)\n",
    "\n",
    "for x, y in zip(holomem_all_sum_tweet[::-1], holomem_idx[::-1]):\n",
    "    ax.text(x, y, x, ha='left', va='center', size=16)\n",
    "\n",
    "fig.savefig(Path(prj_path, 'result/01_Gather_Data/holomem_tweet_sum.png'), bbox_inches='tight', pad_inches=0)"
   ]
  },
  {
   "cell_type": "markdown",
   "id": "driving-knight",
   "metadata": {},
   "source": [
    "- ホロメンは告知やイラストなどRTが多いことが予想され，実際に自身で送信しているツイート（リプ含む）は半分ぐらいであることが考えられる\n",
    "- 各メンバーのツイートを1/2にして考えると，5期の一部メンバーを除いて約4000件は各メンバー取得できそう\n",
    "- 各メンバーに対し，過去4000件のツイート（RT除く）を取得する方針に決定\n",
    "- もし不足する場合は上限数までの取得に留める"
   ]
  },
  {
   "cell_type": "markdown",
   "id": "changing-marriage",
   "metadata": {},
   "source": [
    "## ツイート収集"
   ]
  },
  {
   "cell_type": "code",
   "execution_count": 270,
   "id": "acoustic-worthy",
   "metadata": {},
   "outputs": [
    {
     "data": {
      "text/plain": [
       "(31,\n",
       " array(['tokino_sora', 'robocosan', 'sakuramiko35', 'suisei_hosimati',\n",
       "        'yozoramel', 'shirakamifubuki', 'natsuiromatsuri', 'akaihaato',\n",
       "        'akirosenthal', 'minatoaqua', 'nakiriayame', 'yuzukichococh',\n",
       "        'murasakishionch', 'oozorasubaru', 'ookamimio', 'nekomataokayu',\n",
       "        'inugamikorone', 'shiranuiflare', 'shiroganenoel', 'houshoumarine',\n",
       "        'usadapekora', 'uruharushia', 'amanekanatach', 'kiryucoco',\n",
       "        'tsunomakiwatame', 'tokoyamitowa', 'himemoriluna', 'yukihanalamy',\n",
       "        'momosuzunene', 'shishirobotan', 'omarupolka'], dtype=object))"
      ]
     },
     "execution_count": 270,
     "metadata": {},
     "output_type": "execute_result"
    }
   ],
   "source": [
    "n_holomem, holomem_all_twitter"
   ]
  },
  {
   "cell_type": "markdown",
   "id": "reserved-character",
   "metadata": {},
   "source": [
    "2021年2月23日22:10頃(JST)より取得開始"
   ]
  },
  {
   "cell_type": "code",
   "execution_count": 275,
   "id": "confused-mitchell",
   "metadata": {},
   "outputs": [
    {
     "name": "stderr",
     "output_type": "stream",
     "text": [
      "<timed exec>:1: TqdmDeprecationWarning: This function will be removed in tqdm==5.0.0\n",
      "Please use `tqdm.notebook.tqdm` instead of `tqdm.tqdm_notebook`\n"
     ]
    },
    {
     "data": {
      "application/vnd.jupyter.widget-view+json": {
       "model_id": "aeed32a57d4e41898923bdada212a42f",
       "version_major": 2,
       "version_minor": 0
      },
      "text/plain": [
       "  0%|          | 0/31 [00:00<?, ?it/s]"
      ]
     },
     "metadata": {},
     "output_type": "display_data"
    },
    {
     "name": "stderr",
     "output_type": "stream",
     "text": [
      "[myutil] 以下パスにツイートデータを保存しました\n",
      "[myutil] /Users/nyu/gdrive/learn/hololi2vec/data/tweets_tokino_sora_4000.pkl\n",
      "[myutil] 以下パスにツイートデータを保存しました\n",
      "[myutil] /Users/nyu/gdrive/learn/hololi2vec/data/tweets_robocosan_4000.pkl\n",
      "[myutil] 以下パスにツイートデータを保存しました\n",
      "[myutil] /Users/nyu/gdrive/learn/hololi2vec/data/tweets_sakuramiko35_4000.pkl\n",
      "[myutil] 以下パスにツイートデータを保存しました\n",
      "[myutil] /Users/nyu/gdrive/learn/hololi2vec/data/tweets_suisei_hosimati_4000.pkl\n",
      "[myutil] 以下パスにツイートデータを保存しました\n",
      "[myutil] /Users/nyu/gdrive/learn/hololi2vec/data/tweets_yozoramel_4000.pkl\n",
      "[myutil] 以下パスにツイートデータを保存しました\n",
      "[myutil] /Users/nyu/gdrive/learn/hololi2vec/data/tweets_shirakamifubuki_4000.pkl\n",
      "[myutil] Rate limit reached. Sleeping for: 302\n",
      "[myutil] 以下パスにツイートデータを保存しました\n",
      "[myutil] /Users/nyu/gdrive/learn/hololi2vec/data/tweets_natsuiromatsuri_4000.pkl\n",
      "[myutil] 以下パスにツイートデータを保存しました\n",
      "[myutil] /Users/nyu/gdrive/learn/hololi2vec/data/tweets_akaihaato_4000.pkl\n",
      "[myutil] 以下パスにツイートデータを保存しました\n",
      "[myutil] /Users/nyu/gdrive/learn/hololi2vec/data/tweets_akirosenthal_4000.pkl\n",
      "[myutil] 以下パスにツイートデータを保存しました\n",
      "[myutil] /Users/nyu/gdrive/learn/hololi2vec/data/tweets_minatoaqua_4000.pkl\n",
      "[myutil] 以下パスにツイートデータを保存しました\n",
      "[myutil] /Users/nyu/gdrive/learn/hololi2vec/data/tweets_nakiriayame_4000.pkl\n",
      "[myutil] Rate limit reached. Sleeping for: 696\n",
      "[myutil] 以下パスにツイートデータを保存しました\n",
      "[myutil] /Users/nyu/gdrive/learn/hololi2vec/data/tweets_yuzukichococh_4000.pkl\n",
      "[myutil] 以下パスにツイートデータを保存しました\n",
      "[myutil] /Users/nyu/gdrive/learn/hololi2vec/data/tweets_murasakishionch_4000.pkl\n",
      "[myutil] 以下パスにツイートデータを保存しました\n",
      "[myutil] /Users/nyu/gdrive/learn/hololi2vec/data/tweets_oozorasubaru_4000.pkl\n",
      "[myutil] 以下パスにツイートデータを保存しました\n",
      "[myutil] /Users/nyu/gdrive/learn/hololi2vec/data/tweets_ookamimio_4000.pkl\n",
      "[myutil] 以下パスにツイートデータを保存しました\n",
      "[myutil] /Users/nyu/gdrive/learn/hololi2vec/data/tweets_nekomataokayu_4000.pkl\n",
      "[myutil] Rate limit reached. Sleeping for: 700\n",
      "[myutil] 以下パスにツイートデータを保存しました\n",
      "[myutil] /Users/nyu/gdrive/learn/hololi2vec/data/tweets_inugamikorone_4000.pkl\n",
      "[myutil] 以下パスにツイートデータを保存しました\n",
      "[myutil] /Users/nyu/gdrive/learn/hololi2vec/data/tweets_shiranuiflare_4000.pkl\n",
      "[myutil] 以下パスにツイートデータを保存しました\n",
      "[myutil] /Users/nyu/gdrive/learn/hololi2vec/data/tweets_shiroganenoel_4000.pkl\n",
      "[myutil] 以下パスにツイートデータを保存しました\n",
      "[myutil] /Users/nyu/gdrive/learn/hololi2vec/data/tweets_houshoumarine_4000.pkl\n",
      "[myutil] 以下パスにツイートデータを保存しました\n",
      "[myutil] /Users/nyu/gdrive/learn/hololi2vec/data/tweets_usadapekora_4000.pkl\n",
      "[myutil] Rate limit reached. Sleeping for: 699\n",
      "[myutil] 以下パスにツイートデータを保存しました\n",
      "[myutil] /Users/nyu/gdrive/learn/hololi2vec/data/tweets_uruharushia_4000.pkl\n",
      "[myutil] 以下パスにツイートデータを保存しました\n",
      "[myutil] /Users/nyu/gdrive/learn/hololi2vec/data/tweets_amanekanatach_4000.pkl\n",
      "[myutil] 以下パスにツイートデータを保存しました\n",
      "[myutil] /Users/nyu/gdrive/learn/hololi2vec/data/tweets_kiryucoco_4000.pkl\n",
      "[myutil] 以下パスにツイートデータを保存しました\n",
      "[myutil] /Users/nyu/gdrive/learn/hololi2vec/data/tweets_tsunomakiwatame_4000.pkl\n",
      "[myutil] 以下パスにツイートデータを保存しました\n",
      "[myutil] /Users/nyu/gdrive/learn/hololi2vec/data/tweets_tokoyamitowa_4000.pkl\n",
      "[myutil] 以下パスにツイートデータを保存しました\n",
      "[myutil] /Users/nyu/gdrive/learn/hololi2vec/data/tweets_himemoriluna_4000.pkl\n",
      "[myutil] Rate limit reached. Sleeping for: 697\n",
      "[myutil] 以下パスにツイートデータを保存しました\n",
      "[myutil] /Users/nyu/gdrive/learn/hololi2vec/data/tweets_yukihanalamy_4000.pkl\n",
      "[myutil] 以下パスにツイートデータを保存しました\n",
      "[myutil] /Users/nyu/gdrive/learn/hololi2vec/data/tweets_momosuzunene_4000.pkl\n",
      "[myutil] 以下パスにツイートデータを保存しました\n",
      "[myutil] /Users/nyu/gdrive/learn/hololi2vec/data/tweets_shishirobotan_4000.pkl\n",
      "[myutil] 以下パスにツイートデータを保存しました\n",
      "[myutil] /Users/nyu/gdrive/learn/hololi2vec/data/tweets_omarupolka_4000.pkl\n"
     ]
    },
    {
     "name": "stdout",
     "output_type": "stream",
     "text": [
      "CPU times: user 1min 22s, sys: 6.07 s, total: 1min 28s\n",
      "Wall time: 1h 11min 22s\n"
     ]
    }
   ],
   "source": [
    "%%time\n",
    "for userId in tqdm_notebook(holomem_all_twitter):\n",
    "    Holomem(userId=userId, n_tweet=4000, load=False, verbose=True, preview=False)"
   ]
  },
  {
   "cell_type": "markdown",
   "id": "hydraulic-savings",
   "metadata": {},
   "source": [
    "各ホロメンの取得できたツイート数を確認する"
   ]
  },
  {
   "cell_type": "code",
   "execution_count": 6,
   "id": "double-handle",
   "metadata": {},
   "outputs": [
    {
     "name": "stderr",
     "output_type": "stream",
     "text": [
      "<ipython-input-6-f478b14151cb>:1: TqdmDeprecationWarning: This function will be removed in tqdm==5.0.0\n",
      "Please use `tqdm.notebook.tqdm` instead of `tqdm.tqdm_notebook`\n",
      "  for userId in tqdm_notebook(holomem_all_twitter):\n"
     ]
    },
    {
     "data": {
      "application/vnd.jupyter.widget-view+json": {
       "model_id": "191c4374ef894db1a76333fa54230d50",
       "version_major": 2,
       "version_minor": 0
      },
      "text/plain": [
       "  0%|          | 0/31 [00:00<?, ?it/s]"
      ]
     },
     "metadata": {},
     "output_type": "display_data"
    },
    {
     "name": "stdout",
     "output_type": "stream",
     "text": [
      "tokino_sora 2627\n",
      "robocosan 1855\n",
      "sakuramiko35 1862\n",
      "suisei_hosimati 2222\n",
      "yozoramel 366\n",
      "shirakamifubuki 2331\n",
      "natsuiromatsuri 2114\n",
      "akaihaato 2731\n",
      "akirosenthal 1963\n",
      "minatoaqua 2144\n",
      "nakiriayame 2211\n",
      "yuzukichococh 2256\n",
      "murasakishionch 2659\n",
      "oozorasubaru 2123\n",
      "ookamimio 1544\n",
      "nekomataokayu 1278\n",
      "inugamikorone 1746\n",
      "shiranuiflare 1831\n",
      "shiroganenoel 2249\n",
      "houshoumarine 1598\n",
      "usadapekora 2022\n",
      "uruharushia 2285\n",
      "amanekanatach 1938\n",
      "kiryucoco 1636\n",
      "tsunomakiwatame 1738\n",
      "tokoyamitowa 2178\n",
      "himemoriluna 2184\n",
      "yukihanalamy 2403\n",
      "momosuzunene 2273\n",
      "shishirobotan 1886\n",
      "omarupolka 1533\n"
     ]
    }
   ],
   "source": [
    "for userId in tqdm_notebook(holomem_all_twitter):\n",
    "    holomem = Holomem(userId=userId, n_tweet=4000, load=True, verbose=False, preview=False)\n",
    "    print(holomem.userId, len(holomem.df))"
   ]
  },
  {
   "cell_type": "markdown",
   "id": "numerical-reality",
   "metadata": {},
   "source": [
    "- 4000件取得できたホロメンは1人もいない\n",
    "- 総ツイート数に関係なく取得数の差が極端で，メルちゃん(`yorozamel`)は366/16145件しか取れておらず，ねねちゃん(`momosuzunene`)は2272/3637件も取得に成功している\n",
    "- 可能な限り多くのツイートを取得できる収集方法の再検討を行う"
   ]
  },
  {
   "cell_type": "markdown",
   "id": "chubby-finland",
   "metadata": {},
   "source": [
    "## ツイートデータ収集方法再検討"
   ]
  },
  {
   "cell_type": "markdown",
   "id": "precious-scanner",
   "metadata": {},
   "source": [
    "- [公式ドキュメント](https://developer.twitter.com/en/docs/twitter-api/tweets/timelines/introduction)を参照したところ，1人のユーザに対して取得できるツイートは最新3200ツイートであることが判明\n",
    "- 過去記事で3200ツイート以上取得しようとしているケースがあったが，仕様変更前 or 実は3200しか取れてない？（制限より多い数の取得数を指定してもエラーは吐かない）"
   ]
  },
  {
   "cell_type": "markdown",
   "id": "magnetic-experiment",
   "metadata": {},
   "source": [
    "再検討のため...\n",
    "- 極端に少ないメルちゃんのデータで色々検証する\n",
    "- 4000ではなく3200ツイートを取得する設定で試す"
   ]
  },
  {
   "cell_type": "code",
   "execution_count": 45,
   "id": "cordless-class",
   "metadata": {},
   "outputs": [
    {
     "name": "stderr",
     "output_type": "stream",
     "text": [
      "[hololi2vec:myutil] 以下パスにツイートデータを保存しました\n",
      "[hololi2vec:myutil] /Users/nyu/gdrive/learn/hololi2vec/data/tweets_yozoramel_3200.pkl\n"
     ]
    }
   ],
   "source": [
    "mel = Holomem(userId='yozoramel', n_tweet=3200, load=False, verbose=True, preview=False)"
   ]
  },
  {
   "cell_type": "code",
   "execution_count": 46,
   "id": "organic-gross",
   "metadata": {},
   "outputs": [
    {
     "data": {
      "text/plain": [
       "371"
      ]
     },
     "execution_count": 46,
     "metadata": {},
     "output_type": "execute_result"
    }
   ],
   "source": [
    "len(mel.df)"
   ]
  },
  {
   "cell_type": "markdown",
   "id": "significant-reaction",
   "metadata": {},
   "source": [
    "- なぜか4000指定より5件増えた(366->371)が，非常に少ないことには変わりない\n",
    "- データ末尾を確認する"
   ]
  },
  {
   "cell_type": "code",
   "execution_count": null,
   "id": "center-guitar",
   "metadata": {},
   "outputs": [],
   "source": [
    "mel.df.tail()"
   ]
  },
  {
   "cell_type": "markdown",
   "id": "rural-nickel",
   "metadata": {},
   "source": [
    "- 2020.12.07までのツイートしか取得できていない\n",
    "- メルちゃんが2020.12.07から現在まで他の期間と比較して極端に多くのツイートをしていたわけではない\n",
    "- ↑あとで調べたところ，776/16145件だった"
   ]
  },
  {
   "cell_type": "markdown",
   "id": "hired-dairy",
   "metadata": {},
   "source": [
    "仮方針\n",
    "- 取得の仕方に問題があるのではないかと考え，`tweepy.Cursor().items()`ではなく，ページごとに取得する方法で試す\n",
    "- 以下は1ページ200件ずつで計16ページ取得している．恐らく3200ツイートになるはず..."
   ]
  },
  {
   "cell_type": "code",
   "execution_count": 60,
   "id": "foreign-ladder",
   "metadata": {},
   "outputs": [
    {
     "name": "stdout",
     "output_type": "stream",
     "text": [
      "1: 155\n",
      "2: 98\n",
      "3: 0\n",
      "4: 0\n",
      "5: 0\n",
      "6: 0\n",
      "7: 0\n",
      "8: 0\n",
      "9: 0\n",
      "10: 0\n",
      "11: 0\n",
      "12: 0\n",
      "13: 0\n",
      "14: 0\n",
      "15: 0\n",
      "16: 0\n"
     ]
    }
   ],
   "source": [
    "mel_tweets_pages_c200 = []\n",
    "for page in range(1, 17):\n",
    "    mel_tweets = api.user_timeline(screen_name='yozoramel', count=200, include_rts=False, page=page)\n",
    "    print('{}: {}'.format(page, len(mel_tweets)))\n",
    "    mel_tweets_pages_c200.extend(mel_tweets)"
   ]
  },
  {
   "cell_type": "markdown",
   "id": "short-attribute",
   "metadata": {},
   "source": [
    "- 3ページ目以降なぜか全くツイートを取得できていない\n",
    "- 1,2ページでも200件に達していない\n",
    "- 取得できたツイート数の合計は252"
   ]
  },
  {
   "cell_type": "code",
   "execution_count": 61,
   "id": "double-power",
   "metadata": {},
   "outputs": [
    {
     "data": {
      "text/plain": [
       "253"
      ]
     },
     "execution_count": 61,
     "metadata": {},
     "output_type": "execute_result"
    }
   ],
   "source": [
    "len(mel_tweets_pages_c200)"
   ]
  },
  {
   "cell_type": "code",
   "execution_count": null,
   "id": "inner-spain",
   "metadata": {},
   "outputs": [],
   "source": [
    "for tweet in mel_tweets_pages_c200[-5:]:\n",
    "    print(tweet.created_at)\n",
    "    print(tweet.text)"
   ]
  },
  {
   "cell_type": "markdown",
   "id": "certified-midwest",
   "metadata": {},
   "source": [
    "- 2020.12.20までのツイートしか取得できていない\n",
    "- 今度は1ページ100件ずつ，32ページで試す"
   ]
  },
  {
   "cell_type": "code",
   "execution_count": 51,
   "id": "organic-lawrence",
   "metadata": {},
   "outputs": [
    {
     "name": "stdout",
     "output_type": "stream",
     "text": [
      "1: 80\n",
      "2: 55\n",
      "3: 13\n",
      "4: 0\n",
      "5: 0\n",
      "6: 0\n",
      "7: 0\n",
      "8: 0\n",
      "9: 0\n",
      "10: 0\n",
      "11: 0\n",
      "12: 0\n",
      "13: 0\n",
      "14: 0\n",
      "15: 0\n",
      "16: 0\n",
      "17: 0\n",
      "18: 0\n",
      "19: 0\n",
      "20: 0\n",
      "21: 0\n",
      "22: 0\n",
      "23: 0\n",
      "24: 0\n",
      "25: 0\n",
      "26: 0\n",
      "27: 0\n",
      "28: 0\n",
      "29: 0\n",
      "30: 0\n",
      "31: 0\n",
      "32: 0\n"
     ]
    },
    {
     "data": {
      "text/plain": [
       "148"
      ]
     },
     "execution_count": 51,
     "metadata": {},
     "output_type": "execute_result"
    }
   ],
   "source": [
    "mel_tweets_pages_c100 = []\n",
    "for page in range(1, 33):\n",
    "    mel_tweets = api.user_timeline(screen_name='yozoramel', count=100, include_rts=False, page=page)\n",
    "    print('{}: {}'.format(page, len(mel_tweets)))\n",
    "    mel_tweets_pages_c100.extend(mel_tweets)\n",
    "\n",
    "len(mel_tweets_pages_c100)"
   ]
  },
  {
   "cell_type": "markdown",
   "id": "composed-diary",
   "metadata": {},
   "source": [
    "- より悪化しており，4ページ目以降取得できていない\n",
    "- 合計148ツイート\n",
    "- 2020.01.05までのツイートしか取得できていない"
   ]
  },
  {
   "cell_type": "code",
   "execution_count": null,
   "id": "optimum-wallet",
   "metadata": {},
   "outputs": [],
   "source": [
    "for tweet in mel_tweets_pages_c100[-5:]:\n",
    "    print(tweet.created_at)\n",
    "    print(tweet.text)"
   ]
  },
  {
   "cell_type": "markdown",
   "id": "emotional-review",
   "metadata": {},
   "source": [
    "- [調べると](https://stackoverflow.com/questions/28113266/tweepy-include-rts-not-working)，`user_timeline()`のオプション`include_rts = True`は先に`count`数分取得したあとにRTを削除する仕様であることが判明\n",
    "- その仕様がわかっても，200件ずつ取得しようとする際に3ページ目以降の取得ツイートがゼロになる理由がわからない...\n",
    "- もしかしたら1ページ目で`include_rts = True`で除外されたツイートが2ページ目でまた取得されて...という流れが以後続いて，3ページ目以降取得できるツイートがRTだけになってしまっているのではないか（RTが繰り越されるために取得ツイートが単調減少）\n",
    "- メルちゃんは他のホロメンに比べRTが多い傾向なので，`include_rts = True`と設定したことが，取得数が極端に少なくなった原因である可能性が高い"
   ]
  },
  {
   "cell_type": "markdown",
   "id": "integral-middle",
   "metadata": {},
   "source": [
    "## APIの設定でRTを省かない場合の検証"
   ]
  },
  {
   "cell_type": "markdown",
   "id": "meaning-empty",
   "metadata": {},
   "source": [
    "- `include_rts = False`にして，一旦ツイートを取得して保持し，Tweepy外でRTを省けばよいと考える\n",
    "- 以下はその検証で，RTが省かれる前と後のツイート数の変動を各ページごとに示している"
   ]
  },
  {
   "cell_type": "code",
   "execution_count": 63,
   "id": "behavioral-announcement",
   "metadata": {},
   "outputs": [
    {
     "name": "stdout",
     "output_type": "stream",
     "text": [
      "1: 200 -> 155\n",
      "2: 199 -> 143\n",
      "3: 200 -> 73\n",
      "4: 199 -> 8\n",
      "5: 200 -> 133\n",
      "6: 200 -> 193\n",
      "7: 200 -> 106\n",
      "8: 198 -> 97\n",
      "9: 200 -> 155\n",
      "10: 199 -> 156\n",
      "11: 200 -> 163\n",
      "12: 200 -> 173\n",
      "13: 200 -> 193\n",
      "14: 200 -> 198\n",
      "15: 200 -> 186\n",
      "16: 199 -> 118\n"
     ]
    },
    {
     "data": {
      "text/plain": [
       "2250"
      ]
     },
     "execution_count": 63,
     "metadata": {},
     "output_type": "execute_result"
    }
   ],
   "source": [
    "mel_tweets_pages_c200_hand = []\n",
    "for page in range(1, 17):\n",
    "    mel_tweets = api.user_timeline(screen_name='yozoramel', count=200, page=page)\n",
    "    mel_tweets_filtered = [tweet for tweet in mel_tweets if tweet.text[:2] != 'RT']\n",
    "    print('{}: {} -> {}'.format(page, len(mel_tweets), len(mel_tweets_filtered)))\n",
    "    mel_tweets_pages_c200_hand.extend(mel_tweets_filtered)\n",
    "    \n",
    "len(mel_tweets_pages_c200_hand)"
   ]
  },
  {
   "cell_type": "markdown",
   "id": "revolutionary-assist",
   "metadata": {},
   "source": [
    "- RT除外後，2250件も取得できた\n",
    "- 16ページまでほぼ200件取得できている\n",
    "- たまに何らかのエラーで198or199件しか取得できていないが，それほど気にすることでもないので，この原因は深く追究しない"
   ]
  },
  {
   "cell_type": "markdown",
   "id": "quantitative-secretary",
   "metadata": {},
   "source": [
    "先に述べた\n",
    "```\n",
    "1ページ目で`include_rts = True`で除外されたツイートが2ページ目でまた取得されて...という処理が以後続いて，3ページ目以降取得できるツイートがRTだけにな全て除外されれしまっているのではないか\n",
    "```\n",
    "という仮定だが，\n",
    "\n",
    "```\n",
    "`include_rts=True`\n",
    "- 1: 155\n",
    "- 2: 98\n",
    "- 3: 0\n",
    "- 4: 0\n",
    "\n",
    "`include_rts=False`\n",
    "- 1: 200 -> 155\n",
    "- 2: 199 -> 143\n",
    "- 3: 200 -> 73\n",
    "- 4: 199 -> 8\n",
    "```\n",
    "のように，1ページ目の取得ツイート数が一致しており，以後の推移を比較してみると，なんとなく正しい予感がする．\n",
    "\n",
    "このプロジェクトの内容からあまり外れる内容なのでこれ以上深く追求しないが，また別に詳しく検証したい"
   ]
  },
  {
   "cell_type": "code",
   "execution_count": null,
   "id": "entire-account",
   "metadata": {},
   "outputs": [],
   "source": [
    "for tweet in mel_tweets_pages_c200_hand[-5:]:\n",
    "    print(tweet.created_at)\n",
    "    print(tweet.text)"
   ]
  },
  {
   "cell_type": "markdown",
   "id": "superior-going",
   "metadata": {},
   "source": [
    " RTを手動（Tweepy外）で省く場合，6月末のツイートまで取得できていた"
   ]
  },
  {
   "cell_type": "markdown",
   "id": "incident-oxford",
   "metadata": {},
   "source": [
    "- `include_rts`の設定が原因で，取得の方法自体には問題なさそうなので，当初の`Cursor(api.user_timeline).items()`を使った場合でも確認する\n",
    "- ページ取得の場合と同様に`include_rts=True`に変更しているだけ"
   ]
  },
  {
   "cell_type": "code",
   "execution_count": 66,
   "id": "circular-computer",
   "metadata": {},
   "outputs": [
    {
     "data": {
      "text/plain": [
       "3200"
      ]
     },
     "execution_count": 66,
     "metadata": {},
     "output_type": "execute_result"
    }
   ],
   "source": [
    "mel_tweets_pages_cursor_rt = [\n",
    "    tweet for tweet in tweepy.Cursor(api.user_timeline, screen_name='yozoramel', include_rts=True).items(3200)]\n",
    "len(mel_tweets_pages_cursor_rt)"
   ]
  },
  {
   "cell_type": "markdown",
   "id": "therapeutic-consumption",
   "metadata": {},
   "source": [
    "RTを手動で省く前の取得数について，ページを使った200件ずつの取得の場合3194件しか取得できなかったが，`Cursor(api.user_timeline).items()`の場合は，3200ツイートぴったり取得できた"
   ]
  },
  {
   "cell_type": "code",
   "execution_count": null,
   "id": "bigger-implement",
   "metadata": {},
   "outputs": [],
   "source": [
    "for tweet in mel_tweets_pages_cursor_rt[-5:]:\n",
    "    print(tweet.created_at)\n",
    "    print(tweet.text)"
   ]
  },
  {
   "cell_type": "markdown",
   "id": "moving-creation",
   "metadata": {},
   "source": [
    "- 末尾ツイート投稿時刻\n",
    "    - ページ取得: 2020-06-27 23:55:19\n",
    "    - `Cursor(api.user_timeline).items()`: 2020-06-27 23:53:59\n",
    "- 後者の方が若干古いツイートまで取得できている"
   ]
  },
  {
   "cell_type": "markdown",
   "id": "scheduled-korea",
   "metadata": {},
   "source": [
    "**結論**\n",
    "- `Cursor(api.user_timeline).items(3200)`で3200ツイート取得し，RTを手動で(Tweepy外)で除外する方針をとる\n",
    "- RT除外はこのノートブックでは扱わず，次の`02_Format_Data`で行うことにする"
   ]
  },
  {
   "cell_type": "markdown",
   "id": "loved-norwegian",
   "metadata": {},
   "source": [
    "## ツイート再収集"
   ]
  },
  {
   "cell_type": "markdown",
   "id": "filled-acceptance",
   "metadata": {},
   "source": [
    "- 上記方針に合わせ，`dataset.Holomen.get_tweets()`のコードを修正済み\n",
    "- 2021年2月24日22:31(JST)より取得開始"
   ]
  },
  {
   "cell_type": "code",
   "execution_count": 68,
   "id": "acting-proof",
   "metadata": {},
   "outputs": [
    {
     "name": "stderr",
     "output_type": "stream",
     "text": [
      "<timed exec>:1: TqdmDeprecationWarning: This function will be removed in tqdm==5.0.0\n",
      "Please use `tqdm.notebook.tqdm` instead of `tqdm.tqdm_notebook`\n"
     ]
    },
    {
     "data": {
      "application/vnd.jupyter.widget-view+json": {
       "model_id": "8d5dc58dfb8744ddb14da0c798629720",
       "version_major": 2,
       "version_minor": 0
      },
      "text/plain": [
       "  0%|          | 0/31 [00:00<?, ?it/s]"
      ]
     },
     "metadata": {},
     "output_type": "display_data"
    },
    {
     "name": "stderr",
     "output_type": "stream",
     "text": [
      "[hololi2vec:myutil] 以下パスにツイートデータを保存しました\n",
      "[hololi2vec:myutil] /Users/nyu/gdrive/learn/hololi2vec/data/tweets_tokino_sora_3200.pkl\n",
      "[hololi2vec:myutil] 以下パスにツイートデータを保存しました\n",
      "[hololi2vec:myutil] /Users/nyu/gdrive/learn/hololi2vec/data/tweets_robocosan_3200.pkl\n",
      "[hololi2vec:myutil] 以下パスにツイートデータを保存しました\n",
      "[hololi2vec:myutil] /Users/nyu/gdrive/learn/hololi2vec/data/tweets_sakuramiko35_3200.pkl\n",
      "[hololi2vec:myutil] 以下パスにツイートデータを保存しました\n",
      "[hololi2vec:myutil] /Users/nyu/gdrive/learn/hololi2vec/data/tweets_suisei_hosimati_3200.pkl\n",
      "[hololi2vec:myutil] 以下パスにツイートデータを保存しました\n",
      "[hololi2vec:myutil] /Users/nyu/gdrive/learn/hololi2vec/data/tweets_yozoramel_3200.pkl\n",
      "[hololi2vec:myutil] Rate limit reached. Sleeping for: 659\n",
      "[hololi2vec:myutil] 以下パスにツイートデータを保存しました\n",
      "[hololi2vec:myutil] /Users/nyu/gdrive/learn/hololi2vec/data/tweets_shirakamifubuki_3200.pkl\n",
      "[hololi2vec:myutil] 以下パスにツイートデータを保存しました\n",
      "[hololi2vec:myutil] /Users/nyu/gdrive/learn/hololi2vec/data/tweets_natsuiromatsuri_3200.pkl\n",
      "[hololi2vec:myutil] 以下パスにツイートデータを保存しました\n",
      "[hololi2vec:myutil] /Users/nyu/gdrive/learn/hololi2vec/data/tweets_akaihaato_3200.pkl\n",
      "[hololi2vec:myutil] 以下パスにツイートデータを保存しました\n",
      "[hololi2vec:myutil] /Users/nyu/gdrive/learn/hololi2vec/data/tweets_akirosenthal_3200.pkl\n",
      "[hololi2vec:myutil] 以下パスにツイートデータを保存しました\n",
      "[hololi2vec:myutil] /Users/nyu/gdrive/learn/hololi2vec/data/tweets_minatoaqua_3200.pkl\n",
      "[hololi2vec:myutil] 以下パスにツイートデータを保存しました\n",
      "[hololi2vec:myutil] /Users/nyu/gdrive/learn/hololi2vec/data/tweets_nakiriayame_3200.pkl\n",
      "[hololi2vec:myutil] Rate limit reached. Sleeping for: 664\n",
      "[hololi2vec:myutil] 以下パスにツイートデータを保存しました\n",
      "[hololi2vec:myutil] /Users/nyu/gdrive/learn/hololi2vec/data/tweets_yuzukichococh_3200.pkl\n",
      "[hololi2vec:myutil] 以下パスにツイートデータを保存しました\n",
      "[hololi2vec:myutil] /Users/nyu/gdrive/learn/hololi2vec/data/tweets_murasakishionch_3200.pkl\n",
      "[hololi2vec:myutil] 以下パスにツイートデータを保存しました\n",
      "[hololi2vec:myutil] /Users/nyu/gdrive/learn/hololi2vec/data/tweets_oozorasubaru_3200.pkl\n",
      "[hololi2vec:myutil] 以下パスにツイートデータを保存しました\n",
      "[hololi2vec:myutil] /Users/nyu/gdrive/learn/hololi2vec/data/tweets_ookamimio_3200.pkl\n",
      "[hololi2vec:myutil] 以下パスにツイートデータを保存しました\n",
      "[hololi2vec:myutil] /Users/nyu/gdrive/learn/hololi2vec/data/tweets_nekomataokayu_3200.pkl\n",
      "[hololi2vec:myutil] Rate limit reached. Sleeping for: 658\n",
      "[hololi2vec:myutil] 以下パスにツイートデータを保存しました\n",
      "[hololi2vec:myutil] /Users/nyu/gdrive/learn/hololi2vec/data/tweets_inugamikorone_3200.pkl\n",
      "[hololi2vec:myutil] 以下パスにツイートデータを保存しました\n",
      "[hololi2vec:myutil] /Users/nyu/gdrive/learn/hololi2vec/data/tweets_shiranuiflare_3200.pkl\n",
      "[hololi2vec:myutil] 以下パスにツイートデータを保存しました\n",
      "[hololi2vec:myutil] /Users/nyu/gdrive/learn/hololi2vec/data/tweets_shiroganenoel_3200.pkl\n",
      "[hololi2vec:myutil] 以下パスにツイートデータを保存しました\n",
      "[hololi2vec:myutil] /Users/nyu/gdrive/learn/hololi2vec/data/tweets_houshoumarine_3200.pkl\n",
      "[hololi2vec:myutil] 以下パスにツイートデータを保存しました\n",
      "[hololi2vec:myutil] /Users/nyu/gdrive/learn/hololi2vec/data/tweets_usadapekora_3200.pkl\n",
      "[hololi2vec:myutil] 以下パスにツイートデータを保存しました\n",
      "[hololi2vec:myutil] /Users/nyu/gdrive/learn/hololi2vec/data/tweets_uruharushia_3200.pkl\n",
      "[hololi2vec:myutil] Rate limit reached. Sleeping for: 655\n",
      "[hololi2vec:myutil] 以下パスにツイートデータを保存しました\n",
      "[hololi2vec:myutil] /Users/nyu/gdrive/learn/hololi2vec/data/tweets_amanekanatach_3200.pkl\n",
      "[hololi2vec:myutil] 以下パスにツイートデータを保存しました\n",
      "[hololi2vec:myutil] /Users/nyu/gdrive/learn/hololi2vec/data/tweets_kiryucoco_3200.pkl\n",
      "[hololi2vec:myutil] 以下パスにツイートデータを保存しました\n",
      "[hololi2vec:myutil] /Users/nyu/gdrive/learn/hololi2vec/data/tweets_tsunomakiwatame_3200.pkl\n",
      "[hololi2vec:myutil] 以下パスにツイートデータを保存しました\n",
      "[hololi2vec:myutil] /Users/nyu/gdrive/learn/hololi2vec/data/tweets_tokoyamitowa_3200.pkl\n",
      "[hololi2vec:myutil] 以下パスにツイートデータを保存しました\n",
      "[hololi2vec:myutil] /Users/nyu/gdrive/learn/hololi2vec/data/tweets_himemoriluna_3200.pkl\n",
      "[hololi2vec:myutil] Rate limit reached. Sleeping for: 657\n",
      "[hololi2vec:myutil] 以下パスにツイートデータを保存しました\n",
      "[hololi2vec:myutil] /Users/nyu/gdrive/learn/hololi2vec/data/tweets_yukihanalamy_3200.pkl\n",
      "[hololi2vec:myutil] 以下パスにツイートデータを保存しました\n",
      "[hololi2vec:myutil] /Users/nyu/gdrive/learn/hololi2vec/data/tweets_momosuzunene_3200.pkl\n",
      "[hololi2vec:myutil] 以下パスにツイートデータを保存しました\n",
      "[hololi2vec:myutil] /Users/nyu/gdrive/learn/hololi2vec/data/tweets_shishirobotan_3200.pkl\n",
      "[hololi2vec:myutil] 以下パスにツイートデータを保存しました\n",
      "[hololi2vec:myutil] /Users/nyu/gdrive/learn/hololi2vec/data/tweets_omarupolka_3200.pkl\n"
     ]
    },
    {
     "name": "stdout",
     "output_type": "stream",
     "text": [
      "CPU times: user 1min 38s, sys: 9.08 s, total: 1min 47s\n",
      "Wall time: 1h 17min 39s\n"
     ]
    }
   ],
   "source": [
    "%%time\n",
    "for userId in tqdm_notebook(holomem_all_twitter):\n",
    "    Holomem(userId=userId, n_tweet=3200, load=False, verbose=True, preview=False)"
   ]
  },
  {
   "cell_type": "code",
   "execution_count": 109,
   "id": "distant-brave",
   "metadata": {},
   "outputs": [
    {
     "name": "stderr",
     "output_type": "stream",
     "text": [
      "<ipython-input-109-008f6bc16104>:1: TqdmDeprecationWarning: This function will be removed in tqdm==5.0.0\n",
      "Please use `tqdm.notebook.tqdm` instead of `tqdm.tqdm_notebook`\n",
      "  for userId in tqdm_notebook(holomem_all_twitter):\n"
     ]
    },
    {
     "data": {
      "application/vnd.jupyter.widget-view+json": {
       "model_id": "24e4baca796f47b3900b60d92d9b9f8e",
       "version_major": 2,
       "version_minor": 0
      },
      "text/plain": [
       "  0%|          | 0/31 [00:00<?, ?it/s]"
      ]
     },
     "metadata": {},
     "output_type": "display_data"
    },
    {
     "name": "stdout",
     "output_type": "stream",
     "text": [
      "tokino_sora 3200\n",
      "robocosan 3200\n",
      "sakuramiko35 3200\n",
      "suisei_hosimati 3200\n",
      "yozoramel 3200\n",
      "shirakamifubuki 3200\n",
      "natsuiromatsuri 3200\n",
      "akaihaato 3200\n",
      "akirosenthal 3200\n",
      "minatoaqua 3200\n",
      "nakiriayame 3200\n",
      "yuzukichococh 3200\n",
      "murasakishionch 3200\n",
      "oozorasubaru 3200\n",
      "ookamimio 3200\n",
      "nekomataokayu 3200\n",
      "inugamikorone 3200\n",
      "shiranuiflare 3200\n",
      "shiroganenoel 3195\n",
      "houshoumarine 3200\n",
      "usadapekora 3198\n",
      "uruharushia 3200\n",
      "amanekanatach 3200\n",
      "kiryucoco 3200\n",
      "tsunomakiwatame 3200\n",
      "tokoyamitowa 3200\n",
      "himemoriluna 3200\n",
      "yukihanalamy 3200\n",
      "momosuzunene 3193\n",
      "shishirobotan 3200\n",
      "omarupolka 3200\n"
     ]
    }
   ],
   "source": [
    "for userId in tqdm_notebook(holomem_all_twitter):\n",
    "    holomem = Holomem(userId=userId, n_tweet=3200, load=True, verbose=False, preview=False)\n",
    "    print(holomem.userId, len(holomem.df))"
   ]
  },
  {
   "cell_type": "markdown",
   "id": "interracial-ontario",
   "metadata": {},
   "source": [
    "- 一部ホロメン除き，ほとんど3200ツイート取得できている（何らかのエラーで抜けがあるが，軽微な問題なので追求しない）\n",
    "- RTは含まれた状態なので後のプロセスで省く"
   ]
  },
  {
   "cell_type": "markdown",
   "id": "pretty-bobby",
   "metadata": {},
   "source": [
    "ホロメンクラスのインスタンスの例として，シオンちゃんを示す"
   ]
  },
  {
   "cell_type": "code",
   "execution_count": null,
   "id": "nasty-collect",
   "metadata": {},
   "outputs": [],
   "source": [
    "shion_3200 = Holomem(userId='murasakishionch', n_tweet=3200, load=True, verbose=False, preview=False)\n",
    "shion_3200.df.head()"
   ]
  },
  {
   "cell_type": "code",
   "execution_count": null,
   "id": "hundred-simon",
   "metadata": {},
   "outputs": [],
   "source": [
    "shion_3200.df.tail()"
   ]
  },
  {
   "cell_type": "markdown",
   "id": "linear-means",
   "metadata": {},
   "source": [
    "- 取得状況に問題はないと考える\n",
    "- 絵文字，顔文字，ハッシュタグ，リプライ先，リンクなど各ツイートの整形は大変そう..."
   ]
  },
  {
   "cell_type": "code",
   "execution_count": null,
   "id": "accepting-andorra",
   "metadata": {},
   "outputs": [],
   "source": []
  }
 ],
 "metadata": {
  "kernelspec": {
   "display_name": "Python 3",
   "language": "python",
   "name": "python3"
  },
  "language_info": {
   "codemirror_mode": {
    "name": "ipython",
    "version": 3
   },
   "file_extension": ".py",
   "mimetype": "text/x-python",
   "name": "python",
   "nbconvert_exporter": "python",
   "pygments_lexer": "ipython3",
   "version": "3.8.1"
  },
  "latex_envs": {
   "LaTeX_envs_menu_present": true,
   "autoclose": false,
   "autocomplete": true,
   "bibliofile": "biblio.bib",
   "cite_by": "apalike",
   "current_citInitial": 1,
   "eqLabelWithNumbers": true,
   "eqNumInitial": 1,
   "hotkeys": {
    "equation": "Ctrl-E",
    "itemize": "Ctrl-I"
   },
   "labels_anchors": false,
   "latex_user_defs": false,
   "report_style_numbering": false,
   "user_envs_cfg": false
  },
  "toc": {
   "base_numbering": 1,
   "nav_menu": {},
   "number_sections": true,
   "sideBar": true,
   "skip_h1_title": false,
   "title_cell": "目次",
   "title_sidebar": "Contents",
   "toc_cell": true,
   "toc_position": {},
   "toc_section_display": true,
   "toc_window_display": false
  }
 },
 "nbformat": 4,
 "nbformat_minor": 5
}
