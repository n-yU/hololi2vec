{
 "cells": [
  {
   "cell_type": "markdown",
   "id": "prime-parish",
   "metadata": {},
   "source": [
    "# Apply_ProposalModel <a class=\"tocSkip\">"
   ]
  },
  {
   "cell_type": "code",
   "execution_count": 1,
   "id": "touched-tragedy",
   "metadata": {},
   "outputs": [],
   "source": [
    "%load_ext autoreload\n",
    "%autoreload 2"
   ]
  },
  {
   "cell_type": "code",
   "execution_count": 2,
   "id": "actual-cigarette",
   "metadata": {},
   "outputs": [
    {
     "name": "stderr",
     "output_type": "stream",
     "text": [
      "/Users/nyu/gdrive/learn/hololi2vec/venv/lib/python3.8/site-packages/pandas/compat/__init__.py:97: UserWarning: Could not import the lzma module. Your installed Python is incomplete. Attempting to use lzma compression will result in a RuntimeError.\n",
      "  warnings.warn(msg)\n"
     ]
    },
    {
     "data": {
      "text/plain": [
       "PosixPath('/Users/nyu/gdrive/learn/hololi2vec')"
      ]
     },
     "execution_count": 2,
     "metadata": {},
     "output_type": "execute_result"
    }
   ],
   "source": [
    "import sys\n",
    "from pathlib import Path\n",
    "import pandas as pd\n",
    "import numpy as np\n",
    "from datetime import datetime as dt\n",
    "from tqdm.notebook import tqdm as tqdm_nb\n",
    "\n",
    "sys.path.append('../bin')\n",
    "import myutil\n",
    "import dataset\n",
    "from dataset import Holomem, Hololive\n",
    "import model\n",
    "from model import Word2VecModel, ProposalModel, ProposalUser\n",
    "\n",
    "prj_path = myutil.PROJECT_PATH\n",
    "prj_path"
   ]
  },
  {
   "cell_type": "code",
   "execution_count": null,
   "id": "single-merchandise",
   "metadata": {},
   "outputs": [],
   "source": []
  },
  {
   "cell_type": "markdown",
   "id": "existing-cyprus",
   "metadata": {
    "toc": true
   },
   "source": [
    "<h1>目次<span class=\"tocSkip\"></span></h1>\n",
    "<div class=\"toc\"><ul class=\"toc-item\"><li><span><a href=\"#データセット＆Word2Vecモデル読み込み\" data-toc-modified-id=\"データセット＆Word2Vecモデル読み込み-1\"><span class=\"toc-item-num\">1&nbsp;&nbsp;</span>データセット＆Word2Vecモデル読み込み</a></span></li><li><span><a href=\"#提案モデル学習\" data-toc-modified-id=\"提案モデル学習-2\"><span class=\"toc-item-num\">2&nbsp;&nbsp;</span>提案モデル学習</a></span><ul class=\"toc-item\"><li><span><a href=\"#提案モデルのハイパーパラメータ\" data-toc-modified-id=\"提案モデルのハイパーパラメータ-2.1\"><span class=\"toc-item-num\">2.1&nbsp;&nbsp;</span>提案モデルのハイパーパラメータ</a></span></li><li><span><a href=\"#コサイン類似度モデル\" data-toc-modified-id=\"コサイン類似度モデル-2.2\"><span class=\"toc-item-num\">2.2&nbsp;&nbsp;</span>コサイン類似度モデル</a></span><ul class=\"toc-item\"><li><span><a href=\"#インスタンス生成\" data-toc-modified-id=\"インスタンス生成-2.2.1\"><span class=\"toc-item-num\">2.2.1&nbsp;&nbsp;</span>インスタンス生成</a></span></li><li><span><a href=\"#訓練セットによるモデル学習\" data-toc-modified-id=\"訓練セットによるモデル学習-2.2.2\"><span class=\"toc-item-num\">2.2.2&nbsp;&nbsp;</span>訓練セットによるモデル学習</a></span></li><li><span><a href=\"#テストセットによるモデル学習\" data-toc-modified-id=\"テストセットによるモデル学習-2.2.3\"><span class=\"toc-item-num\">2.2.3&nbsp;&nbsp;</span>テストセットによるモデル学習</a></span></li></ul></li><li><span><a href=\"#順序差減衰モデル\" data-toc-modified-id=\"順序差減衰モデル-2.3\"><span class=\"toc-item-num\">2.3&nbsp;&nbsp;</span>順序差減衰モデル</a></span><ul class=\"toc-item\"><li><span><a href=\"#インスタンス生成\" data-toc-modified-id=\"インスタンス生成-2.3.1\"><span class=\"toc-item-num\">2.3.1&nbsp;&nbsp;</span>インスタンス生成</a></span></li><li><span><a href=\"#訓練セットによるモデル学習\" data-toc-modified-id=\"訓練セットによるモデル学習-2.3.2\"><span class=\"toc-item-num\">2.3.2&nbsp;&nbsp;</span>訓練セットによるモデル学習</a></span></li><li><span><a href=\"#テストセットによるモデル学習\" data-toc-modified-id=\"テストセットによるモデル学習-2.3.3\"><span class=\"toc-item-num\">2.3.3&nbsp;&nbsp;</span>テストセットによるモデル学習</a></span></li></ul></li><li><span><a href=\"#表現ヒストリーの構造\" data-toc-modified-id=\"表現ヒストリーの構造-2.4\"><span class=\"toc-item-num\">2.4&nbsp;&nbsp;</span>表現ヒストリーの構造</a></span></li></ul></li></ul></div>"
   ]
  },
  {
   "cell_type": "markdown",
   "id": "surface-ethics",
   "metadata": {},
   "source": [
    "※ツイートテキストを含むような出力をするセルはGitHubプッシュ時にリセットして消してある"
   ]
  },
  {
   "cell_type": "code",
   "execution_count": null,
   "id": "dental-driver",
   "metadata": {},
   "outputs": [],
   "source": []
  },
  {
   "cell_type": "markdown",
   "id": "superior-attempt",
   "metadata": {},
   "source": [
    "# データセット＆Word2Vecモデル読み込み\n",
    "Hololiveクラスを使い，データセットを準備し，`05_Apply_Word2Vec`で訓練したモデルファイルを読み込む，"
   ]
  },
  {
   "cell_type": "code",
   "execution_count": 3,
   "id": "exciting-revelation",
   "metadata": {},
   "outputs": [
    {
     "data": {
      "text/html": [
       "<div>\n",
       "<style scoped>\n",
       "    .dataframe tbody tr th:only-of-type {\n",
       "        vertical-align: middle;\n",
       "    }\n",
       "\n",
       "    .dataframe tbody tr th {\n",
       "        vertical-align: top;\n",
       "    }\n",
       "\n",
       "    .dataframe thead th {\n",
       "        text-align: right;\n",
       "    }\n",
       "</style>\n",
       "<table border=\"1\" class=\"dataframe\">\n",
       "  <thead>\n",
       "    <tr style=\"text-align: right;\">\n",
       "      <th></th>\n",
       "      <th>twitter</th>\n",
       "      <th>name</th>\n",
       "      <th>generation</th>\n",
       "    </tr>\n",
       "  </thead>\n",
       "  <tbody>\n",
       "    <tr>\n",
       "      <th>0</th>\n",
       "      <td>tokino_sora</td>\n",
       "      <td>ときのそら</td>\n",
       "      <td>0</td>\n",
       "    </tr>\n",
       "    <tr>\n",
       "      <th>1</th>\n",
       "      <td>robocosan</td>\n",
       "      <td>ロボ子さん</td>\n",
       "      <td>0</td>\n",
       "    </tr>\n",
       "    <tr>\n",
       "      <th>2</th>\n",
       "      <td>sakuramiko35</td>\n",
       "      <td>さくらみこ</td>\n",
       "      <td>0</td>\n",
       "    </tr>\n",
       "    <tr>\n",
       "      <th>3</th>\n",
       "      <td>suisei_hosimati</td>\n",
       "      <td>星街すいせい</td>\n",
       "      <td>0</td>\n",
       "    </tr>\n",
       "    <tr>\n",
       "      <th>4</th>\n",
       "      <td>yozoramel</td>\n",
       "      <td>夜空メル</td>\n",
       "      <td>1</td>\n",
       "    </tr>\n",
       "  </tbody>\n",
       "</table>\n",
       "</div>"
      ],
      "text/plain": [
       "           twitter    name generation\n",
       "0      tokino_sora   ときのそら          0\n",
       "1        robocosan   ロボ子さん          0\n",
       "2     sakuramiko35   さくらみこ          0\n",
       "3  suisei_hosimati  星街すいせい          0\n",
       "4        yozoramel    夜空メル          1"
      ]
     },
     "execution_count": 3,
     "metadata": {},
     "output_type": "execute_result"
    }
   ],
   "source": [
    "hololive_members = pd.read_csv(Path(prj_path, 'data/hololive_members.csv'))\n",
    "hololive_members.head()"
   ]
  },
  {
   "cell_type": "code",
   "execution_count": 4,
   "id": "treated-grant",
   "metadata": {},
   "outputs": [
    {
     "data": {
      "text/plain": [
       "array(['tokino_sora', 'robocosan', 'sakuramiko35', 'suisei_hosimati',\n",
       "       'yozoramel', 'shirakamifubuki', 'natsuiromatsuri', 'akaihaato',\n",
       "       'akirosenthal', 'minatoaqua', 'nakiriayame', 'yuzukichococh',\n",
       "       'murasakishionch', 'oozorasubaru', 'ookamimio', 'nekomataokayu',\n",
       "       'inugamikorone', 'shiranuiflare', 'shiroganenoel', 'houshoumarine',\n",
       "       'usadapekora', 'uruharushia', 'amanekanatach', 'kiryucoco',\n",
       "       'tsunomakiwatame', 'tokoyamitowa', 'himemoriluna', 'yukihanalamy',\n",
       "       'momosuzunene', 'shishirobotan', 'omarupolka'], dtype=object)"
      ]
     },
     "execution_count": 4,
     "metadata": {},
     "output_type": "execute_result"
    }
   ],
   "source": [
    "hololive_userIds = hololive_members['twitter'].values\n",
    "hololive_userIds"
   ]
  },
  {
   "cell_type": "code",
   "execution_count": 5,
   "id": "earlier-answer",
   "metadata": {},
   "outputs": [
    {
     "name": "stdout",
     "output_type": "stream",
     "text": [
      "CPU times: user 11.9 s, sys: 356 ms, total: 12.3 s\n",
      "Wall time: 12.4 s\n"
     ]
    }
   ],
   "source": [
    "%%time\n",
    "hololive = Hololive(userIds=hololive_userIds, n_tweet=3200, fname='hololive')"
   ]
  },
  {
   "cell_type": "code",
   "execution_count": 6,
   "id": "cross-interaction",
   "metadata": {},
   "outputs": [
    {
     "name": "stdout",
     "output_type": "stream",
     "text": [
      "[dataset] 以下パスに分かち書き結果とツイートデータを保存しました\n",
      "[dataset] 分かち書き結果（訓練セット）: /Users/nyu/gdrive/learn/hololi2vec/data/wakatigaki/hololive_3200_20210101.txt\n",
      "[dataset] 訓練セット: /Users/nyu/gdrive/learn/hololi2vec/data/dataset/hololive_3200_20210101_train.tsv\n",
      "[dataset] テストセット: /Users/nyu/gdrive/learn/hololi2vec/data/dataset/hololive_3200_20210101_test.tsv\n"
     ]
    }
   ],
   "source": [
    "train_df, test_df = hololive.split_data(date=dt(2021, 1, 1, 0, 0, 0), save=True, verbose=True)"
   ]
  },
  {
   "cell_type": "code",
   "execution_count": null,
   "id": "cross-seating",
   "metadata": {},
   "outputs": [],
   "source": [
    "hololive.train_df.head()"
   ]
  },
  {
   "cell_type": "code",
   "execution_count": 8,
   "id": "electrical-buyer",
   "metadata": {},
   "outputs": [
    {
     "data": {
      "text/plain": [
       "(41764, 3)"
      ]
     },
     "execution_count": 8,
     "metadata": {},
     "output_type": "execute_result"
    }
   ],
   "source": [
    "hololive.train_df.shape"
   ]
  },
  {
   "cell_type": "code",
   "execution_count": null,
   "id": "decreased-eight",
   "metadata": {},
   "outputs": [],
   "source": [
    "hololive.test_df.head()"
   ]
  },
  {
   "cell_type": "code",
   "execution_count": 10,
   "id": "hydraulic-involvement",
   "metadata": {},
   "outputs": [
    {
     "data": {
      "text/plain": [
       "(15836, 3)"
      ]
     },
     "execution_count": 10,
     "metadata": {},
     "output_type": "execute_result"
    }
   ],
   "source": [
    "hololive.test_df.shape"
   ]
  },
  {
   "cell_type": "code",
   "execution_count": 11,
   "id": "assisted-pregnancy",
   "metadata": {},
   "outputs": [
    {
     "name": "stderr",
     "output_type": "stream",
     "text": [
      "100%|██████████| 41764/41764 [00:02<00:00, 14139.60it/s]\n",
      "100%|██████████| 15836/15836 [00:01<00:00, 15491.71it/s]\n"
     ]
    },
    {
     "name": "stdout",
     "output_type": "stream",
     "text": [
      "[dataset] 以下パスに訓練セットのセッションデータを保存しました\n",
      "[dataset] /Users/nyu/gdrive/learn/hololi2vec/data/session/hololive_3200_20210101_train_session.csv\n",
      "[dataset] 以下パスにテストセットのセッションデータを保存しました\n",
      "[dataset] /Users/nyu/gdrive/learn/hololi2vec/data/session/hololive_3200_20210101_test_session.csv\n"
     ]
    }
   ],
   "source": [
    "train_session_df, test_session_df = hololive.create_session_df(train_test=[True, True], save=True, verbose=True)"
   ]
  },
  {
   "cell_type": "code",
   "execution_count": null,
   "id": "elder-anime",
   "metadata": {},
   "outputs": [],
   "source": [
    "hololive.train_session_df.head()"
   ]
  },
  {
   "cell_type": "code",
   "execution_count": 13,
   "id": "urban-audit",
   "metadata": {},
   "outputs": [
    {
     "data": {
      "text/plain": [
       "(661189, 4)"
      ]
     },
     "execution_count": 13,
     "metadata": {},
     "output_type": "execute_result"
    }
   ],
   "source": [
    "hololive.train_session_df.shape"
   ]
  },
  {
   "cell_type": "code",
   "execution_count": null,
   "id": "southwest-retailer",
   "metadata": {},
   "outputs": [],
   "source": [
    "hololive.test_session_df.head()"
   ]
  },
  {
   "cell_type": "code",
   "execution_count": 15,
   "id": "treated-event",
   "metadata": {},
   "outputs": [
    {
     "data": {
      "text/plain": [
       "(225919, 4)"
      ]
     },
     "execution_count": 15,
     "metadata": {},
     "output_type": "execute_result"
    }
   ],
   "source": [
    "hololive.test_session_df.shape"
   ]
  },
  {
   "cell_type": "markdown",
   "id": "north-country",
   "metadata": {},
   "source": [
    "ここまでの処理により，ツイートデータを2021年1月1日を境界として訓練・テストセットに分割し，分かち書き結果txtファイルと単語単位のセッションデータ形式csvファイルの作成までできた．\n",
    "\n",
    "次に，このデータセット（分かち書き結果txtファイル）を使用して訓練したWord2Vecモデルを読み込む．"
   ]
  },
  {
   "cell_type": "code",
   "execution_count": 16,
   "id": "hungry-accent",
   "metadata": {},
   "outputs": [
    {
     "name": "stdout",
     "output_type": "stream",
     "text": [
      "[model] 以下パスからWord2Vecモデルを読み込みました\n",
      "[model] /Users/nyu/gdrive/learn/hololi2vec/model/word2vec/hololive_v1.model\n"
     ]
    }
   ],
   "source": [
    "w2v_model_v1 = Word2VecModel(hololive=hololive, model_name='v1', verbose=True)"
   ]
  },
  {
   "cell_type": "code",
   "execution_count": 17,
   "id": "qualified-rolling",
   "metadata": {},
   "outputs": [
    {
     "name": "stdout",
     "output_type": "stream",
     "text": [
      "model_path \t /Users/nyu/gdrive/learn/hololi2vec/model/word2vec/hololive_v1.model\n",
      "loaded_model \t True\n",
      "sentences_path \t /Users/nyu/gdrive/learn/hololi2vec/data/wakatigaki/hololive_3200_20210101.txt\n",
      "verbose \t True\n",
      "model \t Word2Vec(vocab=7825, size=50, alpha=0.025)\n",
      "params \t {'window': 17, 'size': 50, 'sample': 0.01, 'negative': 50, 'min_count': 5, 'epochs': 30}\n"
     ]
    }
   ],
   "source": [
    "for k, v in vars(w2v_model_v1).items():\n",
    "    print(k, '\\t', v)"
   ]
  },
  {
   "cell_type": "markdown",
   "id": "english-interference",
   "metadata": {},
   "source": [
    "- モデルは以下のハイパーパラメータ設定で学習されている（他のハイパーパラメータも固定値でいくつか弄っている）．\n",
    "- 各ハイパーパラメータの詳細は`05_Apply_Word2Vec`の`2. Word2Vecモデル訓練`を参照されたい．"
   ]
  },
  {
   "cell_type": "code",
   "execution_count": 18,
   "id": "prospective-concord",
   "metadata": {},
   "outputs": [
    {
     "name": "stdout",
     "output_type": "stream",
     "text": [
      "[model] Word2Vec ハイパーパラメータ\n",
      "[model] window 17\n",
      "[model] size 50\n",
      "[model] sample 0.01\n",
      "[model] negative 50\n",
      "[model] min_count 5\n",
      "[model] epochs 30\n"
     ]
    }
   ],
   "source": [
    "w2v_model_v1.show_params()"
   ]
  },
  {
   "cell_type": "markdown",
   "id": "subtle-browse",
   "metadata": {},
   "source": [
    "訓練セットとモデルがそれぞれもつ単語数は以下の通り"
   ]
  },
  {
   "cell_type": "code",
   "execution_count": 19,
   "id": "ruled-london",
   "metadata": {},
   "outputs": [
    {
     "name": "stdout",
     "output_type": "stream",
     "text": [
      "Train 17992\n",
      "Word2Vec 7825\n"
     ]
    }
   ],
   "source": [
    "print('Train', len(set(hololive.test_session_df['word'])))\n",
    "print('Word2Vec', len(w2v_model_v1.words))"
   ]
  },
  {
   "cell_type": "markdown",
   "id": "honest-triangle",
   "metadata": {},
   "source": [
    "このWord2Vecモデルの詳しい分析結果は`05_Apply_Word2Vec`の`3. モデル分析`を参照されたい"
   ]
  },
  {
   "cell_type": "code",
   "execution_count": null,
   "id": "efficient-compiler",
   "metadata": {},
   "outputs": [],
   "source": []
  },
  {
   "cell_type": "markdown",
   "id": "proof-update",
   "metadata": {},
   "source": [
    "# 提案モデル学習\n",
    "- 提案モデルそのもののクラスである`model.ProposalModel`と，提案モデルにおけるユーザークラスである`model.ProposalUser`を使い，提案モデルの学習を行う．\n",
    "- Word2Vecモデルについては「訓練」と呼び，提案モデルについては「学習」と区別して呼ぶことについては，提案モデルが訓練データセットを使って処理することが「学習」の方がニュアンスが似てると考えたからである．\n",
    "    - 訓練と学習は同一のものとして扱われることが多いが，ここでは分けることにしている．\n",
    "    - 提案モデルは，訓練データセットを使って，各ユーザのツイート（セッション）表現とユーザ表現を構築・更新するのみで，パラメータを調整して汎化性能を上げることをしているわけではないため，訓練とは言い難い．\n",
    "- 提案モデルの詳細は **https://www.slideshare.net/okamoto-laboratory/ss-239612151** を参照されたい（やや古い発表でデータセットの整形方法修正やモデルコードのバグ修正をこれ以後実施しており，最新の結果（今後公開される卒論）とは実験結果や最適ハイパーパラメータ設定が一部異なる）．\n",
    "    - 上は提案モデルを使った推薦システムとしての発表だが，今回のプロジェクトは「セッションデータと似たような構造をしているツイートデータに対する提案モデル（アイテム分散表現の階層化・集約演算）の適用」をテーマとしており，提案モデルの別方向の応用案といえる．\n",
    "    - セッションデータの詳細は`03_Prepare_Dataset`の`4. セッションデータ作成`を参照されたい．"
   ]
  },
  {
   "cell_type": "code",
   "execution_count": 20,
   "id": "marine-experience",
   "metadata": {},
   "outputs": [
    {
     "data": {
      "text/plain": [
       "(dataset.Hololive, model.Word2VecModel)"
      ]
     },
     "execution_count": 20,
     "metadata": {},
     "output_type": "execute_result"
    }
   ],
   "source": [
    "type(hololive), type(w2v_model_v1)"
   ]
  },
  {
   "cell_type": "code",
   "execution_count": 21,
   "id": "preceding-combining",
   "metadata": {},
   "outputs": [
    {
     "name": "stdout",
     "output_type": "stream",
     "text": [
      "model_path \t /Users/nyu/gdrive/learn/hololi2vec/model/word2vec/hololive_v1.model\n",
      "loaded_model \t True\n",
      "sentences_path \t /Users/nyu/gdrive/learn/hololi2vec/data/wakatigaki/hololive_3200_20210101.txt\n",
      "verbose \t True\n",
      "model \t Word2Vec(vocab=7825, size=50, alpha=0.025)\n",
      "params \t {'window': 17, 'size': 50, 'sample': 0.01, 'negative': 50, 'min_count': 5, 'epochs': 30}\n"
     ]
    }
   ],
   "source": [
    "for k, v in vars(w2v_model_v1).items():\n",
    "    print(k, '\\t', v)"
   ]
  },
  {
   "cell_type": "markdown",
   "id": "latest-alarm",
   "metadata": {},
   "source": [
    "- `Hololive`クラスのインスタンス（訓練・テストセット分割，分かち書きファイル作成済み）をデータセットとして与え，`ProposalModel`のインスタンスを生成する．\n",
    "- `Word2VecModel`クラスのインスタンス（訓練済み）も与える．提案システムはWord2Vec（Item2Vec）をベースとしており，Word2Vecモデルが学習する分散表現の質に依存する．\n",
    "- インスタンス生成時には提案モデルのハイパーパラメータ設定も辞書で渡す（詳細は次節で述べる）．"
   ]
  },
  {
   "cell_type": "markdown",
   "id": "further-lighting",
   "metadata": {},
   "source": [
    "## 提案モデルのハイパーパラメータ\n",
    "- 提案モデルは多くのハイパーパラメータを持つが，卒論に向けた実験により明らかに強い傾向が見られた設定は固定してしまう．\n",
    "- しかし，次の3つについてはデータセットによって異なる傾向になる可能性が高く，`ProposalModel`に与えることで値を変更できるようにしてある\n",
    "    - ツイート（セッション）表現構築タイプ: コサイン類似度と順序差減衰の2つの方法を提案している．\n",
    "    - 崩壊定数: 順序差減衰によるツイート表現構築時に，重み決定のために使用される指数減衰関数の崩壊定数である．ツイート表現構築タイプがコサイン類似度の場合は与える必要がない．\n",
    "    - コンテキストセッション数: ユーザ表現構築時に考慮する過去ツイート（セッション）数である．\n",
    "- 改めて，提案モデルの詳細は **https://www.slideshare.net/okamoto-laboratory/ss-239612151** を参照されたい．"
   ]
  },
  {
   "cell_type": "code",
   "execution_count": 22,
   "id": "textile-century",
   "metadata": {},
   "outputs": [],
   "source": [
    "prop_cos_params = dict(tweet_construct_type='cos', user_context=5)\n",
    "prop_odd_params = dict(tweet_construct_type='odd', tweet_lambda=0.7, user_context=5)"
   ]
  },
  {
   "cell_type": "markdown",
   "id": "fundamental-necessity",
   "metadata": {},
   "source": [
    "**[各ハイパーパラメータ設定値について]**\n",
    "\n",
    "- ツイート（セッション）表現構築タイプ: どちらが良いかはまだ明らかになってないので両方試す．\n",
    "- 崩壊定数: セッションデータにおいては0.7が良い傾向にあったため，とりあえず0.7にしておく．\n",
    "- コンテキストセッション数: 全く予想がつかないため，とりあえず決め打ちで5にする（セッションデータでは3と5では5の方がやや良い傾向にあった）．"
   ]
  },
  {
   "cell_type": "markdown",
   "id": "confident-officer",
   "metadata": {},
   "source": [
    "## コサイン類似度モデル\n",
    "まず，ツイート表現構築タイプを「コサイン類似度」としたモデル（コサイン類似度モデル）を試す．"
   ]
  },
  {
   "cell_type": "markdown",
   "id": "subjective-cincinnati",
   "metadata": {},
   "source": [
    "### インスタンス生成"
   ]
  },
  {
   "cell_type": "code",
   "execution_count": 23,
   "id": "proper-board",
   "metadata": {},
   "outputs": [
    {
     "name": "stdout",
     "output_type": "stream",
     "text": [
      "CPU times: user 14.5 s, sys: 725 ms, total: 15.2 s\n",
      "Wall time: 15.4 s\n"
     ]
    }
   ],
   "source": [
    "%%time\n",
    "prop_cos = ProposalModel(hololive=hololive, w2v_model=w2v_model_v1, params=prop_cos_params)"
   ]
  },
  {
   "cell_type": "markdown",
   "id": "gross-trout",
   "metadata": {},
   "source": [
    "インスタンス生成時点（モデル初期化時点）でのインスタンス変数は次の通り"
   ]
  },
  {
   "cell_type": "markdown",
   "id": "stainless-butler",
   "metadata": {},
   "source": [
    "**[ProposalModel]**\n",
    "- `w2v_model`: `Word2VecModel`クラスのインスタンス（訓練セットによる訓練済み）\n",
    "- `train`: 訓練セット（セッションデータ形式）（`Hololive.train_session_df`）\n",
    "- `test`: テストセット（セッションデータ形式）（`Hololive.test_session_df`）\n",
    "- `params`: ハイパーパラメータ設定\n",
    "- `userIds`: ユーザIDリスト（`Hololive.userIds`）\n",
    "- `users`: 提案モデルユーザリスト（`userIds`の各IDをキーとし，値は対応する`ProposalUser`クラスのインスタンス）"
   ]
  },
  {
   "cell_type": "code",
   "execution_count": 24,
   "id": "fiscal-strap",
   "metadata": {},
   "outputs": [
    {
     "name": "stdout",
     "output_type": "stream",
     "text": [
      "[w2v_model] (<class 'model.Word2VecModel'>)\n",
      "<model.Word2VecModel object at 0x13253e910>\n",
      "[train] (<class 'pandas.core.frame.DataFrame'>)\n",
      "(661189, 4)\n",
      "[test] (<class 'pandas.core.frame.DataFrame'>)\n",
      "(225919, 4)\n",
      "[params] (<class 'dict'>)\n",
      "{'tweet_construct_type': 'cos', 'user_context': 5}\n",
      "[userIds] (<class 'numpy.ndarray'>)\n",
      "['tokino_sora' 'robocosan' 'sakuramiko35' 'suisei_hosimati' 'yozoramel'\n",
      " 'shirakamifubuki' 'natsuiromatsuri' 'akaihaato' 'akirosenthal'\n",
      " 'minatoaqua' 'nakiriayame' 'yuzukichococh' 'murasakishionch'\n",
      " 'oozorasubaru' 'ookamimio' 'nekomataokayu' 'inugamikorone'\n",
      " 'shiranuiflare' 'shiroganenoel' 'houshoumarine' 'usadapekora'\n",
      " 'uruharushia' 'amanekanatach' 'kiryucoco' 'tsunomakiwatame'\n",
      " 'tokoyamitowa' 'himemoriluna' 'yukihanalamy' 'momosuzunene'\n",
      " 'shishirobotan' 'omarupolka']\n",
      "[users] (<class 'dict'>)\n",
      "{'tokino_sora': <model.ProposalUser object at 0x12f314460>, 'robocosan': <model.ProposalUser object at 0x12f3147f0>, 'sakuramiko35': <model.ProposalUser object at 0x132904c70>, 'suisei_hosimati': <model.ProposalUser object at 0x1329045e0>, 'yozoramel': <model.ProposalUser object at 0x132904b50>, 'shirakamifubuki': <model.ProposalUser object at 0x133a85eb0>, 'natsuiromatsuri': <model.ProposalUser object at 0x131476bb0>, 'akaihaato': <model.ProposalUser object at 0x13357cf10>, 'akirosenthal': <model.ProposalUser object at 0x12e8b8550>, 'minatoaqua': <model.ProposalUser object at 0x1798af760>, 'nakiriayame': <model.ProposalUser object at 0x1335fee50>, 'yuzukichococh': <model.ProposalUser object at 0x12e907e20>, 'murasakishionch': <model.ProposalUser object at 0x13d4df910>, 'oozorasubaru': <model.ProposalUser object at 0x139d08a90>, 'ookamimio': <model.ProposalUser object at 0x1407699d0>, 'nekomataokayu': <model.ProposalUser object at 0x13e6dcdf0>, 'inugamikorone': <model.ProposalUser object at 0x179661340>, 'shiranuiflare': <model.ProposalUser object at 0x12dcb4130>, 'shiroganenoel': <model.ProposalUser object at 0x13704f4c0>, 'houshoumarine': <model.ProposalUser object at 0x12fcd4b50>, 'usadapekora': <model.ProposalUser object at 0x141b54670>, 'uruharushia': <model.ProposalUser object at 0x14adbda60>, 'amanekanatach': <model.ProposalUser object at 0x141cfcaf0>, 'kiryucoco': <model.ProposalUser object at 0x142b15b20>, 'tsunomakiwatame': <model.ProposalUser object at 0x14e7c3d30>, 'tokoyamitowa': <model.ProposalUser object at 0x15a85cf70>, 'himemoriluna': <model.ProposalUser object at 0x1538dbe50>, 'yukihanalamy': <model.ProposalUser object at 0x16196e7c0>, 'momosuzunene': <model.ProposalUser object at 0x15bfed100>, 'shishirobotan': <model.ProposalUser object at 0x1328f6eb0>, 'omarupolka': <model.ProposalUser object at 0x14d476190>}\n"
     ]
    }
   ],
   "source": [
    "for k, v in vars(prop_cos).items():\n",
    "    print('[{}] ({})'.format(k, type(v)))\n",
    "    if k in {'user_reps'}:\n",
    "        print(len(v))\n",
    "    elif k in {'train', 'test'}:\n",
    "        print(v.shape)\n",
    "    else:\n",
    "        print(v)"
   ]
  },
  {
   "cell_type": "markdown",
   "id": "stylish-houston",
   "metadata": {},
   "source": [
    "**[ProposalUser]**\n",
    "このクラスは`dataset.Holomem`を継承している\n",
    "- `userId`, `name`, `generation`, `n_tweet`, `load`, `verbose`, `preview`, `tweets`, `df`: Holomemクラスのインスタンス変数\n",
    "- `tweetIds`: ツイート（セッション）表現が構築されたツイートIDのリスト\n",
    "- `tweet_reps`: `tweetIds`の各IDに対応するツイート表現\n",
    "- `user_rep`: ユーザ表現．未構築状態であるため`None`になっている．\n",
    "- `proposal_model`: `ProposalUser`インスタンスとリンクしている`ProposalModel`インスタンス\n",
    "- `w2v_model`: `Word2VecModel`クラスのインスタンス（`proposal_model.w2v_model`）\n",
    "- `params`: ハイパーパラメータ設定（`proposal_model.params`）\n",
    "\n",
    "以下では，例としてシオンちゃんの`ProposalUser`インスタンスを示す．"
   ]
  },
  {
   "cell_type": "code",
   "execution_count": 25,
   "id": "normal-potential",
   "metadata": {},
   "outputs": [
    {
     "name": "stdout",
     "output_type": "stream",
     "text": [
      "[userId] (<class 'str'>)\n",
      "murasakishionch\n",
      "[name] (<class 'str'>)\n",
      "紫咲シオン\n",
      "[generation] (<class 'set'>)\n",
      "{'2'}\n",
      "[n_tweet] (<class 'int'>)\n",
      "3200\n",
      "[load] (<class 'bool'>)\n",
      "True\n",
      "[verbose] (<class 'bool'>)\n",
      "False\n",
      "[preview] (<class 'bool'>)\n",
      "False\n",
      "[tweets_path] (<class 'pathlib.PosixPath'>)\n",
      "/Users/nyu/gdrive/learn/hololi2vec/data/tweets_murasakishionch_3200.pkl\n",
      "[tweets_df_path] (<class 'pathlib.PosixPath'>)\n",
      "/Users/nyu/gdrive/learn/hololi2vec/data/tweets_murasakishionch_3200.tsv\n",
      "[tweets] (<class 'list'>)\n",
      "3200\n",
      "[df] (<class 'pandas.core.frame.DataFrame'>)\n",
      "2\n",
      "[tweetIds] (<class 'list'>)\n",
      "1\n",
      "[tweet_reps] (<class 'dict'>)\n",
      "0 {}\n",
      "[user_rep] (<class 'NoneType'>)\n",
      "None\n",
      "[proposal_model] (<class 'model.ProposalModel'>)\n",
      "<model.ProposalModel object at 0x12f314790>\n",
      "[w2v_model] (<class 'model.Word2VecModel'>)\n",
      "<model.Word2VecModel object at 0x13253e910>\n",
      "[params] (<class 'dict'>)\n",
      "{'tweet_construct_type': 'cos', 'user_context': 5}\n"
     ]
    }
   ],
   "source": [
    "for k, v in vars(prop_cos.users['murasakishionch']).items():\n",
    "    print('[{}] ({})'.format(k, type(v)))\n",
    "    if k in {'tweets', 'tweetIds'}:\n",
    "        print(len(v))\n",
    "    elif k in {'df'}:\n",
    "        print(len(v.shape))\n",
    "    elif k in {'tweet_reps'}:\n",
    "        print(len(v), v)\n",
    "    else:\n",
    "        print(v)"
   ]
  },
  {
   "cell_type": "markdown",
   "id": "caring-andrew",
   "metadata": {},
   "source": [
    "### 訓練セットによるモデル学習\n",
    "- `ProposalModel.learn()`は`isTrain`という引数を唯一持っている．\n",
    "- 訓練セットによる学習時は`isTrain=True`とする．\n",
    "- テストセットによる学習時は，`isTrain=False`にすることで全ユーザの各表現の記録`reps_history`をつける（分析に使用）．"
   ]
  },
  {
   "cell_type": "code",
   "execution_count": 26,
   "id": "silver-texture",
   "metadata": {},
   "outputs": [
    {
     "data": {
      "application/vnd.jupyter.widget-view+json": {
       "model_id": "e3fe46c8c944477fab36c4b83c4645cf",
       "version_major": 2,
       "version_minor": 0
      },
      "text/plain": [
       "  0%|          | 0/661189 [00:00<?, ?it/s]"
      ]
     },
     "metadata": {},
     "output_type": "display_data"
    },
    {
     "name": "stdout",
     "output_type": "stream",
     "text": [
      "CPU times: user 20.1 s, sys: 3.01 s, total: 23.1 s\n",
      "Wall time: 20.8 s\n"
     ]
    }
   ],
   "source": [
    "%%time\n",
    "prop_cos.learn(isTrain=True)"
   ]
  },
  {
   "cell_type": "markdown",
   "id": "wanted-enterprise",
   "metadata": {},
   "source": [
    "訓練セットによるモデル学習後のインスタンス変数は次の通り"
   ]
  },
  {
   "cell_type": "markdown",
   "id": "loaded-ceiling",
   "metadata": {},
   "source": [
    "**[ProposalModel]**（更新されたor新たに追加されたインスタンス変数のみ）\n",
    "- `users`: 値の`ProposalUser`が更新されている（後述）\n",
    "- `user_reps`: `userIds`の各IDに対応するユーザ表現"
   ]
  },
  {
   "cell_type": "code",
   "execution_count": 27,
   "id": "gross-armor",
   "metadata": {},
   "outputs": [
    {
     "name": "stdout",
     "output_type": "stream",
     "text": [
      "[w2v_model] (<class 'model.Word2VecModel'>)\n",
      "<model.Word2VecModel object at 0x13253e910>\n",
      "[train] (<class 'pandas.core.frame.DataFrame'>)\n",
      "(661189, 4)\n",
      "[test] (<class 'pandas.core.frame.DataFrame'>)\n",
      "(225919, 4)\n",
      "[params] (<class 'dict'>)\n",
      "{'tweet_construct_type': 'cos', 'user_context': 5}\n",
      "[userIds] (<class 'numpy.ndarray'>)\n",
      "['tokino_sora' 'robocosan' 'sakuramiko35' 'suisei_hosimati' 'yozoramel'\n",
      " 'shirakamifubuki' 'natsuiromatsuri' 'akaihaato' 'akirosenthal'\n",
      " 'minatoaqua' 'nakiriayame' 'yuzukichococh' 'murasakishionch'\n",
      " 'oozorasubaru' 'ookamimio' 'nekomataokayu' 'inugamikorone'\n",
      " 'shiranuiflare' 'shiroganenoel' 'houshoumarine' 'usadapekora'\n",
      " 'uruharushia' 'amanekanatach' 'kiryucoco' 'tsunomakiwatame'\n",
      " 'tokoyamitowa' 'himemoriluna' 'yukihanalamy' 'momosuzunene'\n",
      " 'shishirobotan' 'omarupolka']\n",
      "[users] (<class 'dict'>)\n",
      "{'tokino_sora': <model.ProposalUser object at 0x12f314460>, 'robocosan': <model.ProposalUser object at 0x12f3147f0>, 'sakuramiko35': <model.ProposalUser object at 0x132904c70>, 'suisei_hosimati': <model.ProposalUser object at 0x1329045e0>, 'yozoramel': <model.ProposalUser object at 0x132904b50>, 'shirakamifubuki': <model.ProposalUser object at 0x133a85eb0>, 'natsuiromatsuri': <model.ProposalUser object at 0x131476bb0>, 'akaihaato': <model.ProposalUser object at 0x13357cf10>, 'akirosenthal': <model.ProposalUser object at 0x12e8b8550>, 'minatoaqua': <model.ProposalUser object at 0x1798af760>, 'nakiriayame': <model.ProposalUser object at 0x1335fee50>, 'yuzukichococh': <model.ProposalUser object at 0x12e907e20>, 'murasakishionch': <model.ProposalUser object at 0x13d4df910>, 'oozorasubaru': <model.ProposalUser object at 0x139d08a90>, 'ookamimio': <model.ProposalUser object at 0x1407699d0>, 'nekomataokayu': <model.ProposalUser object at 0x13e6dcdf0>, 'inugamikorone': <model.ProposalUser object at 0x179661340>, 'shiranuiflare': <model.ProposalUser object at 0x12dcb4130>, 'shiroganenoel': <model.ProposalUser object at 0x13704f4c0>, 'houshoumarine': <model.ProposalUser object at 0x12fcd4b50>, 'usadapekora': <model.ProposalUser object at 0x141b54670>, 'uruharushia': <model.ProposalUser object at 0x14adbda60>, 'amanekanatach': <model.ProposalUser object at 0x141cfcaf0>, 'kiryucoco': <model.ProposalUser object at 0x142b15b20>, 'tsunomakiwatame': <model.ProposalUser object at 0x14e7c3d30>, 'tokoyamitowa': <model.ProposalUser object at 0x15a85cf70>, 'himemoriluna': <model.ProposalUser object at 0x1538dbe50>, 'yukihanalamy': <model.ProposalUser object at 0x16196e7c0>, 'momosuzunene': <model.ProposalUser object at 0x15bfed100>, 'shishirobotan': <model.ProposalUser object at 0x1328f6eb0>, 'omarupolka': <model.ProposalUser object at 0x14d476190>}\n",
      "[user_reps] (<class 'dict'>)\n",
      "31 [-1.64357107e-01 -2.78379509e-01  2.54413876e-02  1.47594815e-01\n",
      "  5.50623744e-02  1.75366636e-01 -2.09519979e-01  2.52754207e-02\n",
      " -6.17412964e-01 -4.25447198e-01  2.02606629e-01  9.90378275e-02\n",
      " -1.63933176e-01 -3.22292460e-02 -1.23567048e-01 -3.18737937e-02\n",
      "  1.43136963e-01  1.41755026e-01  2.44117208e-01  2.05201308e-01\n",
      "  1.73548285e-02  4.36239582e-01 -1.79076590e-04 -2.57884292e-01\n",
      " -8.13833362e-02  8.09727406e-02  4.93040365e-02  5.13030255e-01\n",
      " -1.48293555e-01 -1.67355876e-01 -9.68322747e-02  2.52433422e-01\n",
      "  8.05215298e-02  3.18925005e-01  2.70360872e-01 -8.71156495e-03\n",
      "  4.02349711e-01  1.53543456e-01 -3.21100016e-01  3.35234115e-01\n",
      " -1.76686743e-01 -1.04740936e-02 -1.49319189e-01 -3.69544558e-01\n",
      " -2.59139591e-01 -1.45959099e-01 -1.02560008e-02  7.77744601e-02\n",
      " -3.00794737e-01 -3.76588491e-01]\n"
     ]
    }
   ],
   "source": [
    "for k, v in vars(prop_cos).items():\n",
    "    print('[{}] ({})'.format(k, type(v)))\n",
    "    if k in {'user_reps'}:\n",
    "        print(len(v), v['murasakishionch'])\n",
    "    elif k in {'train', 'test'}:\n",
    "        print(v.shape)\n",
    "    else:\n",
    "        print(v)"
   ]
  },
  {
   "cell_type": "markdown",
   "id": "meaningful-disaster",
   "metadata": {},
   "source": [
    "**[ProposalUser]**（更新されたor新たに追加されたインスタンス変数のみ）\n",
    "- `tweetIds`: ツイート（セッション）表現が構築されたツイートIDのリスト．後述するが，すべてのツイートのツイート表現が構築されるとは限らない．\n",
    "- `tweet_reps`: `tweetIds`の各IDに対応するツイート表現．`tweetIds`が初期値として`[-1]`を持ち，このリストにツイートIDを追加していくため，`tweet_reps`のサイズは`tweetIds`より1小さくなる．\n",
    "- `user_rep`: ユーザ表現．`None`ではなくなっている．\n",
    "- `proposal_model`: `ProposalUser`インスタンスとリンクしている`ProposalModel`インスタンス．更新された`ProposalModel`のインスタンス変数は先に述べた通り．"
   ]
  },
  {
   "cell_type": "code",
   "execution_count": 28,
   "id": "labeled-andrews",
   "metadata": {},
   "outputs": [
    {
     "name": "stdout",
     "output_type": "stream",
     "text": [
      "[userId] (<class 'str'>)\n",
      "murasakishionch\n",
      "[name] (<class 'str'>)\n",
      "紫咲シオン\n",
      "[generation] (<class 'set'>)\n",
      "{'2'}\n",
      "[n_tweet] (<class 'int'>)\n",
      "3200\n",
      "[load] (<class 'bool'>)\n",
      "True\n",
      "[verbose] (<class 'bool'>)\n",
      "False\n",
      "[preview] (<class 'bool'>)\n",
      "False\n",
      "[tweets_path] (<class 'pathlib.PosixPath'>)\n",
      "/Users/nyu/gdrive/learn/hololi2vec/data/tweets_murasakishionch_3200.pkl\n",
      "[tweets_df_path] (<class 'pathlib.PosixPath'>)\n",
      "/Users/nyu/gdrive/learn/hololi2vec/data/tweets_murasakishionch_3200.tsv\n",
      "[tweets] (<class 'list'>)\n",
      "3200\n",
      "[df] (<class 'pandas.core.frame.DataFrame'>)\n",
      "(2573, 3)\n",
      "[tweetIds] (<class 'list'>)\n",
      "2196\n",
      "[tweet_reps] (<class 'dict'>)\n",
      "2195 (50,)\n",
      "[user_rep] (<class 'numpy.ndarray'>)\n",
      "[-1.64357107e-01 -2.78379509e-01  2.54413876e-02  1.47594815e-01\n",
      "  5.50623744e-02  1.75366636e-01 -2.09519979e-01  2.52754207e-02\n",
      " -6.17412964e-01 -4.25447198e-01  2.02606629e-01  9.90378275e-02\n",
      " -1.63933176e-01 -3.22292460e-02 -1.23567048e-01 -3.18737937e-02\n",
      "  1.43136963e-01  1.41755026e-01  2.44117208e-01  2.05201308e-01\n",
      "  1.73548285e-02  4.36239582e-01 -1.79076590e-04 -2.57884292e-01\n",
      " -8.13833362e-02  8.09727406e-02  4.93040365e-02  5.13030255e-01\n",
      " -1.48293555e-01 -1.67355876e-01 -9.68322747e-02  2.52433422e-01\n",
      "  8.05215298e-02  3.18925005e-01  2.70360872e-01 -8.71156495e-03\n",
      "  4.02349711e-01  1.53543456e-01 -3.21100016e-01  3.35234115e-01\n",
      " -1.76686743e-01 -1.04740936e-02 -1.49319189e-01 -3.69544558e-01\n",
      " -2.59139591e-01 -1.45959099e-01 -1.02560008e-02  7.77744601e-02\n",
      " -3.00794737e-01 -3.76588491e-01]\n",
      "[proposal_model] (<class 'model.ProposalModel'>)\n",
      "<model.ProposalModel object at 0x12f314790>\n",
      "[w2v_model] (<class 'model.Word2VecModel'>)\n",
      "<model.Word2VecModel object at 0x13253e910>\n",
      "[params] (<class 'dict'>)\n",
      "{'tweet_construct_type': 'cos', 'user_context': 5}\n"
     ]
    }
   ],
   "source": [
    "for k, v in vars(prop_cos.users['murasakishionch']).items():\n",
    "    print('[{}] ({})'.format(k, type(v)))\n",
    "    if k in {'tweets', 'tweetIds'}:\n",
    "        print(len(v))\n",
    "    elif k in {'df'}:\n",
    "        print(v.shape)\n",
    "    elif k in {'tweet_reps'}:\n",
    "        print(len(v), v[prop_cos.users['murasakishionch'].tweetIds[1]].shape)\n",
    "    else:\n",
    "        print(v)"
   ]
  },
  {
   "cell_type": "markdown",
   "id": "contemporary-swaziland",
   "metadata": {},
   "source": [
    "`tweetIds`（先頭の`-1`除く），と`tweet_reps.keys()`は必ず一致する"
   ]
  },
  {
   "cell_type": "code",
   "execution_count": 29,
   "id": "collective-simpson",
   "metadata": {},
   "outputs": [],
   "source": [
    "assert prop_cos.users['murasakishionch'].tweetIds[1:] == list(prop_cos.users['murasakishionch'].tweet_reps.keys())"
   ]
  },
  {
   "cell_type": "markdown",
   "id": "authorized-uncle",
   "metadata": {},
   "source": [
    "- 与えたデータセットに含まれるツイート数と，実際に構築されたツイート表現数は必ずしも一致するとは限らない．\n",
    "- あるツイートに含まれる単語のいずれにおいても，訓練セットに含まれていないがために単語表現が取得できなかった場合，そのツイートのツイート表現が構築できない．\n",
    "- そのようなケースは非常に限られていることが予想されるが，起こる可能性はゼロではないため，このような僅かな差が生じている．"
   ]
  },
  {
   "cell_type": "code",
   "execution_count": 30,
   "id": "endangered-thomas",
   "metadata": {},
   "outputs": [
    {
     "name": "stdout",
     "output_type": "stream",
     "text": [
      "n_tweet\t\t 2200\n",
      "n_tweet_rep\t 2196\n"
     ]
    }
   ],
   "source": [
    "print('n_tweet\\t\\t', len(hololive.train_df[hololive.train_df['userId'] == 'murasakishionch']))\n",
    "print('n_tweet_rep\\t', len(prop_cos.users['murasakishionch'].tweetIds))"
   ]
  },
  {
   "cell_type": "markdown",
   "id": "selected-holocaust",
   "metadata": {},
   "source": [
    "ツイート・ユーザ表現の次元数はいずれも`w2v_model.params['size']`と一致する．"
   ]
  },
  {
   "cell_type": "code",
   "execution_count": 31,
   "id": "instructional-silence",
   "metadata": {},
   "outputs": [],
   "source": [
    "assert prop_cos.w2v_model.params['size'] == prop_cos.users['murasakishionch'].tweet_reps[prop_cos.users['murasakishionch'].tweetIds[-1]].shape[0]\n",
    "assert prop_cos.w2v_model.params['size'] == prop_cos.users['murasakishionch'].user_rep.shape[0]"
   ]
  },
  {
   "cell_type": "code",
   "execution_count": null,
   "id": "fuzzy-sellers",
   "metadata": {},
   "outputs": [],
   "source": []
  },
  {
   "cell_type": "markdown",
   "id": "conventional-brooklyn",
   "metadata": {},
   "source": [
    "### テストセットによるモデル学習\n",
    "`isTrain=False`にすることで分析のための全ユーザの各表現の記録`reps_history`をつける．"
   ]
  },
  {
   "cell_type": "markdown",
   "id": "tested-reader",
   "metadata": {},
   "source": [
    "処理するログ数は訓練セットの1/3程度しかないが，記録をつける処理が追加される影響で実行時間は約2.5倍になっている．"
   ]
  },
  {
   "cell_type": "code",
   "execution_count": 32,
   "id": "raised-attendance",
   "metadata": {},
   "outputs": [
    {
     "data": {
      "application/vnd.jupyter.widget-view+json": {
       "model_id": "0ed9472bac704e8f9a867e58b485e6ed",
       "version_major": 2,
       "version_minor": 0
      },
      "text/plain": [
       "  0%|          | 0/225919 [00:00<?, ?it/s]"
      ]
     },
     "metadata": {},
     "output_type": "display_data"
    },
    {
     "name": "stdout",
     "output_type": "stream",
     "text": [
      "CPU times: user 51.6 s, sys: 2.82 s, total: 54.4 s\n",
      "Wall time: 54.5 s\n"
     ]
    }
   ],
   "source": [
    "%%time\n",
    "prop_cos.learn(isTrain=False)"
   ]
  },
  {
   "cell_type": "markdown",
   "id": "black-snapshot",
   "metadata": {},
   "source": [
    "テストセットによるモデル学習後のインスタンス変数は次の通り"
   ]
  },
  {
   "cell_type": "markdown",
   "id": "crude-cliff",
   "metadata": {},
   "source": [
    "**[ProposalModel]**（更新されたor新たに追加されたインスタンス変数のみ）\n",
    "- `users`: 値の`ProposalUser`が更新されている\n",
    "- `user_reps`: `userIds`の各IDに対応するユーザ表現\n",
    "- `reps_history`: 表現ヒストリー．詳細は2.4で述べる．"
   ]
  },
  {
   "cell_type": "code",
   "execution_count": 33,
   "id": "lesser-protection",
   "metadata": {},
   "outputs": [
    {
     "name": "stdout",
     "output_type": "stream",
     "text": [
      "[w2v_model] (<class 'model.Word2VecModel'>)\n",
      "<model.Word2VecModel object at 0x13253e910>\n",
      "[train] (<class 'pandas.core.frame.DataFrame'>)\n",
      "shape: (661189, 4)\n",
      "[test] (<class 'pandas.core.frame.DataFrame'>)\n",
      "shape: (225919, 4)\n",
      "[params] (<class 'dict'>)\n",
      "{'tweet_construct_type': 'cos', 'user_context': 5}\n",
      "[userIds] (<class 'numpy.ndarray'>)\n",
      "['tokino_sora' 'robocosan' 'sakuramiko35' 'suisei_hosimati' 'yozoramel'\n",
      " 'shirakamifubuki' 'natsuiromatsuri' 'akaihaato' 'akirosenthal'\n",
      " 'minatoaqua' 'nakiriayame' 'yuzukichococh' 'murasakishionch'\n",
      " 'oozorasubaru' 'ookamimio' 'nekomataokayu' 'inugamikorone'\n",
      " 'shiranuiflare' 'shiroganenoel' 'houshoumarine' 'usadapekora'\n",
      " 'uruharushia' 'amanekanatach' 'kiryucoco' 'tsunomakiwatame'\n",
      " 'tokoyamitowa' 'himemoriluna' 'yukihanalamy' 'momosuzunene'\n",
      " 'shishirobotan' 'omarupolka']\n",
      "[users] (<class 'dict'>)\n",
      "{'tokino_sora': <model.ProposalUser object at 0x12f314460>, 'robocosan': <model.ProposalUser object at 0x12f3147f0>, 'sakuramiko35': <model.ProposalUser object at 0x132904c70>, 'suisei_hosimati': <model.ProposalUser object at 0x1329045e0>, 'yozoramel': <model.ProposalUser object at 0x132904b50>, 'shirakamifubuki': <model.ProposalUser object at 0x133a85eb0>, 'natsuiromatsuri': <model.ProposalUser object at 0x131476bb0>, 'akaihaato': <model.ProposalUser object at 0x13357cf10>, 'akirosenthal': <model.ProposalUser object at 0x12e8b8550>, 'minatoaqua': <model.ProposalUser object at 0x1798af760>, 'nakiriayame': <model.ProposalUser object at 0x1335fee50>, 'yuzukichococh': <model.ProposalUser object at 0x12e907e20>, 'murasakishionch': <model.ProposalUser object at 0x13d4df910>, 'oozorasubaru': <model.ProposalUser object at 0x139d08a90>, 'ookamimio': <model.ProposalUser object at 0x1407699d0>, 'nekomataokayu': <model.ProposalUser object at 0x13e6dcdf0>, 'inugamikorone': <model.ProposalUser object at 0x179661340>, 'shiranuiflare': <model.ProposalUser object at 0x12dcb4130>, 'shiroganenoel': <model.ProposalUser object at 0x13704f4c0>, 'houshoumarine': <model.ProposalUser object at 0x12fcd4b50>, 'usadapekora': <model.ProposalUser object at 0x141b54670>, 'uruharushia': <model.ProposalUser object at 0x14adbda60>, 'amanekanatach': <model.ProposalUser object at 0x141cfcaf0>, 'kiryucoco': <model.ProposalUser object at 0x142b15b20>, 'tsunomakiwatame': <model.ProposalUser object at 0x14e7c3d30>, 'tokoyamitowa': <model.ProposalUser object at 0x15a85cf70>, 'himemoriluna': <model.ProposalUser object at 0x1538dbe50>, 'yukihanalamy': <model.ProposalUser object at 0x16196e7c0>, 'momosuzunene': <model.ProposalUser object at 0x15bfed100>, 'shishirobotan': <model.ProposalUser object at 0x1328f6eb0>, 'omarupolka': <model.ProposalUser object at 0x14d476190>}\n",
      "[user_reps] (<class 'dict'>)\n",
      "(len, element): (31, array([-0.09852445, -0.15406775,  0.06411612,  0.22974703,  0.02795913,\n",
      "        0.18211311, -0.57346901, -0.22245079, -0.4241515 , -0.35603848,\n",
      "        0.27812065, -0.10080502, -0.0511355 , -0.13357233, -0.00349555,\n",
      "        0.06772817, -0.17760566,  0.49095935, -0.14935502,  0.21127855,\n",
      "       -0.2612417 ,  0.34342172,  0.37707779, -0.05467851,  0.28111831,\n",
      "       -0.13785169,  0.09051805,  0.74005283,  0.05610007, -0.07612331,\n",
      "       -0.26278006,  0.42290421,  0.40687717,  0.50538283,  0.16398622,\n",
      "        0.4375396 ,  0.34614054,  0.15394873, -0.33597568,  0.40773166,\n",
      "       -0.43948197, -0.42742959, -0.20907587, -0.3583693 , -0.21339715,\n",
      "        0.24124911,  0.45086699,  0.02952802, -0.36237078, -0.55497147]))\n",
      "[reps_history] (<class 'dict'>)\n",
      "sample_user: murasakishionch {'tweet_rep': array([-0.38087392, -0.21508718, -0.09984877, -0.03285884,  0.2614746 ,\n",
      "        0.22743541, -0.17077759,  0.01259382, -0.5729439 , -0.40227866,\n",
      "        0.3897619 ,  0.03146386, -0.1634658 ,  0.26495594, -0.09742281,\n",
      "        0.00969832, -0.05913102, -0.03112137,  0.10232247,  0.3502683 ,\n",
      "       -0.08506773,  0.7119093 , -0.03284251, -0.01126166, -0.09972657,\n",
      "        0.09520157, -0.02933645,  0.52338314, -0.20653194, -0.35440797,\n",
      "        0.0184336 ,  0.31089997,  0.29125273,  0.3388365 ,  0.12781462,\n",
      "       -0.05506627,  0.52174246,  0.08055086, -0.4262746 ,  0.08692914,\n",
      "       -0.12909333, -0.05127875, -0.23139285, -0.09177579, -0.12955011,\n",
      "       -0.16408654,  0.20534672,  0.13826327, -0.3504176 , -0.349572  ],\n",
      "      dtype=float32), 'user_rep': array([-1.64357107e-01, -2.78379509e-01,  2.54413876e-02,  1.47594815e-01,\n",
      "        5.50623744e-02,  1.75366636e-01, -2.09519979e-01,  2.52754207e-02,\n",
      "       -6.17412964e-01, -4.25447198e-01,  2.02606629e-01,  9.90378275e-02,\n",
      "       -1.63933176e-01, -3.22292460e-02, -1.23567048e-01, -3.18737937e-02,\n",
      "        1.43136963e-01,  1.41755026e-01,  2.44117208e-01,  2.05201308e-01,\n",
      "        1.73548285e-02,  4.36239582e-01, -1.79076590e-04, -2.57884292e-01,\n",
      "       -8.13833362e-02,  8.09727406e-02,  4.93040365e-02,  5.13030255e-01,\n",
      "       -1.48293555e-01, -1.67355876e-01, -9.68322747e-02,  2.52433422e-01,\n",
      "        8.05215298e-02,  3.18925005e-01,  2.70360872e-01, -8.71156495e-03,\n",
      "        4.02349711e-01,  1.53543456e-01, -3.21100016e-01,  3.35234115e-01,\n",
      "       -1.76686743e-01, -1.04740936e-02, -1.49319189e-01, -3.69544558e-01,\n",
      "       -2.59139591e-01, -1.45959099e-01, -1.02560008e-02,  7.77744601e-02,\n",
      "       -3.00794737e-01, -3.76588491e-01])}\n"
     ]
    }
   ],
   "source": [
    "for k, v in vars(prop_cos).items():\n",
    "    print('[{}] ({})'.format(k, type(v)))\n",
    "    if k in {'user_reps'}:\n",
    "        print('(len, element): {}'.format((len(v), v['murasakishionch'])))\n",
    "    elif k in {'train', 'test'}:\n",
    "        print('shape:', v.shape)\n",
    "    elif k in {'reps_history'}:\n",
    "        print('sample_user:' ,'murasakishionch', v[-1]['murasakishionch'])\n",
    "    else:\n",
    "        print(v)"
   ]
  },
  {
   "cell_type": "markdown",
   "id": "floral-bread",
   "metadata": {},
   "source": [
    "**[ProposalUser]**（更新されたor新たに追加されたインスタンス変数のみ）\n",
    "- `tweetIds`: ツイート（セッション）表現が構築されたツイートIDのリスト．訓練セットによるモデル学習後の`tweetIds`に追加される形になっている．\n",
    "- `tweet_reps`: `tweetIds`の各IDに対応するツイート表現．\n",
    "- `user_rep`: ユーザ表現．\n",
    "- `proposal_model`: `ProposalUser`インスタンスとリンクしている`ProposalModel`インスタンス．更新・追加された`ProposalModel`のインスタンス変数は先に述べた通り．"
   ]
  },
  {
   "cell_type": "code",
   "execution_count": 34,
   "id": "stuffed-estimate",
   "metadata": {},
   "outputs": [
    {
     "name": "stdout",
     "output_type": "stream",
     "text": [
      "[userId] (<class 'str'>)\n",
      "murasakishionch\n",
      "[name] (<class 'str'>)\n",
      "紫咲シオン\n",
      "[generation] (<class 'set'>)\n",
      "{'2'}\n",
      "[n_tweet] (<class 'int'>)\n",
      "3200\n",
      "[load] (<class 'bool'>)\n",
      "True\n",
      "[verbose] (<class 'bool'>)\n",
      "False\n",
      "[preview] (<class 'bool'>)\n",
      "False\n",
      "[tweets_path] (<class 'pathlib.PosixPath'>)\n",
      "/Users/nyu/gdrive/learn/hololi2vec/data/tweets_murasakishionch_3200.pkl\n",
      "[tweets_df_path] (<class 'pathlib.PosixPath'>)\n",
      "/Users/nyu/gdrive/learn/hololi2vec/data/tweets_murasakishionch_3200.tsv\n",
      "[tweets] (<class 'list'>)\n",
      "len: 3200\n",
      "[df] (<class 'pandas.core.frame.DataFrame'>)\n",
      "shape: (2573, 3)\n",
      "[tweetIds] (<class 'list'>)\n",
      "len: 2394\n",
      "[tweet_reps] (<class 'dict'>)\n",
      "(len, element): (2393, array([-0.41033912, -0.31465462,  0.00629656, -0.1206122 ,  0.32318568,\n",
      "        0.25138915, -0.1192783 ,  0.0105895 , -0.3910103 , -0.38833833,\n",
      "        0.2626191 , -0.04111688, -0.16912755,  0.41238344, -0.08083791,\n",
      "       -0.05192978, -0.06790527, -0.01574949,  0.22362402,  0.24202012,\n",
      "       -0.18749912,  0.53588337, -0.07133744, -0.23397805, -0.06935605,\n",
      "        0.00632706, -0.12830745,  0.5047988 , -0.17396988, -0.3221604 ,\n",
      "        0.19538832,  0.26111668,  0.3490926 ,  0.24773097,  0.07735786,\n",
      "       -0.05761809,  0.48485762,  0.10369481, -0.38285625,  0.10616279,\n",
      "       -0.10538863, -0.12388983, -0.39395627, -0.27395958, -0.13909194,\n",
      "       -0.27819678,  0.25748226,  0.00753432, -0.21343514, -0.46121234],\n",
      "      dtype=float32))\n",
      "[user_rep] (<class 'numpy.ndarray'>)\n",
      "[-0.09852445 -0.15406775  0.06411612  0.22974703  0.02795913  0.18211311\n",
      " -0.57346901 -0.22245079 -0.4241515  -0.35603848  0.27812065 -0.10080502\n",
      " -0.0511355  -0.13357233 -0.00349555  0.06772817 -0.17760566  0.49095935\n",
      " -0.14935502  0.21127855 -0.2612417   0.34342172  0.37707779 -0.05467851\n",
      "  0.28111831 -0.13785169  0.09051805  0.74005283  0.05610007 -0.07612331\n",
      " -0.26278006  0.42290421  0.40687717  0.50538283  0.16398622  0.4375396\n",
      "  0.34614054  0.15394873 -0.33597568  0.40773166 -0.43948197 -0.42742959\n",
      " -0.20907587 -0.3583693  -0.21339715  0.24124911  0.45086699  0.02952802\n",
      " -0.36237078 -0.55497147]\n",
      "[proposal_model] (<class 'model.ProposalModel'>)\n",
      "<model.ProposalModel object at 0x12f314790>\n",
      "[w2v_model] (<class 'model.Word2VecModel'>)\n",
      "<model.Word2VecModel object at 0x13253e910>\n",
      "[params] (<class 'dict'>)\n",
      "{'tweet_construct_type': 'cos', 'user_context': 5}\n"
     ]
    }
   ],
   "source": [
    "for k, v in vars(prop_cos.users['murasakishionch']).items():\n",
    "    print('[{}] ({})'.format(k, type(v)))\n",
    "    if k in {'tweets', 'tweetIds'}:\n",
    "        print('len:', len(v))\n",
    "    elif k in {'df'}:\n",
    "        print('shape:', v.shape)\n",
    "    elif k in {'tweet_reps'}:\n",
    "        print('(len, element): {}'.format((len(v), v[prop_cos.users['murasakishionch'].tweetIds[1]])))\n",
    "    else:\n",
    "        print(v)"
   ]
  },
  {
   "cell_type": "markdown",
   "id": "fabulous-flour",
   "metadata": {},
   "source": [
    "訓練セットによる学習後と同様に，`tweetIds`（先頭の`-1`除く）と`tweet_reps.keys()`は必ず一致する．"
   ]
  },
  {
   "cell_type": "code",
   "execution_count": 35,
   "id": "innocent-belle",
   "metadata": {},
   "outputs": [],
   "source": [
    "assert prop_cos.users['murasakishionch'].tweetIds[1:] == list(prop_cos.users['murasakishionch'].tweet_reps.keys())"
   ]
  },
  {
   "cell_type": "markdown",
   "id": "challenging-philippines",
   "metadata": {},
   "source": [
    "与えたデータセットに含まれるツイート数と，実際に構築されたツイート表現数の差は以下の通り．"
   ]
  },
  {
   "cell_type": "code",
   "execution_count": 36,
   "id": "charitable-treasury",
   "metadata": {},
   "outputs": [
    {
     "name": "stdout",
     "output_type": "stream",
     "text": [
      "n_tweet (train+test)\t 2398\n",
      "n_tweet_rep (train+test) 2394\n",
      "n_tweet - n_tweet_rep\t 4\n"
     ]
    }
   ],
   "source": [
    "n_tweet = len(hololive.train_df[hololive.train_df['userId'] == 'murasakishionch']\n",
    "             ) + len(hololive.test_df[hololive.test_df['userId'] == 'murasakishionch'])\n",
    "\n",
    "print('n_tweet (train+test)\\t', n_tweet)\n",
    "print('n_tweet_rep (train+test)', len(prop_cos.users['murasakishionch'].tweetIds))\n",
    "print('n_tweet - n_tweet_rep\\t', n_tweet - len(prop_cos.users['murasakishionch'].tweetIds))"
   ]
  },
  {
   "cell_type": "markdown",
   "id": "royal-premiere",
   "metadata": {},
   "source": [
    "差が訓練セットによる学習後から変化していないことから，テストセットに含まれるシオンちゃんのツイートに対してはすべてのツイート表現が構築できたといえる．"
   ]
  },
  {
   "cell_type": "markdown",
   "id": "further-arabic",
   "metadata": {},
   "source": [
    "## 順序差減衰モデル\n",
    "- ツイート表現構築タイプを「順序差減衰」としたモデル（順序差減衰モデル）も同様にインスタンス生成とモデル学習を行う．\n",
    "- 各セルに対する説明はコサイン類似度モデルの場合と同様であるため基本省略する．"
   ]
  },
  {
   "cell_type": "markdown",
   "id": "skilled-undergraduate",
   "metadata": {},
   "source": [
    "### インスタンス生成"
   ]
  },
  {
   "cell_type": "code",
   "execution_count": 37,
   "id": "funky-penetration",
   "metadata": {},
   "outputs": [
    {
     "data": {
      "text/plain": [
       "{'tweet_construct_type': 'odd', 'tweet_lambda': 0.7, 'user_context': 5}"
      ]
     },
     "execution_count": 37,
     "metadata": {},
     "output_type": "execute_result"
    }
   ],
   "source": [
    "prop_odd_params"
   ]
  },
  {
   "cell_type": "code",
   "execution_count": 38,
   "id": "criminal-purpose",
   "metadata": {},
   "outputs": [
    {
     "name": "stdout",
     "output_type": "stream",
     "text": [
      "CPU times: user 15.6 s, sys: 2.31 s, total: 17.9 s\n",
      "Wall time: 18.3 s\n"
     ]
    }
   ],
   "source": [
    "%%time\n",
    "prop_odd = ProposalModel(hololive=hololive, w2v_model=w2v_model_v1, params=prop_odd_params)"
   ]
  },
  {
   "cell_type": "code",
   "execution_count": 39,
   "id": "checked-studio",
   "metadata": {},
   "outputs": [
    {
     "name": "stdout",
     "output_type": "stream",
     "text": [
      "[w2v_model] (<class 'model.Word2VecModel'>)\n",
      "<model.Word2VecModel object at 0x13253e910>\n",
      "[train] (<class 'pandas.core.frame.DataFrame'>)\n",
      "(661189, 4)\n",
      "[test] (<class 'pandas.core.frame.DataFrame'>)\n",
      "(225919, 4)\n",
      "[params] (<class 'dict'>)\n",
      "{'tweet_construct_type': 'odd', 'tweet_lambda': 0.7, 'user_context': 5}\n",
      "[userIds] (<class 'numpy.ndarray'>)\n",
      "['tokino_sora' 'robocosan' 'sakuramiko35' 'suisei_hosimati' 'yozoramel'\n",
      " 'shirakamifubuki' 'natsuiromatsuri' 'akaihaato' 'akirosenthal'\n",
      " 'minatoaqua' 'nakiriayame' 'yuzukichococh' 'murasakishionch'\n",
      " 'oozorasubaru' 'ookamimio' 'nekomataokayu' 'inugamikorone'\n",
      " 'shiranuiflare' 'shiroganenoel' 'houshoumarine' 'usadapekora'\n",
      " 'uruharushia' 'amanekanatach' 'kiryucoco' 'tsunomakiwatame'\n",
      " 'tokoyamitowa' 'himemoriluna' 'yukihanalamy' 'momosuzunene'\n",
      " 'shishirobotan' 'omarupolka']\n",
      "[users] (<class 'dict'>)\n",
      "{'tokino_sora': <model.ProposalUser object at 0x11c75a8e0>, 'robocosan': <model.ProposalUser object at 0x108d785b0>, 'sakuramiko35': <model.ProposalUser object at 0x1460b10d0>, 'suisei_hosimati': <model.ProposalUser object at 0x180a41070>, 'yozoramel': <model.ProposalUser object at 0x17e0bf2e0>, 'shirakamifubuki': <model.ProposalUser object at 0x109a16100>, 'natsuiromatsuri': <model.ProposalUser object at 0x183061310>, 'akaihaato': <model.ProposalUser object at 0x17f042040>, 'akirosenthal': <model.ProposalUser object at 0x1831cf430>, 'minatoaqua': <model.ProposalUser object at 0x16d3e8730>, 'nakiriayame': <model.ProposalUser object at 0x130dd15b0>, 'yuzukichococh': <model.ProposalUser object at 0x180b818e0>, 'murasakishionch': <model.ProposalUser object at 0x17f18a700>, 'oozorasubaru': <model.ProposalUser object at 0x17f32d130>, 'ookamimio': <model.ProposalUser object at 0x12f5e3b50>, 'nekomataokayu': <model.ProposalUser object at 0x17ffab3d0>, 'inugamikorone': <model.ProposalUser object at 0x25002dca0>, 'shiranuiflare': <model.ProposalUser object at 0x2508711f0>, 'shiroganenoel': <model.ProposalUser object at 0x252714310>, 'houshoumarine': <model.ProposalUser object at 0x24b876a60>, 'usadapekora': <model.ProposalUser object at 0x184f58340>, 'uruharushia': <model.ProposalUser object at 0x248de2a60>, 'amanekanatach': <model.ProposalUser object at 0x25cdc2610>, 'kiryucoco': <model.ProposalUser object at 0x264b12310>, 'tsunomakiwatame': <model.ProposalUser object at 0x261c3dbb0>, 'tokoyamitowa': <model.ProposalUser object at 0x2641715b0>, 'himemoriluna': <model.ProposalUser object at 0x268e1bd30>, 'yukihanalamy': <model.ProposalUser object at 0x26ec7f910>, 'momosuzunene': <model.ProposalUser object at 0x26cea15e0>, 'shishirobotan': <model.ProposalUser object at 0x274ae2af0>, 'omarupolka': <model.ProposalUser object at 0x26ce2b730>}\n"
     ]
    }
   ],
   "source": [
    "for k, v in vars(prop_odd).items():\n",
    "    print('[{}] ({})'.format(k, type(v)))\n",
    "    if k in {'user_reps'}:\n",
    "        print(len(v), v['murasakishionch'])\n",
    "    elif k in {'train', 'test'}:\n",
    "        print(v.shape)\n",
    "    else:\n",
    "        print(v)"
   ]
  },
  {
   "cell_type": "code",
   "execution_count": 40,
   "id": "hispanic-prayer",
   "metadata": {},
   "outputs": [
    {
     "name": "stdout",
     "output_type": "stream",
     "text": [
      "[userId] (<class 'str'>)\n",
      "murasakishionch\n",
      "[name] (<class 'str'>)\n",
      "紫咲シオン\n",
      "[generation] (<class 'set'>)\n",
      "{'2'}\n",
      "[n_tweet] (<class 'int'>)\n",
      "3200\n",
      "[load] (<class 'bool'>)\n",
      "True\n",
      "[verbose] (<class 'bool'>)\n",
      "False\n",
      "[preview] (<class 'bool'>)\n",
      "False\n",
      "[tweets_path] (<class 'pathlib.PosixPath'>)\n",
      "/Users/nyu/gdrive/learn/hololi2vec/data/tweets_murasakishionch_3200.pkl\n",
      "[tweets_df_path] (<class 'pathlib.PosixPath'>)\n",
      "/Users/nyu/gdrive/learn/hololi2vec/data/tweets_murasakishionch_3200.tsv\n",
      "[tweets] (<class 'list'>)\n",
      "3200\n",
      "[df] (<class 'pandas.core.frame.DataFrame'>)\n",
      "2\n",
      "[tweetIds] (<class 'list'>)\n",
      "1\n",
      "[tweet_reps] (<class 'dict'>)\n",
      "0 {}\n",
      "[user_rep] (<class 'NoneType'>)\n",
      "None\n",
      "[proposal_model] (<class 'model.ProposalModel'>)\n",
      "<model.ProposalModel object at 0x11c75af40>\n",
      "[w2v_model] (<class 'model.Word2VecModel'>)\n",
      "<model.Word2VecModel object at 0x13253e910>\n",
      "[params] (<class 'dict'>)\n",
      "{'tweet_construct_type': 'odd', 'tweet_lambda': 0.7, 'user_context': 5}\n"
     ]
    }
   ],
   "source": [
    "for k, v in vars(prop_odd.users['murasakishionch']).items():\n",
    "    print('[{}] ({})'.format(k, type(v)))\n",
    "    if k in {'tweets', 'tweetIds'}:\n",
    "        print(len(v))\n",
    "    elif k in {'df'}:\n",
    "        print(len(v.shape))\n",
    "    elif k in {'tweet_reps'}:\n",
    "        print(len(v), v)\n",
    "    else:\n",
    "        print(v)"
   ]
  },
  {
   "cell_type": "markdown",
   "id": "twenty-opening",
   "metadata": {},
   "source": [
    "### 訓練セットによるモデル学習"
   ]
  },
  {
   "cell_type": "markdown",
   "id": "australian-strain",
   "metadata": {},
   "source": [
    "順序差減衰モデルはコサイン類似度モデルと異なり，順序差ごとの重みが固定されているので計算コストが小さい（計算時間は7秒ほど短い）．"
   ]
  },
  {
   "cell_type": "code",
   "execution_count": 41,
   "id": "basic-schedule",
   "metadata": {},
   "outputs": [
    {
     "data": {
      "application/vnd.jupyter.widget-view+json": {
       "model_id": "4fb96c40f6084e588dda7ae715fe4f8e",
       "version_major": 2,
       "version_minor": 0
      },
      "text/plain": [
       "  0%|          | 0/661189 [00:00<?, ?it/s]"
      ]
     },
     "metadata": {},
     "output_type": "display_data"
    },
    {
     "name": "stdout",
     "output_type": "stream",
     "text": [
      "CPU times: user 13.1 s, sys: 2.87 s, total: 16 s\n",
      "Wall time: 13.8 s\n"
     ]
    }
   ],
   "source": [
    "%%time\n",
    "prop_odd.learn(isTrain=True)"
   ]
  },
  {
   "cell_type": "code",
   "execution_count": 42,
   "id": "southwest-phrase",
   "metadata": {},
   "outputs": [
    {
     "name": "stdout",
     "output_type": "stream",
     "text": [
      "[w2v_model] (<class 'model.Word2VecModel'>)\n",
      "<model.Word2VecModel object at 0x13253e910>\n",
      "[train] (<class 'pandas.core.frame.DataFrame'>)\n",
      "(661189, 4)\n",
      "[test] (<class 'pandas.core.frame.DataFrame'>)\n",
      "(225919, 4)\n",
      "[params] (<class 'dict'>)\n",
      "{'tweet_construct_type': 'odd', 'tweet_lambda': 0.7, 'user_context': 5}\n",
      "[userIds] (<class 'numpy.ndarray'>)\n",
      "['tokino_sora' 'robocosan' 'sakuramiko35' 'suisei_hosimati' 'yozoramel'\n",
      " 'shirakamifubuki' 'natsuiromatsuri' 'akaihaato' 'akirosenthal'\n",
      " 'minatoaqua' 'nakiriayame' 'yuzukichococh' 'murasakishionch'\n",
      " 'oozorasubaru' 'ookamimio' 'nekomataokayu' 'inugamikorone'\n",
      " 'shiranuiflare' 'shiroganenoel' 'houshoumarine' 'usadapekora'\n",
      " 'uruharushia' 'amanekanatach' 'kiryucoco' 'tsunomakiwatame'\n",
      " 'tokoyamitowa' 'himemoriluna' 'yukihanalamy' 'momosuzunene'\n",
      " 'shishirobotan' 'omarupolka']\n",
      "[users] (<class 'dict'>)\n",
      "{'tokino_sora': <model.ProposalUser object at 0x11c75a8e0>, 'robocosan': <model.ProposalUser object at 0x108d785b0>, 'sakuramiko35': <model.ProposalUser object at 0x1460b10d0>, 'suisei_hosimati': <model.ProposalUser object at 0x180a41070>, 'yozoramel': <model.ProposalUser object at 0x17e0bf2e0>, 'shirakamifubuki': <model.ProposalUser object at 0x109a16100>, 'natsuiromatsuri': <model.ProposalUser object at 0x183061310>, 'akaihaato': <model.ProposalUser object at 0x17f042040>, 'akirosenthal': <model.ProposalUser object at 0x1831cf430>, 'minatoaqua': <model.ProposalUser object at 0x16d3e8730>, 'nakiriayame': <model.ProposalUser object at 0x130dd15b0>, 'yuzukichococh': <model.ProposalUser object at 0x180b818e0>, 'murasakishionch': <model.ProposalUser object at 0x17f18a700>, 'oozorasubaru': <model.ProposalUser object at 0x17f32d130>, 'ookamimio': <model.ProposalUser object at 0x12f5e3b50>, 'nekomataokayu': <model.ProposalUser object at 0x17ffab3d0>, 'inugamikorone': <model.ProposalUser object at 0x25002dca0>, 'shiranuiflare': <model.ProposalUser object at 0x2508711f0>, 'shiroganenoel': <model.ProposalUser object at 0x252714310>, 'houshoumarine': <model.ProposalUser object at 0x24b876a60>, 'usadapekora': <model.ProposalUser object at 0x184f58340>, 'uruharushia': <model.ProposalUser object at 0x248de2a60>, 'amanekanatach': <model.ProposalUser object at 0x25cdc2610>, 'kiryucoco': <model.ProposalUser object at 0x264b12310>, 'tsunomakiwatame': <model.ProposalUser object at 0x261c3dbb0>, 'tokoyamitowa': <model.ProposalUser object at 0x2641715b0>, 'himemoriluna': <model.ProposalUser object at 0x268e1bd30>, 'yukihanalamy': <model.ProposalUser object at 0x26ec7f910>, 'momosuzunene': <model.ProposalUser object at 0x26cea15e0>, 'shishirobotan': <model.ProposalUser object at 0x274ae2af0>, 'omarupolka': <model.ProposalUser object at 0x26ce2b730>}\n",
      "[user_reps] (<class 'dict'>)\n",
      "31 [-0.29450607 -0.50609656 -0.06723322  0.2738281   0.10910782  0.3159867\n",
      " -0.29856065  0.02055269 -1.01290672 -0.70859104  0.40440639  0.13980059\n",
      " -0.28362237  0.03058577 -0.21755623 -0.05631731  0.14647349  0.23919974\n",
      "  0.42528588  0.47115206 -0.00925899  0.81448274  0.07532489 -0.47347966\n",
      " -0.17326204  0.1725173   0.00175947  0.9646108  -0.3402941  -0.3568041\n",
      " -0.12003956  0.45827263  0.22079303  0.55366165  0.38382949  0.0153496\n",
      "  0.7622474   0.20524943 -0.60985117  0.52740115 -0.34823465 -0.07143442\n",
      " -0.27134689 -0.64212304 -0.42146031 -0.33817832  0.10136704  0.11314623\n",
      " -0.51399812 -0.74678116]\n"
     ]
    }
   ],
   "source": [
    "for k, v in vars(prop_odd).items():\n",
    "    print('[{}] ({})'.format(k, type(v)))\n",
    "    if k in {'user_reps'}:\n",
    "        print(len(v), v['murasakishionch'])\n",
    "    elif k in {'train', 'test'}:\n",
    "        print(v.shape)\n",
    "    else:\n",
    "        print(v)"
   ]
  },
  {
   "cell_type": "code",
   "execution_count": 43,
   "id": "automated-bibliography",
   "metadata": {},
   "outputs": [
    {
     "name": "stdout",
     "output_type": "stream",
     "text": [
      "[userId] (<class 'str'>)\n",
      "murasakishionch\n",
      "[name] (<class 'str'>)\n",
      "紫咲シオン\n",
      "[generation] (<class 'set'>)\n",
      "{'2'}\n",
      "[n_tweet] (<class 'int'>)\n",
      "3200\n",
      "[load] (<class 'bool'>)\n",
      "True\n",
      "[verbose] (<class 'bool'>)\n",
      "False\n",
      "[preview] (<class 'bool'>)\n",
      "False\n",
      "[tweets_path] (<class 'pathlib.PosixPath'>)\n",
      "/Users/nyu/gdrive/learn/hololi2vec/data/tweets_murasakishionch_3200.pkl\n",
      "[tweets_df_path] (<class 'pathlib.PosixPath'>)\n",
      "/Users/nyu/gdrive/learn/hololi2vec/data/tweets_murasakishionch_3200.tsv\n",
      "[tweets] (<class 'list'>)\n",
      "3200\n",
      "[df] (<class 'pandas.core.frame.DataFrame'>)\n",
      "(2573, 3)\n",
      "[tweetIds] (<class 'list'>)\n",
      "2196\n",
      "[tweet_reps] (<class 'dict'>)\n",
      "2195 (50,)\n",
      "[user_rep] (<class 'numpy.ndarray'>)\n",
      "[-0.29450607 -0.50609656 -0.06723322  0.2738281   0.10910782  0.3159867\n",
      " -0.29856065  0.02055269 -1.01290672 -0.70859104  0.40440639  0.13980059\n",
      " -0.28362237  0.03058577 -0.21755623 -0.05631731  0.14647349  0.23919974\n",
      "  0.42528588  0.47115206 -0.00925899  0.81448274  0.07532489 -0.47347966\n",
      " -0.17326204  0.1725173   0.00175947  0.9646108  -0.3402941  -0.3568041\n",
      " -0.12003956  0.45827263  0.22079303  0.55366165  0.38382949  0.0153496\n",
      "  0.7622474   0.20524943 -0.60985117  0.52740115 -0.34823465 -0.07143442\n",
      " -0.27134689 -0.64212304 -0.42146031 -0.33817832  0.10136704  0.11314623\n",
      " -0.51399812 -0.74678116]\n",
      "[proposal_model] (<class 'model.ProposalModel'>)\n",
      "<model.ProposalModel object at 0x11c75af40>\n",
      "[w2v_model] (<class 'model.Word2VecModel'>)\n",
      "<model.Word2VecModel object at 0x13253e910>\n",
      "[params] (<class 'dict'>)\n",
      "{'tweet_construct_type': 'odd', 'tweet_lambda': 0.7, 'user_context': 5}\n"
     ]
    }
   ],
   "source": [
    "for k, v in vars(prop_odd.users['murasakishionch']).items():\n",
    "    print('[{}] ({})'.format(k, type(v)))\n",
    "    if k in {'tweets', 'tweetIds'}:\n",
    "        print(len(v))\n",
    "    elif k in {'df'}:\n",
    "        print(v.shape)\n",
    "    elif k in {'tweet_reps'}:\n",
    "        print(len(v), v[prop_odd.users['murasakishionch'].tweetIds[1]].shape)\n",
    "    else:\n",
    "        print(v)"
   ]
  },
  {
   "cell_type": "code",
   "execution_count": 44,
   "id": "killing-times",
   "metadata": {},
   "outputs": [],
   "source": [
    "assert prop_odd.users['murasakishionch'].tweetIds[1:] == list(prop_odd.users['murasakishionch'].tweet_reps.keys())"
   ]
  },
  {
   "cell_type": "code",
   "execution_count": 45,
   "id": "ranging-grade",
   "metadata": {},
   "outputs": [
    {
     "name": "stdout",
     "output_type": "stream",
     "text": [
      "n_tweet\t\t 2200\n",
      "n_tweet_rep\t 2196\n"
     ]
    }
   ],
   "source": [
    "print('n_tweet\\t\\t', len(hololive.train_df[hololive.train_df['userId'] == 'murasakishionch']))\n",
    "print('n_tweet_rep\\t', len(prop_odd.users['murasakishionch'].tweetIds))"
   ]
  },
  {
   "cell_type": "code",
   "execution_count": 46,
   "id": "worse-certificate",
   "metadata": {},
   "outputs": [],
   "source": [
    "assert prop_odd.w2v_model.params['size'] == prop_odd.users['murasakishionch'].tweet_reps[prop_odd.users['murasakishionch'].tweetIds[-1]].shape[0]\n",
    "assert prop_odd.w2v_model.params['size'] == prop_odd.users['murasakishionch'].user_rep.shape[0]"
   ]
  },
  {
   "cell_type": "markdown",
   "id": "optional-wesley",
   "metadata": {},
   "source": [
    "### テストセットによるモデル学習"
   ]
  },
  {
   "cell_type": "code",
   "execution_count": 47,
   "id": "mighty-testament",
   "metadata": {},
   "outputs": [
    {
     "data": {
      "application/vnd.jupyter.widget-view+json": {
       "model_id": "a0043a417a3f44889f39c6df42097086",
       "version_major": 2,
       "version_minor": 0
      },
      "text/plain": [
       "  0%|          | 0/225919 [00:00<?, ?it/s]"
      ]
     },
     "metadata": {},
     "output_type": "display_data"
    },
    {
     "name": "stdout",
     "output_type": "stream",
     "text": [
      "CPU times: user 53.4 s, sys: 9.13 s, total: 1min 2s\n",
      "Wall time: 1min 4s\n"
     ]
    }
   ],
   "source": [
    "%%time\n",
    "prop_odd.learn(isTrain=False)"
   ]
  },
  {
   "cell_type": "code",
   "execution_count": 48,
   "id": "metallic-boring",
   "metadata": {},
   "outputs": [
    {
     "name": "stdout",
     "output_type": "stream",
     "text": [
      "[w2v_model] (<class 'model.Word2VecModel'>)\n",
      "<model.Word2VecModel object at 0x13253e910>\n",
      "[train] (<class 'pandas.core.frame.DataFrame'>)\n",
      "shape: (661189, 4)\n",
      "[test] (<class 'pandas.core.frame.DataFrame'>)\n",
      "shape: (225919, 4)\n",
      "[params] (<class 'dict'>)\n",
      "{'tweet_construct_type': 'odd', 'tweet_lambda': 0.7, 'user_context': 5}\n",
      "[userIds] (<class 'numpy.ndarray'>)\n",
      "['tokino_sora' 'robocosan' 'sakuramiko35' 'suisei_hosimati' 'yozoramel'\n",
      " 'shirakamifubuki' 'natsuiromatsuri' 'akaihaato' 'akirosenthal'\n",
      " 'minatoaqua' 'nakiriayame' 'yuzukichococh' 'murasakishionch'\n",
      " 'oozorasubaru' 'ookamimio' 'nekomataokayu' 'inugamikorone'\n",
      " 'shiranuiflare' 'shiroganenoel' 'houshoumarine' 'usadapekora'\n",
      " 'uruharushia' 'amanekanatach' 'kiryucoco' 'tsunomakiwatame'\n",
      " 'tokoyamitowa' 'himemoriluna' 'yukihanalamy' 'momosuzunene'\n",
      " 'shishirobotan' 'omarupolka']\n",
      "[users] (<class 'dict'>)\n",
      "{'tokino_sora': <model.ProposalUser object at 0x11c75a8e0>, 'robocosan': <model.ProposalUser object at 0x108d785b0>, 'sakuramiko35': <model.ProposalUser object at 0x1460b10d0>, 'suisei_hosimati': <model.ProposalUser object at 0x180a41070>, 'yozoramel': <model.ProposalUser object at 0x17e0bf2e0>, 'shirakamifubuki': <model.ProposalUser object at 0x109a16100>, 'natsuiromatsuri': <model.ProposalUser object at 0x183061310>, 'akaihaato': <model.ProposalUser object at 0x17f042040>, 'akirosenthal': <model.ProposalUser object at 0x1831cf430>, 'minatoaqua': <model.ProposalUser object at 0x16d3e8730>, 'nakiriayame': <model.ProposalUser object at 0x130dd15b0>, 'yuzukichococh': <model.ProposalUser object at 0x180b818e0>, 'murasakishionch': <model.ProposalUser object at 0x17f18a700>, 'oozorasubaru': <model.ProposalUser object at 0x17f32d130>, 'ookamimio': <model.ProposalUser object at 0x12f5e3b50>, 'nekomataokayu': <model.ProposalUser object at 0x17ffab3d0>, 'inugamikorone': <model.ProposalUser object at 0x25002dca0>, 'shiranuiflare': <model.ProposalUser object at 0x2508711f0>, 'shiroganenoel': <model.ProposalUser object at 0x252714310>, 'houshoumarine': <model.ProposalUser object at 0x24b876a60>, 'usadapekora': <model.ProposalUser object at 0x184f58340>, 'uruharushia': <model.ProposalUser object at 0x248de2a60>, 'amanekanatach': <model.ProposalUser object at 0x25cdc2610>, 'kiryucoco': <model.ProposalUser object at 0x264b12310>, 'tsunomakiwatame': <model.ProposalUser object at 0x261c3dbb0>, 'tokoyamitowa': <model.ProposalUser object at 0x2641715b0>, 'himemoriluna': <model.ProposalUser object at 0x268e1bd30>, 'yukihanalamy': <model.ProposalUser object at 0x26ec7f910>, 'momosuzunene': <model.ProposalUser object at 0x26cea15e0>, 'shishirobotan': <model.ProposalUser object at 0x274ae2af0>, 'omarupolka': <model.ProposalUser object at 0x26ce2b730>}\n",
      "[user_reps] (<class 'dict'>)\n",
      "(len, element): (31, array([-0.0845014 , -0.34079796, -0.04959854,  0.419055  ,  0.1746306 ,\n",
      "        0.14534622, -0.88259286, -0.19137458, -0.54269694, -0.72551364,\n",
      "        0.42211769, -0.20355526, -0.02842336, -0.16682144, -0.08751324,\n",
      "        0.16808406, -0.40884679,  0.94947143, -0.26084181,  0.20558522,\n",
      "       -0.36268867,  0.57736024,  0.43650577, -0.0703759 ,  0.36473425,\n",
      "       -0.17974885,  0.16810126,  1.00476196,  0.03264591, -0.17366282,\n",
      "       -0.43171021,  0.60782677,  0.58819933,  0.83588017,  0.39117477,\n",
      "        0.65921568,  0.63933763,  0.39006959, -0.61828465,  0.58010837,\n",
      "       -0.65441561, -0.53959449, -0.28827061, -0.88042351, -0.43302295,\n",
      "        0.47409519,  0.61938334, -0.12673087, -0.55271593, -0.84482673]))\n",
      "[reps_history] (<class 'dict'>)\n",
      "sample_user: murasakishionch {'tweet_rep': array([-0.74262273, -0.42835703, -0.21733063, -0.00269198,  0.5155693 ,\n",
      "        0.49934924, -0.28069597,  0.03369913, -1.077214  , -0.78469646,\n",
      "        0.77886355,  0.06708199, -0.24234988,  0.5885814 , -0.17740619,\n",
      "        0.05847525, -0.1372669 , -0.075897  ,  0.20354709,  0.68731403,\n",
      "       -0.16311191,  1.4291284 , -0.01480927, -0.09825921, -0.23265176,\n",
      "        0.16595866, -0.09837691,  0.97361994, -0.46388927, -0.8097959 ,\n",
      "        0.08928843,  0.6052445 ,  0.6457179 ,  0.6555813 ,  0.21372291,\n",
      "       -0.02363081,  1.0803633 ,  0.13568413, -0.7789119 ,  0.16541545,\n",
      "       -0.34550405, -0.1624274 , -0.46683592, -0.09292251, -0.21462744,\n",
      "       -0.3413351 ,  0.38975057,  0.2028848 , -0.7406682 , -0.7036699 ],\n",
      "      dtype=float32), 'user_rep': array([-0.29450607, -0.50609656, -0.06723322,  0.2738281 ,  0.10910782,\n",
      "        0.3159867 , -0.29856065,  0.02055269, -1.01290672, -0.70859104,\n",
      "        0.40440639,  0.13980059, -0.28362237,  0.03058577, -0.21755623,\n",
      "       -0.05631731,  0.14647349,  0.23919974,  0.42528588,  0.47115206,\n",
      "       -0.00925899,  0.81448274,  0.07532489, -0.47347966, -0.17326204,\n",
      "        0.1725173 ,  0.00175947,  0.9646108 , -0.3402941 , -0.3568041 ,\n",
      "       -0.12003956,  0.45827263,  0.22079303,  0.55366165,  0.38382949,\n",
      "        0.0153496 ,  0.7622474 ,  0.20524943, -0.60985117,  0.52740115,\n",
      "       -0.34823465, -0.07143442, -0.27134689, -0.64212304, -0.42146031,\n",
      "       -0.33817832,  0.10136704,  0.11314623, -0.51399812, -0.74678116])}\n"
     ]
    }
   ],
   "source": [
    "for k, v in vars(prop_odd).items():\n",
    "    print('[{}] ({})'.format(k, type(v)))\n",
    "    if k in {'user_reps'}:\n",
    "        print('(len, element): {}'.format((len(v), v['murasakishionch'])))\n",
    "    elif k in {'train', 'test'}:\n",
    "        print('shape:', v.shape)\n",
    "    elif k in {'reps_history'}:\n",
    "        print('sample_user:' ,'murasakishionch', v[-1]['murasakishionch'])\n",
    "    else:\n",
    "        print(v)"
   ]
  },
  {
   "cell_type": "code",
   "execution_count": 49,
   "id": "female-ocean",
   "metadata": {},
   "outputs": [
    {
     "name": "stdout",
     "output_type": "stream",
     "text": [
      "[userId] (<class 'str'>)\n",
      "murasakishionch\n",
      "[name] (<class 'str'>)\n",
      "紫咲シオン\n",
      "[generation] (<class 'set'>)\n",
      "{'2'}\n",
      "[n_tweet] (<class 'int'>)\n",
      "3200\n",
      "[load] (<class 'bool'>)\n",
      "True\n",
      "[verbose] (<class 'bool'>)\n",
      "False\n",
      "[preview] (<class 'bool'>)\n",
      "False\n",
      "[tweets_path] (<class 'pathlib.PosixPath'>)\n",
      "/Users/nyu/gdrive/learn/hololi2vec/data/tweets_murasakishionch_3200.pkl\n",
      "[tweets_df_path] (<class 'pathlib.PosixPath'>)\n",
      "/Users/nyu/gdrive/learn/hololi2vec/data/tweets_murasakishionch_3200.tsv\n",
      "[tweets] (<class 'list'>)\n",
      "len: 3200\n",
      "[df] (<class 'pandas.core.frame.DataFrame'>)\n",
      "shape: (2573, 3)\n",
      "[tweetIds] (<class 'list'>)\n",
      "len: 2394\n",
      "[tweet_reps] (<class 'dict'>)\n",
      "(len, element): (2393, array([-0.8311162 , -0.62652993,  0.04734085, -0.2653988 ,  0.65774375,\n",
      "        0.49875754, -0.22026092, -0.00372992, -0.7687181 , -0.79203373,\n",
      "        0.5371815 , -0.10637884, -0.32669318,  0.8833764 , -0.14401518,\n",
      "       -0.0953752 , -0.13733052, -0.04542314,  0.44243574,  0.5145321 ,\n",
      "       -0.38134876,  1.0976605 , -0.11751367, -0.42890152, -0.14270401,\n",
      "        0.06643236, -0.28558958,  1.0352005 , -0.3747708 , -0.6546421 ,\n",
      "        0.40724283,  0.49012965,  0.70830226,  0.4741518 ,  0.14456499,\n",
      "       -0.12954307,  0.97281414,  0.19373566, -0.76833785,  0.1881349 ,\n",
      "       -0.24094598, -0.27392295, -0.8178717 , -0.5102574 , -0.23883533,\n",
      "       -0.5495105 ,  0.5445763 ,  0.047231  , -0.48363405, -0.92605186],\n",
      "      dtype=float32))\n",
      "[user_rep] (<class 'numpy.ndarray'>)\n",
      "[-0.0845014  -0.34079796 -0.04959854  0.419055    0.1746306   0.14534622\n",
      " -0.88259286 -0.19137458 -0.54269694 -0.72551364  0.42211769 -0.20355526\n",
      " -0.02842336 -0.16682144 -0.08751324  0.16808406 -0.40884679  0.94947143\n",
      " -0.26084181  0.20558522 -0.36268867  0.57736024  0.43650577 -0.0703759\n",
      "  0.36473425 -0.17974885  0.16810126  1.00476196  0.03264591 -0.17366282\n",
      " -0.43171021  0.60782677  0.58819933  0.83588017  0.39117477  0.65921568\n",
      "  0.63933763  0.39006959 -0.61828465  0.58010837 -0.65441561 -0.53959449\n",
      " -0.28827061 -0.88042351 -0.43302295  0.47409519  0.61938334 -0.12673087\n",
      " -0.55271593 -0.84482673]\n",
      "[proposal_model] (<class 'model.ProposalModel'>)\n",
      "<model.ProposalModel object at 0x11c75af40>\n",
      "[w2v_model] (<class 'model.Word2VecModel'>)\n",
      "<model.Word2VecModel object at 0x13253e910>\n",
      "[params] (<class 'dict'>)\n",
      "{'tweet_construct_type': 'odd', 'tweet_lambda': 0.7, 'user_context': 5}\n"
     ]
    }
   ],
   "source": [
    "for k, v in vars(prop_odd.users['murasakishionch']).items():\n",
    "    print('[{}] ({})'.format(k, type(v)))\n",
    "    if k in {'tweets', 'tweetIds'}:\n",
    "        print('len:', len(v))\n",
    "    elif k in {'df'}:\n",
    "        print('shape:', v.shape)\n",
    "    elif k in {'tweet_reps'}:\n",
    "        print('(len, element): {}'.format((len(v), v[prop_odd.users['murasakishionch'].tweetIds[1]])))\n",
    "    else:\n",
    "        print(v)"
   ]
  },
  {
   "cell_type": "code",
   "execution_count": 50,
   "id": "suitable-ancient",
   "metadata": {},
   "outputs": [],
   "source": [
    "assert prop_odd.users['murasakishionch'].tweetIds[1:] == list(prop_odd.users['murasakishionch'].tweet_reps.keys())"
   ]
  },
  {
   "cell_type": "code",
   "execution_count": 51,
   "id": "prompt-operations",
   "metadata": {},
   "outputs": [
    {
     "name": "stdout",
     "output_type": "stream",
     "text": [
      "n_tweet (train+test)\t 2398\n",
      "n_tweet_rep (train+test) 2394\n",
      "n_tweet - n_tweet_rep\t 4\n"
     ]
    }
   ],
   "source": [
    "n_tweet = len(hololive.train_df[hololive.train_df['userId'] == 'murasakishionch']\n",
    "             ) + len(hololive.test_df[hololive.test_df['userId'] == 'murasakishionch'])\n",
    "\n",
    "print('n_tweet (train+test)\\t', n_tweet)\n",
    "print('n_tweet_rep (train+test)', len(prop_odd.users['murasakishionch'].tweetIds))\n",
    "print('n_tweet - n_tweet_rep\\t', n_tweet - len(prop_odd.users['murasakishionch'].tweetIds))"
   ]
  },
  {
   "cell_type": "markdown",
   "id": "mighty-burlington",
   "metadata": {},
   "source": [
    "## 表現ヒストリーの構造\n",
    "- 表現ヒストリーとは，`ProposalModel.learn(isTrain=False)`としたとき，各時点での各ユーザの各表現を記録したものである．\n",
    "- そのままではベクトル次元数が大きく把握が難しいため，PCA・RP・t-SNEで2or3次元に落として可視化するなどしてから分析に使用する．\n",
    "- `ProposalModel.learn(isTrain=False)`の実行後，インスタンス変数`reps_history`が新たに追加されており，これが表現ヒストリーである"
   ]
  },
  {
   "cell_type": "markdown",
   "id": "parental-subsection",
   "metadata": {},
   "source": [
    "表現ヒストリーは3層構造の辞書になっている\n",
    "- 第1層: セッションデータログのインデックス: セッションデータの各ログのインデックスを処理した時点での各ユーザの各表現を格納．初期化時点では`-1`をキーとして，訓練セットによる学習終了時点の各ユーザの各表現が格納されている．\n",
    "- 第2層: ユーザID（Twitter ID）: インデックス時点での各表現が格納されている．\n",
    "- 第3層: ツイート表現`tweet_rep`とユーザ表現`user_rep`: 先述した通り，初期化時点で，訓練セットによる訓練セットによる学習終了時点の各ユーザの各表現が格納されているため，最初から常にツイート表現とユーザ表現のどちらも持っている．"
   ]
  },
  {
   "cell_type": "markdown",
   "id": "efficient-malpractice",
   "metadata": {},
   "source": [
    "コサイン類似度モデル"
   ]
  },
  {
   "cell_type": "code",
   "execution_count": 52,
   "id": "stupid-consensus",
   "metadata": {},
   "outputs": [
    {
     "name": "stdout",
     "output_type": "stream",
     "text": [
      "idx: 225920 [-1, 0, 1, 2, 3, 4, 5, 6, 7, 8]\n",
      "userId: 31 ['tokino_sora', 'robocosan', 'sakuramiko35', 'suisei_hosimati', 'yozoramel', 'shirakamifubuki', 'natsuiromatsuri', 'akaihaato', 'akirosenthal', 'minatoaqua']\n",
      "rep: {'tweet_rep': array([-0.38087392, -0.21508718, -0.09984877, -0.03285884,  0.2614746 ,\n",
      "        0.22743541, -0.17077759,  0.01259382, -0.5729439 , -0.40227866,\n",
      "        0.3897619 ,  0.03146386, -0.1634658 ,  0.26495594, -0.09742281,\n",
      "        0.00969832, -0.05913102, -0.03112137,  0.10232247,  0.3502683 ,\n",
      "       -0.08506773,  0.7119093 , -0.03284251, -0.01126166, -0.09972657,\n",
      "        0.09520157, -0.02933645,  0.52338314, -0.20653194, -0.35440797,\n",
      "        0.0184336 ,  0.31089997,  0.29125273,  0.3388365 ,  0.12781462,\n",
      "       -0.05506627,  0.52174246,  0.08055086, -0.4262746 ,  0.08692914,\n",
      "       -0.12909333, -0.05127875, -0.23139285, -0.09177579, -0.12955011,\n",
      "       -0.16408654,  0.20534672,  0.13826327, -0.3504176 , -0.349572  ],\n",
      "      dtype=float32), 'user_rep': array([-1.64357107e-01, -2.78379509e-01,  2.54413876e-02,  1.47594815e-01,\n",
      "        5.50623744e-02,  1.75366636e-01, -2.09519979e-01,  2.52754207e-02,\n",
      "       -6.17412964e-01, -4.25447198e-01,  2.02606629e-01,  9.90378275e-02,\n",
      "       -1.63933176e-01, -3.22292460e-02, -1.23567048e-01, -3.18737937e-02,\n",
      "        1.43136963e-01,  1.41755026e-01,  2.44117208e-01,  2.05201308e-01,\n",
      "        1.73548285e-02,  4.36239582e-01, -1.79076590e-04, -2.57884292e-01,\n",
      "       -8.13833362e-02,  8.09727406e-02,  4.93040365e-02,  5.13030255e-01,\n",
      "       -1.48293555e-01, -1.67355876e-01, -9.68322747e-02,  2.52433422e-01,\n",
      "        8.05215298e-02,  3.18925005e-01,  2.70360872e-01, -8.71156495e-03,\n",
      "        4.02349711e-01,  1.53543456e-01, -3.21100016e-01,  3.35234115e-01,\n",
      "       -1.76686743e-01, -1.04740936e-02, -1.49319189e-01, -3.69544558e-01,\n",
      "       -2.59139591e-01, -1.45959099e-01, -1.02560008e-02,  7.77744601e-02,\n",
      "       -3.00794737e-01, -3.76588491e-01])}\n"
     ]
    }
   ],
   "source": [
    "print('idx:', len(prop_cos.reps_history.keys()), list(prop_cos.reps_history.keys())[:10])\n",
    "print('userId:', len(prop_cos.reps_history[-1].keys()), list(prop_cos.reps_history[-1].keys())[:10])\n",
    "print('rep:', prop_cos.reps_history[-1]['murasakishionch'])"
   ]
  },
  {
   "cell_type": "markdown",
   "id": "lightweight-lyric",
   "metadata": {},
   "source": [
    "順序差減衰モデル"
   ]
  },
  {
   "cell_type": "code",
   "execution_count": 53,
   "id": "skilled-pacific",
   "metadata": {},
   "outputs": [
    {
     "name": "stdout",
     "output_type": "stream",
     "text": [
      "idx: 225920 [-1, 0, 1, 2, 3, 4, 5, 6, 7, 8]\n",
      "userId: 31 ['tokino_sora', 'robocosan', 'sakuramiko35', 'suisei_hosimati', 'yozoramel', 'shirakamifubuki', 'natsuiromatsuri', 'akaihaato', 'akirosenthal', 'minatoaqua']\n",
      "rep: {'tweet_rep': array([-0.74262273, -0.42835703, -0.21733063, -0.00269198,  0.5155693 ,\n",
      "        0.49934924, -0.28069597,  0.03369913, -1.077214  , -0.78469646,\n",
      "        0.77886355,  0.06708199, -0.24234988,  0.5885814 , -0.17740619,\n",
      "        0.05847525, -0.1372669 , -0.075897  ,  0.20354709,  0.68731403,\n",
      "       -0.16311191,  1.4291284 , -0.01480927, -0.09825921, -0.23265176,\n",
      "        0.16595866, -0.09837691,  0.97361994, -0.46388927, -0.8097959 ,\n",
      "        0.08928843,  0.6052445 ,  0.6457179 ,  0.6555813 ,  0.21372291,\n",
      "       -0.02363081,  1.0803633 ,  0.13568413, -0.7789119 ,  0.16541545,\n",
      "       -0.34550405, -0.1624274 , -0.46683592, -0.09292251, -0.21462744,\n",
      "       -0.3413351 ,  0.38975057,  0.2028848 , -0.7406682 , -0.7036699 ],\n",
      "      dtype=float32), 'user_rep': array([-0.29450607, -0.50609656, -0.06723322,  0.2738281 ,  0.10910782,\n",
      "        0.3159867 , -0.29856065,  0.02055269, -1.01290672, -0.70859104,\n",
      "        0.40440639,  0.13980059, -0.28362237,  0.03058577, -0.21755623,\n",
      "       -0.05631731,  0.14647349,  0.23919974,  0.42528588,  0.47115206,\n",
      "       -0.00925899,  0.81448274,  0.07532489, -0.47347966, -0.17326204,\n",
      "        0.1725173 ,  0.00175947,  0.9646108 , -0.3402941 , -0.3568041 ,\n",
      "       -0.12003956,  0.45827263,  0.22079303,  0.55366165,  0.38382949,\n",
      "        0.0153496 ,  0.7622474 ,  0.20524943, -0.60985117,  0.52740115,\n",
      "       -0.34823465, -0.07143442, -0.27134689, -0.64212304, -0.42146031,\n",
      "       -0.33817832,  0.10136704,  0.11314623, -0.51399812, -0.74678116])}\n"
     ]
    }
   ],
   "source": [
    "print('idx:', len(prop_odd.reps_history.keys()), list(prop_odd.reps_history.keys())[:10])\n",
    "print('userId:', len(prop_odd.reps_history[-1].keys()), list(prop_odd.reps_history[-1].keys())[:10])\n",
    "print('rep:', prop_odd.reps_history[-1]['murasakishionch'])"
   ]
  },
  {
   "cell_type": "markdown",
   "id": "partial-primary",
   "metadata": {},
   "source": [
    "コサイン類似度モデルと順序差減衰モデルでは同じ時点での同じユーザでも各表現が異なっており，正常にパラメータ設定を区別して各表現が構築されている．"
   ]
  },
  {
   "cell_type": "code",
   "execution_count": null,
   "id": "ranging-interference",
   "metadata": {},
   "outputs": [],
   "source": []
  }
 ],
 "metadata": {
  "kernelspec": {
   "display_name": "Python 3",
   "language": "python",
   "name": "python3"
  },
  "language_info": {
   "codemirror_mode": {
    "name": "ipython",
    "version": 3
   },
   "file_extension": ".py",
   "mimetype": "text/x-python",
   "name": "python",
   "nbconvert_exporter": "python",
   "pygments_lexer": "ipython3",
   "version": "3.8.1"
  },
  "latex_envs": {
   "LaTeX_envs_menu_present": true,
   "autoclose": false,
   "autocomplete": true,
   "bibliofile": "biblio.bib",
   "cite_by": "apalike",
   "current_citInitial": 1,
   "eqLabelWithNumbers": true,
   "eqNumInitial": 1,
   "hotkeys": {
    "equation": "Ctrl-E",
    "itemize": "Ctrl-I"
   },
   "labels_anchors": false,
   "latex_user_defs": false,
   "report_style_numbering": false,
   "user_envs_cfg": false
  },
  "toc": {
   "base_numbering": 1,
   "nav_menu": {},
   "number_sections": true,
   "sideBar": true,
   "skip_h1_title": false,
   "title_cell": "目次",
   "title_sidebar": "Contents",
   "toc_cell": true,
   "toc_position": {},
   "toc_section_display": true,
   "toc_window_display": false
  }
 },
 "nbformat": 4,
 "nbformat_minor": 5
}
