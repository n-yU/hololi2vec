{
 "cells": [
  {
   "cell_type": "markdown",
   "id": "differential-georgia",
   "metadata": {},
   "source": [
    "# Format_Data <a class=\"tocSkip\">"
   ]
  },
  {
   "cell_type": "code",
   "execution_count": 76,
   "id": "unexpected-fishing",
   "metadata": {},
   "outputs": [
    {
     "name": "stdout",
     "output_type": "stream",
     "text": [
      "The autoreload extension is already loaded. To reload it, use:\n",
      "  %reload_ext autoreload\n"
     ]
    }
   ],
   "source": [
    "%load_ext autoreload\n",
    "%autoreload 2"
   ]
  },
  {
   "cell_type": "code",
   "execution_count": 77,
   "id": "previous-official",
   "metadata": {},
   "outputs": [
    {
     "data": {
      "text/plain": [
       "PosixPath('/Users/nyu/gdrive/learn/hololi2vec')"
      ]
     },
     "execution_count": 77,
     "metadata": {},
     "output_type": "execute_result"
    }
   ],
   "source": [
    "import sys\n",
    "import re\n",
    "from pathlib import Path\n",
    "import pandas as pd\n",
    "import emoji\n",
    "import neologdn\n",
    "\n",
    "sys.path.append('../bin')\n",
    "import myutil\n",
    "import dataset\n",
    "from dataset import Holomem\n",
    "\n",
    "prj_path = myutil.PROJECT_PATH\n",
    "prj_path"
   ]
  },
  {
   "cell_type": "markdown",
   "id": "latest-columbia",
   "metadata": {
    "toc": true
   },
   "source": [
    "<h1>目次<span class=\"tocSkip\"></span></h1>\n",
    "<div class=\"toc\"><ul class=\"toc-item\"><li><span><a href=\"#取得ツイート確認\" data-toc-modified-id=\"取得ツイート確認-1\"><span class=\"toc-item-num\">1&nbsp;&nbsp;</span>取得ツイート確認</a></span></li><li><span><a href=\"#RT削除\" data-toc-modified-id=\"RT削除-2\"><span class=\"toc-item-num\">2&nbsp;&nbsp;</span>RT削除</a></span></li><li><span><a href=\"#URL除去\" data-toc-modified-id=\"URL除去-3\"><span class=\"toc-item-num\">3&nbsp;&nbsp;</span>URL除去</a></span></li><li><span><a href=\"#絵文字除去\" data-toc-modified-id=\"絵文字除去-4\"><span class=\"toc-item-num\">4&nbsp;&nbsp;</span>絵文字除去</a></span></li><li><span><a href=\"#正規化\" data-toc-modified-id=\"正規化-5\"><span class=\"toc-item-num\">5&nbsp;&nbsp;</span>正規化</a></span></li><li><span><a href=\"#リプライ先（@ユーザ名）の除去\" data-toc-modified-id=\"リプライ先（@ユーザ名）の除去-6\"><span class=\"toc-item-num\">6&nbsp;&nbsp;</span>リプライ先（@ユーザ名）の除去</a></span></li><li><span><a href=\"#ハッシュタグ除去\" data-toc-modified-id=\"ハッシュタグ除去-7\"><span class=\"toc-item-num\">7&nbsp;&nbsp;</span>ハッシュタグ除去</a></span></li><li><span><a href=\"#改行除去\" data-toc-modified-id=\"改行除去-8\"><span class=\"toc-item-num\">8&nbsp;&nbsp;</span>改行除去</a></span></li><li><span><a href=\"#半角記号除去\" data-toc-modified-id=\"半角記号除去-9\"><span class=\"toc-item-num\">9&nbsp;&nbsp;</span>半角記号除去</a></span></li><li><span><a href=\"#全角記号除去\" data-toc-modified-id=\"全角記号除去-10\"><span class=\"toc-item-num\">10&nbsp;&nbsp;</span>全角記号除去</a></span></li><li><span><a href=\"#数字除去\" data-toc-modified-id=\"数字除去-11\"><span class=\"toc-item-num\">11&nbsp;&nbsp;</span>数字除去</a></span></li><li><span><a href=\"#除草\" data-toc-modified-id=\"除草-12\"><span class=\"toc-item-num\">12&nbsp;&nbsp;</span>除草</a></span></li><li><span><a href=\"#特殊記号除去\" data-toc-modified-id=\"特殊記号除去-13\"><span class=\"toc-item-num\">13&nbsp;&nbsp;</span>特殊記号除去</a></span></li><li><span><a href=\"#連続半角スペースをまとめる\" data-toc-modified-id=\"連続半角スペースをまとめる-14\"><span class=\"toc-item-num\">14&nbsp;&nbsp;</span>連続半角スペースをまとめる</a></span></li><li><span><a href=\"#内容のないツイートを削除\" data-toc-modified-id=\"内容のないツイートを削除-15\"><span class=\"toc-item-num\">15&nbsp;&nbsp;</span>内容のないツイートを削除</a></span></li><li><span><a href=\"#ツイートテキスト整形確認\" data-toc-modified-id=\"ツイートテキスト整形確認-16\"><span class=\"toc-item-num\">16&nbsp;&nbsp;</span>ツイートテキスト整形確認</a></span></li><li><span><a href=\"#整形本番\" data-toc-modified-id=\"整形本番-17\"><span class=\"toc-item-num\">17&nbsp;&nbsp;</span>整形本番</a></span></li></ul></div>"
   ]
  },
  {
   "cell_type": "code",
   "execution_count": null,
   "id": "stock-thanks",
   "metadata": {},
   "outputs": [],
   "source": []
  },
  {
   "cell_type": "markdown",
   "id": "attempted-toddler",
   "metadata": {},
   "source": [
    "# 取得ツイート確認\n",
    "`01_Gather_Data`で取得したシオンちゃんの最新3200ツイート（RT含む）から整形方針を考える"
   ]
  },
  {
   "cell_type": "code",
   "execution_count": 3,
   "id": "suspended-cleanup",
   "metadata": {},
   "outputs": [],
   "source": [
    "shion = Holomem(userId='murasakishionch', n_tweet=3200, load=True, verbose=False, preview=False)"
   ]
  },
  {
   "cell_type": "code",
   "execution_count": null,
   "id": "amended-tuner",
   "metadata": {},
   "outputs": [],
   "source": [
    "tweets = shion.df\n",
    "tweets.head(50)"
   ]
  },
  {
   "cell_type": "markdown",
   "id": "sensitive-torture",
   "metadata": {},
   "source": [
    "text列について，上記出力結果より以下の処理が必要と考える\n",
    "- RTの削除\n",
    "- リプライ先（@ユーザ名）の除去\n",
    "- 絵文字・特殊記号の除去\n",
    "- 伸ばし棒・三点リーダ・！・？などの感情的表現の除去\n",
    "- URL\n",
    "\n",
    "など...\n",
    "\n",
    "整形結果を見ながら他にも施すべき処理がないか見ていく"
   ]
  },
  {
   "cell_type": "markdown",
   "id": "bibliographic-radiation",
   "metadata": {},
   "source": [
    "**参考**\n",
    "- https://ohke.hateblo.jp/entry/2019/02/09/141500\n",
    "- https://qiita.com/Hironsan/items/2466fe0f344115aff177"
   ]
  },
  {
   "cell_type": "code",
   "execution_count": null,
   "id": "southern-funds",
   "metadata": {},
   "outputs": [],
   "source": []
  },
  {
   "cell_type": "markdown",
   "id": "color-likelihood",
   "metadata": {},
   "source": [
    "# RT削除\n",
    "- RTはテキストが必ず`RT`から始まるので，最初の2文字を見て判断すればよい\n",
    "- この方法はただのツイートの最初の2文字が`RT`のときも削除されることが見込まれるが，そのようなケースはほとんど存在しないことが予想されるので無視する（誤ってRTとして削除されるのはやむを得ない）"
   ]
  },
  {
   "cell_type": "code",
   "execution_count": null,
   "id": "owned-limitation",
   "metadata": {},
   "outputs": [],
   "source": [
    "tweets = tweets[tweets['text'].str[:2] != 'RT'].copy()\n",
    "tweets.head(20)"
   ]
  },
  {
   "cell_type": "code",
   "execution_count": 6,
   "id": "executed-treat",
   "metadata": {},
   "outputs": [
    {
     "data": {
      "text/plain": [
       "(2635, 3)"
      ]
     },
     "execution_count": 6,
     "metadata": {},
     "output_type": "execute_result"
    }
   ],
   "source": [
    "tweets.shape"
   ]
  },
  {
   "cell_type": "markdown",
   "id": "oriental-cheat",
   "metadata": {},
   "source": [
    "RTは565/3200ツイートだった"
   ]
  },
  {
   "cell_type": "code",
   "execution_count": null,
   "id": "dynamic-portsmouth",
   "metadata": {},
   "outputs": [],
   "source": []
  },
  {
   "cell_type": "markdown",
   "id": "korean-romantic",
   "metadata": {},
   "source": [
    "# URL除去\n",
    "- 自然言語から外れた要素なので除去する\n",
    "- 参考: https://ohke.hateblo.jp/entry/2019/02/09/141500\n",
    "- ↑「URLの除去」を参照"
   ]
  },
  {
   "cell_type": "code",
   "execution_count": null,
   "id": "novel-meaning",
   "metadata": {},
   "outputs": [],
   "source": [
    "sample_tweet = tweets['text'][2]\n",
    "sample_tweet"
   ]
  },
  {
   "cell_type": "code",
   "execution_count": null,
   "id": "married-public",
   "metadata": {},
   "outputs": [],
   "source": [
    "re.sub(r'https?://[\\w/:%#\\$&\\?\\(\\)~\\.=\\+\\-]+', '', sample_tweet)"
   ]
  },
  {
   "cell_type": "markdown",
   "id": "aggressive-investigator",
   "metadata": {},
   "source": [
    "画像付きツイートには`https://t.co/*******`というリンクが必ず末尾に付いているので除去すべき"
   ]
  },
  {
   "cell_type": "code",
   "execution_count": null,
   "id": "certified-durham",
   "metadata": {},
   "outputs": [],
   "source": [
    "tweets['text'] = tweets['text'].map(lambda x: re.sub(r'https?://[\\w/:%#\\$&\\?\\(\\)~\\.=\\+\\-]+', '', x)).copy()\n",
    "tweets.head(20)"
   ]
  },
  {
   "cell_type": "code",
   "execution_count": null,
   "id": "skilled-paintball",
   "metadata": {},
   "outputs": [],
   "source": []
  },
  {
   "cell_type": "markdown",
   "id": "unnecessary-envelope",
   "metadata": {},
   "source": [
    "# 絵文字除去\n",
    "- `emoji`というライブラリを活用して除外できるらしい\n",
    "- 参考: https://ohke.hateblo.jp/entry/2019/02/09/141500\n",
    "- ↑「絵文字の除去 (emoji)」を参照\n",
    "\n",
    "```\n",
    "pip install emoji==1.2.0\n",
    "```"
   ]
  },
  {
   "cell_type": "code",
   "execution_count": null,
   "id": "occupied-chorus",
   "metadata": {},
   "outputs": [],
   "source": [
    "sample_tweet = tweets['text'][2]\n",
    "sample_tweet"
   ]
  },
  {
   "cell_type": "code",
   "execution_count": null,
   "id": "verified-brand",
   "metadata": {},
   "outputs": [],
   "source": [
    "''.join(['' if c in emoji.UNICODE_EMOJI else c for c in sample_tweet])"
   ]
  },
  {
   "cell_type": "markdown",
   "id": "equal-kelly",
   "metadata": {},
   "source": [
    "？？？？？？？？"
   ]
  },
  {
   "cell_type": "code",
   "execution_count": 12,
   "id": "popular-modification",
   "metadata": {},
   "outputs": [
    {
     "data": {
      "text/plain": [
       "dict_keys(['en', 'es', 'pt', 'it'])"
      ]
     },
     "execution_count": 12,
     "metadata": {},
     "output_type": "execute_result"
    }
   ],
   "source": [
    "emoji.UNICODE_EMOJI.keys()"
   ]
  },
  {
   "cell_type": "markdown",
   "id": "desirable-comfort",
   "metadata": {},
   "source": [
    "各絵文字に4ヶ国語の説明が付与された，2次元の辞書になっていた（ここ最近の仕様変更？）"
   ]
  },
  {
   "cell_type": "code",
   "execution_count": 13,
   "id": "continent-puppy",
   "metadata": {},
   "outputs": [
    {
     "name": "stdout",
     "output_type": "stream",
     "text": [
      ":heart_with_arrow:\n",
      ":corazón_con_flecha:\n",
      ":coração_com_flecha:\n",
      ":cuore_con_freccia:\n"
     ]
    }
   ],
   "source": [
    "for k in emoji.UNICODE_EMOJI.keys():\n",
    "    print(emoji.UNICODE_EMOJI[k]['💘'])"
   ]
  },
  {
   "cell_type": "code",
   "execution_count": null,
   "id": "fleet-rolling",
   "metadata": {},
   "outputs": [],
   "source": [
    "''.join(['' if c in emoji.UNICODE_EMOJI['en'] else c for c in sample_tweet])"
   ]
  },
  {
   "cell_type": "markdown",
   "id": "considered-cooperative",
   "metadata": {},
   "source": [
    "無事消えた\n",
    "\n",
    "ちなみに，`emoji.UNICODE_EMOJI['en']`は以下のような構造になっている．"
   ]
  },
  {
   "cell_type": "code",
   "execution_count": 18,
   "id": "thick-congress",
   "metadata": {},
   "outputs": [
    {
     "data": {
      "text/plain": [
       "[('🥇', ':1st_place_medal:'),\n",
       " ('🥈', ':2nd_place_medal:'),\n",
       " ('🥉', ':3rd_place_medal:'),\n",
       " ('🆎', ':AB_button_(blood_type):'),\n",
       " ('🏧', ':ATM_sign:')]"
      ]
     },
     "execution_count": 18,
     "metadata": {},
     "output_type": "execute_result"
    }
   ],
   "source": [
    " [(k, v) for k, v in emoji.UNICODE_EMOJI['en'].items()][:5]"
   ]
  },
  {
   "cell_type": "code",
   "execution_count": null,
   "id": "fuzzy-timber",
   "metadata": {},
   "outputs": [],
   "source": [
    "tweets['text'] = tweets['text'].map(lambda x: ''.join(['' if c in emoji.UNICODE_EMOJI['en'] else c for c in x])).copy()\n",
    "tweets.head(20)"
   ]
  },
  {
   "cell_type": "markdown",
   "id": "textile-athens",
   "metadata": {},
   "source": [
    "`▹▸`は絵文字かと思いきや特殊記号で除去できてなかった（後ほど除去する予定）"
   ]
  },
  {
   "cell_type": "code",
   "execution_count": null,
   "id": "viral-basis",
   "metadata": {},
   "outputs": [],
   "source": []
  },
  {
   "cell_type": "markdown",
   "id": "certified-frontier",
   "metadata": {},
   "source": [
    "# 正規化\n",
    "- `neologdn`というライブラリを活用して除外できるらしい\n",
    "- 参考: https://ohke.hateblo.jp/entry/2019/02/09/141500\n",
    "- ↑「全角・半角の統一と重ね表現の除去 (neologdn)」を参照"
   ]
  },
  {
   "cell_type": "markdown",
   "id": "decent-occupation",
   "metadata": {},
   "source": [
    "### neologdn <a class=\"tocSkip\">\n",
    "- https://github.com/ikegami-yukino/neologdn\n",
    "- `mecab-neologdn`による日本語テキスト正規化ツール\n",
    "- 正規化は[`neologd`のルール](https://github.com/neologd/mecab-ipadic-neologd/wiki/Regexp.ja)に基づいている\n",
    "- 正規化: 全角半角や重ね表現の除去など，細かい表現を統一させること\n",
    "    \n",
    "```\n",
    "pip install neologdn==0.4\n",
    "```"
   ]
  },
  {
   "cell_type": "code",
   "execution_count": null,
   "id": "younger-latino",
   "metadata": {},
   "outputs": [],
   "source": [
    "sample_tweet = tweets['text'][6]\n",
    "sample_tweet"
   ]
  },
  {
   "cell_type": "code",
   "execution_count": null,
   "id": "married-meaning",
   "metadata": {},
   "outputs": [],
   "source": [
    "neologdn.normalize(sample_tweet)"
   ]
  },
  {
   "cell_type": "markdown",
   "id": "given-weekly",
   "metadata": {},
   "source": [
    "*すごい*\n",
    "\n",
    "`〜`が除去され，`！`(全角)が`!`（半角）になっている"
   ]
  },
  {
   "cell_type": "code",
   "execution_count": null,
   "id": "verbal-paintball",
   "metadata": {},
   "outputs": [],
   "source": [
    "tweets['text'] = tweets['text'].map(lambda x: neologdn.normalize(x)).copy()\n",
    "tweets.head(20)"
   ]
  },
  {
   "cell_type": "markdown",
   "id": "encouraging-thing",
   "metadata": {},
   "source": [
    "まだ不要と思われる要素が残っているが，最初より大分すっきりした印象"
   ]
  },
  {
   "cell_type": "code",
   "execution_count": null,
   "id": "immediate-korean",
   "metadata": {},
   "outputs": [],
   "source": []
  },
  {
   "cell_type": "markdown",
   "id": "neither-march",
   "metadata": {},
   "source": [
    "# リプライ先（@ユーザ名）の除去\n",
    "次の2パターンがある\n",
    "- ただのリプ\n",
    "```\n",
    "@aiueo どうも\n",
    "```\n",
    "\n",
    "- サンクスツイート（勝手に名付けました）\n",
    "```\n",
    "サムネイラスト！ @ aiueo\n",
    "```\n",
    "↑相手に通知がいかないorユーザページへのリンクにならないよう， `@`とユーザ名の間に半角スペースを空けている\n",
    "\n",
    "- つまり，`@`とユーザ名（アルファベットと数字で構成）の半角スペースが0/1回のパターンを除去すれば良い\n",
    "- `@`とユーザ名の間が全角スペースになっている可能性もあるが，先の`neologdn`による正規化で[全角スペースはすべて半角スペースに置換されている](https://github.com/neologd/mecab-ipadic-neologd/wiki/Regexp.ja#%E5%85%A8%E8%A7%92%E3%82%B9%E3%83%9A%E3%83%BC%E3%82%B9%E3%81%AF%E5%8D%8A%E8%A7%92%E3%82%B9%E3%83%9A%E3%83%BC%E3%82%B9%E3%81%AB%E7%BD%AE%E6%8F%9B)ので，上のルールで問題ない\n",
    "- `@`とユーザ名は自然言語から外れた要素なので除去すべき"
   ]
  },
  {
   "cell_type": "code",
   "execution_count": null,
   "id": "patient-uganda",
   "metadata": {},
   "outputs": [],
   "source": [
    "sample_tweet_1, sample_tweet_2 = tweets['text'][1], tweets['text'][11]\n",
    "sample_tweet_1, sample_tweet_2"
   ]
  },
  {
   "cell_type": "code",
   "execution_count": null,
   "id": "above-charger",
   "metadata": {},
   "outputs": [],
   "source": [
    "print(re.sub(r'@[ ]?[a-zA-z0-9]+', '', sample_tweet_1))\n",
    "print(re.sub(r'@[ ]?[a-zA-z0-9]+', '', sample_tweet_2))"
   ]
  },
  {
   "cell_type": "markdown",
   "id": "entitled-blind",
   "metadata": {},
   "source": [
    "いずれもリプライ先の部分が除去できていることがわかる"
   ]
  },
  {
   "cell_type": "code",
   "execution_count": null,
   "id": "sustained-blank",
   "metadata": {},
   "outputs": [],
   "source": [
    "tweets['text'] = tweets['text'].map(lambda x: re.sub(r'@[ ]?[a-zA-z0-9]+', '', x)).copy()\n",
    "tweets.head(20)"
   ]
  },
  {
   "cell_type": "code",
   "execution_count": null,
   "id": "conscious-divorce",
   "metadata": {},
   "outputs": [],
   "source": []
  },
  {
   "cell_type": "markdown",
   "id": "boring-yellow",
   "metadata": {},
   "source": [
    "#  ハッシュタグ除去\n",
    "- ハッシュタグは文章のパーツにあたらないため除去する\n",
    "- 参考: https://qiita.com/corin8823/items/75309761833d823cac6f"
   ]
  },
  {
   "cell_type": "code",
   "execution_count": null,
   "id": "widespread-claim",
   "metadata": {},
   "outputs": [],
   "source": [
    "sample_tweet = tweets['text'][30]\n",
    "sample_tweet"
   ]
  },
  {
   "cell_type": "markdown",
   "id": "frank-projection",
   "metadata": {},
   "source": [
    "- `#`が全角の可能性もあるが，[neologdnによって半角に置換されている](https://github.com/neologd/mecab-ipadic-neologd/wiki/Regexp.ja#%E4%BB%A5%E4%B8%8B%E3%81%AE%E5%85%A8%E8%A7%92%E8%A8%98%E5%8F%B7%E3%81%AF%E5%8D%8A%E8%A7%92%E8%A8%98%E5%8F%B7%E3%81%AB%E7%BD%AE%E6%8F%9B)ので，以下の正規表現で問題ない\n",
    "- 全角英数字も同様に[neologdnで半角に置換されている](https://github.com/neologd/mecab-ipadic-neologd/wiki/Regexp.ja#%E5%85%A8%E8%A7%92%E8%8B%B1%E6%95%B0%E5%AD%97%E3%81%AF%E5%8D%8A%E8%A7%92%E3%81%AB%E7%BD%AE%E6%8F%9B)ので問題ない"
   ]
  },
  {
   "cell_type": "code",
   "execution_count": null,
   "id": "listed-bikini",
   "metadata": {},
   "outputs": [],
   "source": [
    "re.sub(r'[#][A-Za-z一-鿆0-9ぁ-ヶｦ-ﾟー]+', '', sample_tweet)"
   ]
  },
  {
   "cell_type": "markdown",
   "id": "brutal-melissa",
   "metadata": {},
   "source": [
    "[Bloom,](https://bloom.hololive.tv/)のハッシュタグを除去できた（※このノートをGitHubのプッシュする際，出力されたツイート内容はすべて消しています）"
   ]
  },
  {
   "cell_type": "code",
   "execution_count": null,
   "id": "excited-lambda",
   "metadata": {},
   "outputs": [],
   "source": [
    "tweets['text'] = tweets['text'].map(lambda x: re.sub(r'[#][A-Za-z一-鿆0-9ぁ-ヶｦ-ﾟー]+', '', x)).copy()\n",
    "tweets.head(20)"
   ]
  },
  {
   "cell_type": "code",
   "execution_count": null,
   "id": "thermal-margin",
   "metadata": {},
   "outputs": [],
   "source": []
  },
  {
   "cell_type": "markdown",
   "id": "according-cross",
   "metadata": {},
   "source": [
    "# 改行除去\n",
    "- 自然言語から外れた要素なので除去する\n",
    "- いずれも半角スペースに置き換える"
   ]
  },
  {
   "cell_type": "code",
   "execution_count": null,
   "id": "medieval-combat",
   "metadata": {},
   "outputs": [],
   "source": [
    "sample_tweet = tweets['text'][6]\n",
    "sample_tweet"
   ]
  },
  {
   "cell_type": "code",
   "execution_count": null,
   "id": "agricultural-suspension",
   "metadata": {},
   "outputs": [],
   "source": [
    "re.sub(r'[\\n]', ' ', sample_tweet)"
   ]
  },
  {
   "cell_type": "markdown",
   "id": "robust-monster",
   "metadata": {},
   "source": [
    "すべて消えていることを確認"
   ]
  },
  {
   "cell_type": "code",
   "execution_count": null,
   "id": "central-ethernet",
   "metadata": {},
   "outputs": [],
   "source": [
    "tweets['text'] = tweets['text'].map(lambda x: re.sub(r'[\\n]', ' ', x)).copy()\n",
    "tweets.head(20)"
   ]
  },
  {
   "cell_type": "code",
   "execution_count": null,
   "id": "hollywood-virgin",
   "metadata": {},
   "outputs": [],
   "source": []
  },
  {
   "cell_type": "markdown",
   "id": "illegal-cholesterol",
   "metadata": {},
   "source": [
    "# 半角記号除去\n",
    "- 半角記号リストは以下で示されているものを参考（一部追加）\n",
    "- https://qiita.com/waterame/items/28f52b8f4ffff81d658b\n",
    "- 半角スペースに置換する"
   ]
  },
  {
   "cell_type": "code",
   "execution_count": null,
   "id": "joint-technical",
   "metadata": {},
   "outputs": [],
   "source": [
    "sample_tweet = tweets['text'][6]\n",
    "sample_tweet"
   ]
  },
  {
   "cell_type": "code",
   "execution_count": null,
   "id": "lesbian-orange",
   "metadata": {},
   "outputs": [],
   "source": [
    "re.sub(r'[!\\\"\\#$%&\\'()*+,-./:;<=>?@[\\]^_`{|}~]', ' ', sample_tweet)"
   ]
  },
  {
   "cell_type": "code",
   "execution_count": null,
   "id": "coral-prevention",
   "metadata": {},
   "outputs": [],
   "source": [
    "tweets['text'] = tweets['text'].map(lambda x: re.sub(r'[!\\\"\\#$%&\\'()*+,-./:;<=>?@[\\]^_`{|}~\\\\]', ' ', x)).copy()\n",
    "tweets.head(20)"
   ]
  },
  {
   "cell_type": "code",
   "execution_count": null,
   "id": "orange-narrative",
   "metadata": {},
   "outputs": [],
   "source": []
  },
  {
   "cell_type": "markdown",
   "id": "romantic-pathology",
   "metadata": {},
   "source": [
    "# 全角記号除去\n",
    "- `neologdn`は[ある程度の全角記号を半角記号に置換している](https://github.com/neologd/mecab-ipadic-neologd/wiki/Regexp.ja#%E4%BB%A5%E4%B8%8B%E3%81%AE%E5%85%A8%E8%A7%92%E8%A8%98%E5%8F%B7%E3%81%AF%E5%8D%8A%E8%A7%92%E8%A8%98%E5%8F%B7%E3%81%AB%E7%BD%AE%E6%8F%9B)ので，先の半角記号除去で消えているものもあるが，一部全角記号は置換されず全角のまま残っており除去できていない\n",
    "- 手動設定で可能な限り除去する"
   ]
  },
  {
   "cell_type": "code",
   "execution_count": null,
   "id": "finished-cradle",
   "metadata": {},
   "outputs": [],
   "source": [
    "sample_tweet = tweets['text'][2]\n",
    "sample_tweet"
   ]
  },
  {
   "cell_type": "code",
   "execution_count": null,
   "id": "electrical-lightweight",
   "metadata": {},
   "outputs": [],
   "source": [
    "re.sub(r'[・〜＋｜’；？：＞＜」「（）％＄＃＠＆＾＊！？【】『』＼／…○△□●▲■▼▶◀▽★☆※‥]', '', sample_tweet)"
   ]
  },
  {
   "cell_type": "markdown",
   "id": "saved-landing",
   "metadata": {},
   "source": [
    "↑全角記号除去が素晴らしく貢献した例"
   ]
  },
  {
   "cell_type": "code",
   "execution_count": null,
   "id": "enabling-triangle",
   "metadata": {},
   "outputs": [],
   "source": [
    "tweets['text'] = tweets['text'].map(lambda x: re.sub(r'[・〜＋｜’；：＞＜」「（）％＄＃＠＆＾＊！？【】『』［］＼／…○△□●▲■▼▶◀▽★☆※‥]', '', x)).copy()\n",
    "tweets.head(20)"
   ]
  },
  {
   "cell_type": "code",
   "execution_count": null,
   "id": "falling-hours",
   "metadata": {},
   "outputs": [],
   "source": []
  },
  {
   "cell_type": "markdown",
   "id": "southern-injection",
   "metadata": {},
   "source": [
    "# 数字除去\n",
    "- 見た感じ数字も不要な気がしてきた\n",
    "    - 出現回数多くなりすぎる\n",
    "    - 半角記号消した結果意味不明なものになっているケースがある\n",
    "- [全角数字は`neologdn`で半角に置換されている](https://github.com/neologd/mecab-ipadic-neologd/wiki/Regexp.ja#%E5%85%A8%E8%A7%92%E8%8B%B1%E6%95%B0%E5%AD%97%E3%81%AF%E5%8D%8A%E8%A7%92%E3%81%AB%E7%BD%AE%E6%8F%9B)ため，半角数字のみ除去すれば良い"
   ]
  },
  {
   "cell_type": "code",
   "execution_count": null,
   "id": "connected-burst",
   "metadata": {},
   "outputs": [],
   "source": [
    "sample_tweet = tweets['text'][20]\n",
    "sample_tweet"
   ]
  },
  {
   "cell_type": "code",
   "execution_count": null,
   "id": "touched-context",
   "metadata": {},
   "outputs": [],
   "source": [
    "re.sub(r'[0-9]', '', sample_tweet)"
   ]
  },
  {
   "cell_type": "markdown",
   "id": "forty-pierre",
   "metadata": {},
   "source": [
    "半角記号除去で`:`を消した結果，無意味になっていた時刻表記の残骸を消せた"
   ]
  },
  {
   "cell_type": "code",
   "execution_count": null,
   "id": "widespread-cornell",
   "metadata": {},
   "outputs": [],
   "source": [
    "tweets['text'] = tweets['text'].map(lambda x: re.sub(r'[0-9]', '', x)).copy()\n",
    "tweets.head(20)"
   ]
  },
  {
   "cell_type": "code",
   "execution_count": null,
   "id": "arranged-shark",
   "metadata": {},
   "outputs": [],
   "source": []
  },
  {
   "cell_type": "markdown",
   "id": "comfortable-perry",
   "metadata": {},
   "source": [
    "# 除草\n",
    "-「草」は除外しないが，「www」は除外する\n",
    "- 単芝は除外しない（wを含む単語が崩壊するため）\n",
    "- 全角`ｗ`は[neologdnで半角に置換されている](https://github.com/neologd/mecab-ipadic-neologd/wiki/Regexp.ja#%E5%85%A8%E8%A7%92%E8%8B%B1%E6%95%B0%E5%AD%97%E3%81%AF%E5%8D%8A%E8%A7%92%E3%81%AB%E7%BD%AE%E6%8F%9B)ので正規表現に含める必要はない"
   ]
  },
  {
   "cell_type": "code",
   "execution_count": 44,
   "id": "fifth-priest",
   "metadata": {},
   "outputs": [
    {
     "data": {
      "text/plain": [
       "'えwwむりｗあwww'"
      ]
     },
     "execution_count": 44,
     "metadata": {},
     "output_type": "execute_result"
    }
   ],
   "source": [
    "sample_tweet = 'えwwむりｗあwww'\n",
    "sample_tweet"
   ]
  },
  {
   "cell_type": "code",
   "execution_count": 45,
   "id": "mysterious-better",
   "metadata": {},
   "outputs": [
    {
     "data": {
      "text/plain": [
       "'え むりｗあ '"
      ]
     },
     "execution_count": 45,
     "metadata": {},
     "output_type": "execute_result"
    }
   ],
   "source": [
    "re.sub(r'[w]{2,}', ' ', sample_tweet)"
   ]
  },
  {
   "cell_type": "code",
   "execution_count": null,
   "id": "eastern-volleyball",
   "metadata": {},
   "outputs": [],
   "source": [
    "tweets['text'] = tweets['text'].map(lambda x: re.sub(r'[w]{2,}', ' ', x)).copy()\n",
    "tweets.head(20)"
   ]
  },
  {
   "cell_type": "code",
   "execution_count": null,
   "id": "changing-aluminum",
   "metadata": {},
   "outputs": [],
   "source": []
  },
  {
   "cell_type": "markdown",
   "id": "ordered-tribute",
   "metadata": {},
   "source": [
    "# 特殊記号除去\n",
    "- 多くのホロメンのツイートをチェックして特殊な記号リストを用意\n",
    "- 予想していたことだが，かなり特殊な記号（どこの言語やねんってやつ）を使った顔文字が多かった\n",
    "- これでも完全に除去できていないが，キリがないので諦める\n",
    "- 今更だが，Unicode範囲指定の方が良かったかもしれない（手動で済むと思いきやめちゃくちゃ多種類だった）\n",
    "- あとのモデル学習結果があまりにも酷い場合は再整形する"
   ]
  },
  {
   "cell_type": "code",
   "execution_count": 66,
   "id": "spoken-interface",
   "metadata": {},
   "outputs": [
    {
     "data": {
      "text/plain": [
       "'ก˶᷇ ᷆˵ᯅʅʃ▓ु▷§٩งᐠ•๑ว≡￣⃕シᐟ𓏸◝ཫᆺ́ㅅ♡̩˘◥￢ᔦ✿﹀◦⌓┃₍₍⁾⁾  ृ๛ ͟͟͞ᔨ⸜ㅂ◤꒳。オ◟ﾟ｀ʖ└ᴗ´⋆˚ଘ⸝╹│Ꙭ̮𓂂▹▸°↝̀͜੭ンㄘζو̑̑߹〃³¦༥˙ꇤ꜄꜆ ⃔зੈ॑₊ʘ ωᗜ⊂‧ᐛ⌒♆❛ᵕ✩♪◡▀̿ヾ𖥦ᵒ̴̶̷✧ˆˊˋ'"
      ]
     },
     "execution_count": 66,
     "metadata": {},
     "output_type": "execute_result"
    }
   ],
   "source": [
    "sample_tweet = r'ก˶᷇ ᷆˵ᯅʅʃ▓ु▷§٩งᐠ•๑ว≡￣⃕シᐟ𓏸◝ཫᆺ́ㅅ♡̩˘◥￢ᔦ✿﹀◦⌓┃₍₍⁾⁾  ृ๛ ͟͟͞ᔨ⸜ㅂ◤꒳。オ◟ﾟ｀ʖ└ᴗ´⋆˚ଘ⸝╹│Ꙭ̮𓂂▹▸°↝̀͜੭ンㄘζو̑̑߹〃³¦༥˙ꇤ꜄꜆ ⃔зੈ॑₊ʘ ωᗜ⊂‧ᐛ⌒♆❛ᵕ✩♪◡▀̿ヾ𖥦ᵒ̴̶̷✧ˆˊˋ'\n",
    "sample_tweet"
   ]
  },
  {
   "cell_type": "code",
   "execution_count": 67,
   "id": "authentic-sharing",
   "metadata": {},
   "outputs": [
    {
     "data": {
      "text/plain": [
       "'                      シ                                    オ                       ン                                              '"
      ]
     },
     "execution_count": 67,
     "metadata": {},
     "output_type": "execute_result"
    }
   ],
   "source": [
    "re.sub(r'[ก˶᷇ ᷆˵ᯅʅʃ▓ु▷§٩งᐠ•๑ว≡￣⃕ᐟ𓏸◝ཫᆺ́ㅅ♡̩˘◥￢ᔦ✿﹀◦⌓┃₍₍⁾⁾  ृ๛ ͟͟͞ᔨ⸜ㅂ◤꒳。◟ﾟ｀ʖ└ᴗ´⋆˚ଘ⸝╹│Ꙭ̮𓂂▹▸°↝̀͜੭ㄘζو̑̑߹〃³¦༥˙ꇤ꜄꜆ ⃔зੈ॑₊ʘ ωᗜ⊂‧ᐛ⌒♆❛ᵕ✩♪◡▀̿ヾ𖥦ᵒ̴̶̷✧ˆˊˋ]', ' ', sample_tweet)"
   ]
  },
  {
   "cell_type": "code",
   "execution_count": null,
   "id": "heard-crawford",
   "metadata": {},
   "outputs": [],
   "source": [
    "tweets['text'] = tweets['text'].map(lambda x: re.sub(r'[ก˶᷇ ᷆˵ᯅʅʃ▓ु▷§٩งᐠ•๑ว≡￣⃕ᐟ𓏸◝ཫᆺ́ㅅ♡̩˘◥￢ᔦ✿﹀◦⌓┃₍₍⁾⁾  ृ๛ ͟͟͞ᔨ⸜ㅂ◤꒳。◟ﾟ｀ʖ└ᴗ´⋆˚ଘ⸝╹│Ꙭ̮𓂂▹▸°↝̀͜੭ㄘζو̑̑߹〃³¦༥˙ꇤ꜄꜆ ⃔зੈ॑₊ʘ ωᗜ⊂‧ᐛ⌒♆❛ᵕ✩♪◡▀̿ヾ𖥦ᵒ̴̶̷✧ˆˊˋ]', ' ', x)).copy()\n",
    "tweets.head(20)"
   ]
  },
  {
   "cell_type": "markdown",
   "id": "civic-champagne",
   "metadata": {},
   "source": [
    "シオンちゃんの最新30ツイートに限っては特殊記号はすべて除去できている"
   ]
  },
  {
   "cell_type": "code",
   "execution_count": null,
   "id": "agreed-advantage",
   "metadata": {},
   "outputs": [],
   "source": []
  },
  {
   "cell_type": "markdown",
   "id": "departmental-measure",
   "metadata": {},
   "source": [
    "# 連続半角スペースをまとめる\n",
    "- [`neologdn`は1つ以上の半角スペースを1つの半角スペースに置換する](https://github.com/neologd/mecab-ipadic-neologd/wiki/Regexp.ja#1%E3%81%A4%E4%BB%A5%E4%B8%8A%E3%81%AE%E5%8D%8A%E8%A7%92%E3%82%B9%E3%83%9A%E3%83%BC%E3%82%B9%E3%81%AF1%E3%81%A4%E3%81%AE%E5%8D%8A%E8%A7%92%E3%82%B9%E3%83%9A%E3%83%BC%E3%82%B9%E3%81%AB%E7%BD%AE%E6%8F%9B)が，`neologdn`による正規化のあとで行った処理の結果，新たに連続半角スペースが誕生している可能性があるため，改めてこの処理を行う\n",
    "- [全角スペースは半角スペースに置換しており](https://github.com/neologd/mecab-ipadic-neologd/wiki/Regexp.ja#%E5%85%A8%E8%A7%92%E3%82%B9%E3%83%9A%E3%83%BC%E3%82%B9%E3%81%AF%E5%8D%8A%E8%A7%92%E3%82%B9%E3%83%9A%E3%83%BC%E3%82%B9%E3%81%AB%E7%BD%AE%E6%8F%9B)，以後の処理で全角スペースへの置換処理は行っていないので正規表現には不要"
   ]
  },
  {
   "cell_type": "code",
   "execution_count": 51,
   "id": "together-ivory",
   "metadata": {},
   "outputs": [
    {
     "data": {
      "text/plain": [
       "'xxxxx     あ w x x  w'"
      ]
     },
     "execution_count": 51,
     "metadata": {},
     "output_type": "execute_result"
    }
   ],
   "source": [
    "sample_tweet = 'xxxxx     あ w x x  w'\n",
    "sample_tweet"
   ]
  },
  {
   "cell_type": "code",
   "execution_count": 52,
   "id": "unauthorized-vector",
   "metadata": {},
   "outputs": [
    {
     "data": {
      "text/plain": [
       "'xxxxx あ w x x w'"
      ]
     },
     "execution_count": 52,
     "metadata": {},
     "output_type": "execute_result"
    }
   ],
   "source": [
    "re.sub(r'[ ]+', ' ', sample_tweet)"
   ]
  },
  {
   "cell_type": "code",
   "execution_count": null,
   "id": "opening-methodology",
   "metadata": {},
   "outputs": [],
   "source": [
    "tweets['text'] = tweets['text'].map(lambda x: re.sub(r'[ ]+', ' ', x)).copy()\n",
    "tweets.head(20)"
   ]
  },
  {
   "cell_type": "code",
   "execution_count": null,
   "id": "acknowledged-invention",
   "metadata": {},
   "outputs": [],
   "source": []
  },
  {
   "cell_type": "markdown",
   "id": "seven-elder",
   "metadata": {},
   "source": [
    "# 内容のないツイートを削除\n",
    "除去処理の結果内容が消滅したツイートは行ごと消す"
   ]
  },
  {
   "cell_type": "code",
   "execution_count": null,
   "id": "revolutionary-trance",
   "metadata": {},
   "outputs": [],
   "source": [
    "tweets = tweets[~tweets['text'].isin([' ', ''])]\n",
    "tweets.head(20)"
   ]
  },
  {
   "cell_type": "code",
   "execution_count": 55,
   "id": "suitable-label",
   "metadata": {},
   "outputs": [
    {
     "data": {
      "text/plain": [
       "2573"
      ]
     },
     "execution_count": 55,
     "metadata": {},
     "output_type": "execute_result"
    }
   ],
   "source": [
    "len(tweets)"
   ]
  },
  {
   "cell_type": "markdown",
   "id": "aggressive-funeral",
   "metadata": {},
   "source": [
    "RT削除時点で2635/3200ツイート残っていたが，最終的に62ツイートさらに消えて，シオンちゃんのツイート数は2573になった"
   ]
  },
  {
   "cell_type": "code",
   "execution_count": null,
   "id": "chemical-multimedia",
   "metadata": {},
   "outputs": [],
   "source": []
  },
  {
   "cell_type": "markdown",
   "id": "perfect-tribute",
   "metadata": {},
   "source": [
    "# ツイートテキスト整形確認\n",
    "- かなり掃除できてきたので，他のホロメンでも同様の除外をしてみる\n",
    "- RT除去は行自体削除するので関数適用前に実行する\n",
    "- 内容のないツイートも行自体削除するが，これは関数適用後に実行する\n",
    "- あまりに無視できない不要な文字があれば後ほど除外対象に加える（「13.特殊記号除去」はこの結果を見ながら行っている）"
   ]
  },
  {
   "cell_type": "code",
   "execution_count": 63,
   "id": "inclusive-pontiac",
   "metadata": {},
   "outputs": [],
   "source": [
    "%autoreload"
   ]
  },
  {
   "cell_type": "code",
   "execution_count": 64,
   "id": "parliamentary-bankruptcy",
   "metadata": {},
   "outputs": [
    {
     "data": {
      "text/html": [
       "<div>\n",
       "<style scoped>\n",
       "    .dataframe tbody tr th:only-of-type {\n",
       "        vertical-align: middle;\n",
       "    }\n",
       "\n",
       "    .dataframe tbody tr th {\n",
       "        vertical-align: top;\n",
       "    }\n",
       "\n",
       "    .dataframe thead th {\n",
       "        text-align: right;\n",
       "    }\n",
       "</style>\n",
       "<table border=\"1\" class=\"dataframe\">\n",
       "  <thead>\n",
       "    <tr style=\"text-align: right;\">\n",
       "      <th></th>\n",
       "      <th>twitter</th>\n",
       "      <th>name</th>\n",
       "      <th>generation</th>\n",
       "    </tr>\n",
       "  </thead>\n",
       "  <tbody>\n",
       "    <tr>\n",
       "      <th>0</th>\n",
       "      <td>tokino_sora</td>\n",
       "      <td>ときのそら</td>\n",
       "      <td>0</td>\n",
       "    </tr>\n",
       "    <tr>\n",
       "      <th>1</th>\n",
       "      <td>robocosan</td>\n",
       "      <td>ロボ子さん</td>\n",
       "      <td>0</td>\n",
       "    </tr>\n",
       "    <tr>\n",
       "      <th>2</th>\n",
       "      <td>sakuramiko35</td>\n",
       "      <td>さくらみこ</td>\n",
       "      <td>0</td>\n",
       "    </tr>\n",
       "    <tr>\n",
       "      <th>3</th>\n",
       "      <td>suisei_hosimati</td>\n",
       "      <td>星街すいせい</td>\n",
       "      <td>0</td>\n",
       "    </tr>\n",
       "    <tr>\n",
       "      <th>4</th>\n",
       "      <td>yozoramel</td>\n",
       "      <td>夜空メル</td>\n",
       "      <td>1</td>\n",
       "    </tr>\n",
       "  </tbody>\n",
       "</table>\n",
       "</div>"
      ],
      "text/plain": [
       "           twitter    name generation\n",
       "0      tokino_sora   ときのそら          0\n",
       "1        robocosan   ロボ子さん          0\n",
       "2     sakuramiko35   さくらみこ          0\n",
       "3  suisei_hosimati  星街すいせい          0\n",
       "4        yozoramel    夜空メル          1"
      ]
     },
     "execution_count": 64,
     "metadata": {},
     "output_type": "execute_result"
    }
   ],
   "source": [
    "hololive_members = pd.read_csv(Path(prj_path, 'data/hololive_members.csv'))\n",
    "hololive_members.head()"
   ]
  },
  {
   "cell_type": "code",
   "execution_count": null,
   "id": "moving-framing",
   "metadata": {},
   "outputs": [],
   "source": [
    "for userId in hololive_members['twitter']:\n",
    "    holomem = Holomem(userId=userId, n_tweet=3200, load=True, verbose=False, preview=False)\n",
    "    tweets = holomem.df.copy()\n",
    "    latest_30_tweets = tweets[tweets['text'].str[:2] != 'RT'].head(30)\n",
    "    \n",
    "    latest_30_tweets['text'] = latest_30_tweets['text'].map(dataset.format_tweet_text).copy()\n",
    "    latest_30_tweets = latest_30_tweets[~latest_30_tweets['text'].isin([' ', ''])]\n",
    "    print(userId)\n",
    "    print(latest_30_tweets['text'])\n",
    "    print()"
   ]
  },
  {
   "cell_type": "markdown",
   "id": "legendary-corporation",
   "metadata": {},
   "source": [
    "- 各ホロメンの最新30ツイートに限っては不要そうな文字はすべて除去できている（はず）\n",
    "- これ以上精査してもキリがないので一旦整形処理はここで切り上げる"
   ]
  },
  {
   "cell_type": "code",
   "execution_count": null,
   "id": "grand-impression",
   "metadata": {},
   "outputs": [],
   "source": []
  },
  {
   "cell_type": "markdown",
   "id": "violent-lucas",
   "metadata": {},
   "source": [
    "# 整形本番\n",
    "- 上記for文の処理を`Holomem`クラスのインスタンスメソッド`Holomem.format_tweets_df()`とし，各ホロメンのツイートデータフレームを変換する\n",
    "- 念のため（整形方針を立て直すなど），各ホロメンの変換前のデータフレーム（tsv形式ファイル）は`data/rt_true_3200`にコピーして残しておく"
   ]
  },
  {
   "cell_type": "code",
   "execution_count": 80,
   "id": "exempt-hammer",
   "metadata": {},
   "outputs": [
    {
     "name": "stderr",
     "output_type": "stream",
     "text": [
      "../bin/dataset.py:163: SettingWithCopyWarning: \n",
      "A value is trying to be set on a copy of a slice from a DataFrame.\n",
      "Try using .loc[row_indexer,col_indexer] = value instead\n",
      "\n",
      "See the caveats in the documentation: https://pandas.pydata.org/pandas-docs/stable/user_guide/indexing.html#returning-a-view-versus-a-copy\n",
      "  tweets_df_without_rt['text'] = tweets_df_without_rt['text'].map(format_tweet_text).copy()\n"
     ]
    },
    {
     "name": "stdout",
     "output_type": "stream",
     "text": [
      "CPU times: user 15.7 s, sys: 389 ms, total: 16.1 s\n",
      "Wall time: 16.1 s\n"
     ]
    }
   ],
   "source": [
    "%%time\n",
    "for userId in hololive_members['twitter']:\n",
    "    holomem = Holomem(userId=userId, n_tweet=3200, load=True, verbose=False, preview=False)\n",
    "    holomem.format_tweets_df()"
   ]
  },
  {
   "cell_type": "code",
   "execution_count": null,
   "id": "boolean-sailing",
   "metadata": {},
   "outputs": [],
   "source": [
    "for userId in hololive_members['twitter']:\n",
    "    holomem = Holomem(userId=userId, n_tweet=3200, load=True, verbose=False, preview=False)\n",
    "    \n",
    "    print(userId)\n",
    "    print(holomem.df['text'].head())\n",
    "    print()"
   ]
  },
  {
   "cell_type": "code",
   "execution_count": null,
   "id": "presidential-consumption",
   "metadata": {},
   "outputs": [],
   "source": []
  }
 ],
 "metadata": {
  "kernelspec": {
   "display_name": "Python 3",
   "language": "python",
   "name": "python3"
  },
  "language_info": {
   "codemirror_mode": {
    "name": "ipython",
    "version": 3
   },
   "file_extension": ".py",
   "mimetype": "text/x-python",
   "name": "python",
   "nbconvert_exporter": "python",
   "pygments_lexer": "ipython3",
   "version": "3.8.1"
  },
  "latex_envs": {
   "LaTeX_envs_menu_present": true,
   "autoclose": false,
   "autocomplete": true,
   "bibliofile": "biblio.bib",
   "cite_by": "apalike",
   "current_citInitial": 1,
   "eqLabelWithNumbers": true,
   "eqNumInitial": 1,
   "hotkeys": {
    "equation": "Ctrl-E",
    "itemize": "Ctrl-I"
   },
   "labels_anchors": false,
   "latex_user_defs": false,
   "report_style_numbering": false,
   "user_envs_cfg": false
  },
  "toc": {
   "base_numbering": 1,
   "nav_menu": {},
   "number_sections": true,
   "sideBar": true,
   "skip_h1_title": false,
   "title_cell": "目次",
   "title_sidebar": "Contents",
   "toc_cell": true,
   "toc_position": {},
   "toc_section_display": true,
   "toc_window_display": false
  }
 },
 "nbformat": 4,
 "nbformat_minor": 5
}
